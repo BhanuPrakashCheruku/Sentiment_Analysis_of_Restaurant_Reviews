{
  "nbformat": 4,
  "nbformat_minor": 0,
  "metadata": {
    "colab": {
      "provenance": []
    },
    "kernelspec": {
      "name": "python3",
      "display_name": "Python 3"
    },
    "language_info": {
      "name": "python"
    }
  },
  "cells": [
    {
      "cell_type": "markdown",
      "source": [
        "# **IBM SkillsBuild edunet Foundations**\n",
        "---"
      ],
      "metadata": {
        "id": "4qeqjZ1Ayx0B"
      }
    },
    {
      "cell_type": "markdown",
      "source": [
        "# **Sentiment Analysis of Restaurant Reviews**\n",
        "\n",
        "## Author : Cheruku Bhanu Prakash\n",
        ""
      ],
      "metadata": {
        "id": "zzdMhvJsyQb7"
      }
    },
    {
      "cell_type": "markdown",
      "source": [
        "# **Connecting Drive**\n",
        "\n",
        "---\n",
        "\n"
      ],
      "metadata": {
        "id": "-RFgu8R-ZwKF"
      }
    },
    {
      "cell_type": "code",
      "source": [
        "from google.colab import drive\n",
        "drive.mount(\"/content/drive/\")"
      ],
      "metadata": {
        "colab": {
          "base_uri": "https://localhost:8080/"
        },
        "id": "7YWks-qszIPr",
        "outputId": "57478497-aad7-4cc0-846a-768aef7e127c"
      },
      "execution_count": null,
      "outputs": [
        {
          "output_type": "stream",
          "name": "stdout",
          "text": [
            "Mounted at /content/drive/\n"
          ]
        }
      ]
    },
    {
      "cell_type": "markdown",
      "source": [
        "# **Importing Important Libraries**\n",
        "\n",
        "---\n",
        "\n"
      ],
      "metadata": {
        "id": "PQq5JvjGaF8q"
      }
    },
    {
      "cell_type": "code",
      "source": [
        "import numpy as np\n",
        "import pandas as pd\n",
        "import warnings\n",
        "warnings.filterwarnings('ignore')"
      ],
      "metadata": {
        "id": "1BxgbUJ6zDnl"
      },
      "execution_count": null,
      "outputs": []
    },
    {
      "cell_type": "markdown",
      "source": [
        "## About Dataset\n",
        "\n",
        "**Sentiment Analysis of Restaurant Reviews**\n",
        "\n",
        "The purpose of this analysis is to build a prediction model to predict whether a review on the restaurant is positive or negative. To do so, we will work on Restaurant Review dataset, we will load it into predicitve algorithms Multinomial Naive Bayes, Bernoulli Naive Bayes and Logistic Regression. In the end, we hope to find a \"best\" model for predicting the review's sentiment.\n",
        "\n",
        "**Dataset**: Restaurant_Reviews.tsv is a dataset from Kaggle datasets which consists of 1000 reviews on a restaurant.\n"
      ],
      "metadata": {
        "id": "Cna5KgoSzfre"
      }
    },
    {
      "cell_type": "code",
      "source": [
        "data = pd.read_csv(\"/content/drive/MyDrive/Restaurant_Reviews.tsv\",delimiter=\"\\t\",quoting=3)\n",
        "data.head(10)"
      ],
      "metadata": {
        "id": "NOpxiIAb0Fs5",
        "colab": {
          "base_uri": "https://localhost:8080/",
          "height": 363
        },
        "outputId": "49bb04a2-9657-460c-a1c6-aedde04bdd30"
      },
      "execution_count": null,
      "outputs": [
        {
          "output_type": "execute_result",
          "data": {
            "text/plain": [
              "                                              Review  Liked\n",
              "0                           Wow... Loved this place.      1\n",
              "1                                 Crust is not good.      0\n",
              "2          Not tasty and the texture was just nasty.      0\n",
              "3  Stopped by during the late May bank holiday of...      1\n",
              "4  The selection on the menu was great and so wer...      1\n",
              "5     Now I am getting angry and I want my damn pho.      0\n",
              "6              Honeslty it didn't taste THAT fresh.)      0\n",
              "7  The potatoes were like rubber and you could te...      0\n",
              "8                          The fries were great too.      1\n",
              "9                                     A great touch.      1"
            ],
            "text/html": [
              "\n",
              "  <div id=\"df-384ca2b4-284e-4213-8daf-417508d51d42\" class=\"colab-df-container\">\n",
              "    <div>\n",
              "<style scoped>\n",
              "    .dataframe tbody tr th:only-of-type {\n",
              "        vertical-align: middle;\n",
              "    }\n",
              "\n",
              "    .dataframe tbody tr th {\n",
              "        vertical-align: top;\n",
              "    }\n",
              "\n",
              "    .dataframe thead th {\n",
              "        text-align: right;\n",
              "    }\n",
              "</style>\n",
              "<table border=\"1\" class=\"dataframe\">\n",
              "  <thead>\n",
              "    <tr style=\"text-align: right;\">\n",
              "      <th></th>\n",
              "      <th>Review</th>\n",
              "      <th>Liked</th>\n",
              "    </tr>\n",
              "  </thead>\n",
              "  <tbody>\n",
              "    <tr>\n",
              "      <th>0</th>\n",
              "      <td>Wow... Loved this place.</td>\n",
              "      <td>1</td>\n",
              "    </tr>\n",
              "    <tr>\n",
              "      <th>1</th>\n",
              "      <td>Crust is not good.</td>\n",
              "      <td>0</td>\n",
              "    </tr>\n",
              "    <tr>\n",
              "      <th>2</th>\n",
              "      <td>Not tasty and the texture was just nasty.</td>\n",
              "      <td>0</td>\n",
              "    </tr>\n",
              "    <tr>\n",
              "      <th>3</th>\n",
              "      <td>Stopped by during the late May bank holiday of...</td>\n",
              "      <td>1</td>\n",
              "    </tr>\n",
              "    <tr>\n",
              "      <th>4</th>\n",
              "      <td>The selection on the menu was great and so wer...</td>\n",
              "      <td>1</td>\n",
              "    </tr>\n",
              "    <tr>\n",
              "      <th>5</th>\n",
              "      <td>Now I am getting angry and I want my damn pho.</td>\n",
              "      <td>0</td>\n",
              "    </tr>\n",
              "    <tr>\n",
              "      <th>6</th>\n",
              "      <td>Honeslty it didn't taste THAT fresh.)</td>\n",
              "      <td>0</td>\n",
              "    </tr>\n",
              "    <tr>\n",
              "      <th>7</th>\n",
              "      <td>The potatoes were like rubber and you could te...</td>\n",
              "      <td>0</td>\n",
              "    </tr>\n",
              "    <tr>\n",
              "      <th>8</th>\n",
              "      <td>The fries were great too.</td>\n",
              "      <td>1</td>\n",
              "    </tr>\n",
              "    <tr>\n",
              "      <th>9</th>\n",
              "      <td>A great touch.</td>\n",
              "      <td>1</td>\n",
              "    </tr>\n",
              "  </tbody>\n",
              "</table>\n",
              "</div>\n",
              "    <div class=\"colab-df-buttons\">\n",
              "\n",
              "  <div class=\"colab-df-container\">\n",
              "    <button class=\"colab-df-convert\" onclick=\"convertToInteractive('df-384ca2b4-284e-4213-8daf-417508d51d42')\"\n",
              "            title=\"Convert this dataframe to an interactive table.\"\n",
              "            style=\"display:none;\">\n",
              "\n",
              "  <svg xmlns=\"http://www.w3.org/2000/svg\" height=\"24px\" viewBox=\"0 -960 960 960\">\n",
              "    <path d=\"M120-120v-720h720v720H120Zm60-500h600v-160H180v160Zm220 220h160v-160H400v160Zm0 220h160v-160H400v160ZM180-400h160v-160H180v160Zm440 0h160v-160H620v160ZM180-180h160v-160H180v160Zm440 0h160v-160H620v160Z\"/>\n",
              "  </svg>\n",
              "    </button>\n",
              "\n",
              "  <style>\n",
              "    .colab-df-container {\n",
              "      display:flex;\n",
              "      gap: 12px;\n",
              "    }\n",
              "\n",
              "    .colab-df-convert {\n",
              "      background-color: #E8F0FE;\n",
              "      border: none;\n",
              "      border-radius: 50%;\n",
              "      cursor: pointer;\n",
              "      display: none;\n",
              "      fill: #1967D2;\n",
              "      height: 32px;\n",
              "      padding: 0 0 0 0;\n",
              "      width: 32px;\n",
              "    }\n",
              "\n",
              "    .colab-df-convert:hover {\n",
              "      background-color: #E2EBFA;\n",
              "      box-shadow: 0px 1px 2px rgba(60, 64, 67, 0.3), 0px 1px 3px 1px rgba(60, 64, 67, 0.15);\n",
              "      fill: #174EA6;\n",
              "    }\n",
              "\n",
              "    .colab-df-buttons div {\n",
              "      margin-bottom: 4px;\n",
              "    }\n",
              "\n",
              "    [theme=dark] .colab-df-convert {\n",
              "      background-color: #3B4455;\n",
              "      fill: #D2E3FC;\n",
              "    }\n",
              "\n",
              "    [theme=dark] .colab-df-convert:hover {\n",
              "      background-color: #434B5C;\n",
              "      box-shadow: 0px 1px 3px 1px rgba(0, 0, 0, 0.15);\n",
              "      filter: drop-shadow(0px 1px 2px rgba(0, 0, 0, 0.3));\n",
              "      fill: #FFFFFF;\n",
              "    }\n",
              "  </style>\n",
              "\n",
              "    <script>\n",
              "      const buttonEl =\n",
              "        document.querySelector('#df-384ca2b4-284e-4213-8daf-417508d51d42 button.colab-df-convert');\n",
              "      buttonEl.style.display =\n",
              "        google.colab.kernel.accessAllowed ? 'block' : 'none';\n",
              "\n",
              "      async function convertToInteractive(key) {\n",
              "        const element = document.querySelector('#df-384ca2b4-284e-4213-8daf-417508d51d42');\n",
              "        const dataTable =\n",
              "          await google.colab.kernel.invokeFunction('convertToInteractive',\n",
              "                                                    [key], {});\n",
              "        if (!dataTable) return;\n",
              "\n",
              "        const docLinkHtml = 'Like what you see? Visit the ' +\n",
              "          '<a target=\"_blank\" href=https://colab.research.google.com/notebooks/data_table.ipynb>data table notebook</a>'\n",
              "          + ' to learn more about interactive tables.';\n",
              "        element.innerHTML = '';\n",
              "        dataTable['output_type'] = 'display_data';\n",
              "        await google.colab.output.renderOutput(dataTable, element);\n",
              "        const docLink = document.createElement('div');\n",
              "        docLink.innerHTML = docLinkHtml;\n",
              "        element.appendChild(docLink);\n",
              "      }\n",
              "    </script>\n",
              "  </div>\n",
              "\n",
              "\n",
              "<div id=\"df-2e08689b-a41a-4b38-a175-6ccc86a22c5a\">\n",
              "  <button class=\"colab-df-quickchart\" onclick=\"quickchart('df-2e08689b-a41a-4b38-a175-6ccc86a22c5a')\"\n",
              "            title=\"Suggest charts.\"\n",
              "            style=\"display:none;\">\n",
              "\n",
              "<svg xmlns=\"http://www.w3.org/2000/svg\" height=\"24px\"viewBox=\"0 0 24 24\"\n",
              "     width=\"24px\">\n",
              "    <g>\n",
              "        <path d=\"M19 3H5c-1.1 0-2 .9-2 2v14c0 1.1.9 2 2 2h14c1.1 0 2-.9 2-2V5c0-1.1-.9-2-2-2zM9 17H7v-7h2v7zm4 0h-2V7h2v10zm4 0h-2v-4h2v4z\"/>\n",
              "    </g>\n",
              "</svg>\n",
              "  </button>\n",
              "\n",
              "<style>\n",
              "  .colab-df-quickchart {\n",
              "      --bg-color: #E8F0FE;\n",
              "      --fill-color: #1967D2;\n",
              "      --hover-bg-color: #E2EBFA;\n",
              "      --hover-fill-color: #174EA6;\n",
              "      --disabled-fill-color: #AAA;\n",
              "      --disabled-bg-color: #DDD;\n",
              "  }\n",
              "\n",
              "  [theme=dark] .colab-df-quickchart {\n",
              "      --bg-color: #3B4455;\n",
              "      --fill-color: #D2E3FC;\n",
              "      --hover-bg-color: #434B5C;\n",
              "      --hover-fill-color: #FFFFFF;\n",
              "      --disabled-bg-color: #3B4455;\n",
              "      --disabled-fill-color: #666;\n",
              "  }\n",
              "\n",
              "  .colab-df-quickchart {\n",
              "    background-color: var(--bg-color);\n",
              "    border: none;\n",
              "    border-radius: 50%;\n",
              "    cursor: pointer;\n",
              "    display: none;\n",
              "    fill: var(--fill-color);\n",
              "    height: 32px;\n",
              "    padding: 0;\n",
              "    width: 32px;\n",
              "  }\n",
              "\n",
              "  .colab-df-quickchart:hover {\n",
              "    background-color: var(--hover-bg-color);\n",
              "    box-shadow: 0 1px 2px rgba(60, 64, 67, 0.3), 0 1px 3px 1px rgba(60, 64, 67, 0.15);\n",
              "    fill: var(--button-hover-fill-color);\n",
              "  }\n",
              "\n",
              "  .colab-df-quickchart-complete:disabled,\n",
              "  .colab-df-quickchart-complete:disabled:hover {\n",
              "    background-color: var(--disabled-bg-color);\n",
              "    fill: var(--disabled-fill-color);\n",
              "    box-shadow: none;\n",
              "  }\n",
              "\n",
              "  .colab-df-spinner {\n",
              "    border: 2px solid var(--fill-color);\n",
              "    border-color: transparent;\n",
              "    border-bottom-color: var(--fill-color);\n",
              "    animation:\n",
              "      spin 1s steps(1) infinite;\n",
              "  }\n",
              "\n",
              "  @keyframes spin {\n",
              "    0% {\n",
              "      border-color: transparent;\n",
              "      border-bottom-color: var(--fill-color);\n",
              "      border-left-color: var(--fill-color);\n",
              "    }\n",
              "    20% {\n",
              "      border-color: transparent;\n",
              "      border-left-color: var(--fill-color);\n",
              "      border-top-color: var(--fill-color);\n",
              "    }\n",
              "    30% {\n",
              "      border-color: transparent;\n",
              "      border-left-color: var(--fill-color);\n",
              "      border-top-color: var(--fill-color);\n",
              "      border-right-color: var(--fill-color);\n",
              "    }\n",
              "    40% {\n",
              "      border-color: transparent;\n",
              "      border-right-color: var(--fill-color);\n",
              "      border-top-color: var(--fill-color);\n",
              "    }\n",
              "    60% {\n",
              "      border-color: transparent;\n",
              "      border-right-color: var(--fill-color);\n",
              "    }\n",
              "    80% {\n",
              "      border-color: transparent;\n",
              "      border-right-color: var(--fill-color);\n",
              "      border-bottom-color: var(--fill-color);\n",
              "    }\n",
              "    90% {\n",
              "      border-color: transparent;\n",
              "      border-bottom-color: var(--fill-color);\n",
              "    }\n",
              "  }\n",
              "</style>\n",
              "\n",
              "  <script>\n",
              "    async function quickchart(key) {\n",
              "      const quickchartButtonEl =\n",
              "        document.querySelector('#' + key + ' button');\n",
              "      quickchartButtonEl.disabled = true;  // To prevent multiple clicks.\n",
              "      quickchartButtonEl.classList.add('colab-df-spinner');\n",
              "      try {\n",
              "        const charts = await google.colab.kernel.invokeFunction(\n",
              "            'suggestCharts', [key], {});\n",
              "      } catch (error) {\n",
              "        console.error('Error during call to suggestCharts:', error);\n",
              "      }\n",
              "      quickchartButtonEl.classList.remove('colab-df-spinner');\n",
              "      quickchartButtonEl.classList.add('colab-df-quickchart-complete');\n",
              "    }\n",
              "    (() => {\n",
              "      let quickchartButtonEl =\n",
              "        document.querySelector('#df-2e08689b-a41a-4b38-a175-6ccc86a22c5a button');\n",
              "      quickchartButtonEl.style.display =\n",
              "        google.colab.kernel.accessAllowed ? 'block' : 'none';\n",
              "    })();\n",
              "  </script>\n",
              "</div>\n",
              "    </div>\n",
              "  </div>\n"
            ]
          },
          "metadata": {},
          "execution_count": 3
        }
      ]
    },
    {
      "cell_type": "markdown",
      "source": [
        "# **Data Wrangling**\n",
        "\n",
        "\n",
        "---\n",
        "\n",
        "\n",
        "<ul>\n",
        "<li>Cleaning only the alphabetical data.</li>\n",
        "<li>Making all data lowercase.</li>\n",
        "<li>Removing Stopwords.</li>\n",
        "</ul>\n",
        "\n",
        "---"
      ],
      "metadata": {
        "id": "Q6GJNU23abM3"
      }
    },
    {
      "cell_type": "code",
      "source": [
        "import nltk\n",
        "import re\n",
        "nltk.download('stopwords')\n",
        "from nltk.corpus import stopwords\n",
        "from nltk.stem.porter import PorterStemmer as ps"
      ],
      "metadata": {
        "colab": {
          "base_uri": "https://localhost:8080/"
        },
        "id": "F6Qu6dr12li6",
        "outputId": "b0d05c2e-55d7-421a-d766-4978900e9ce8"
      },
      "execution_count": null,
      "outputs": [
        {
          "output_type": "stream",
          "name": "stderr",
          "text": [
            "[nltk_data] Downloading package stopwords to /root/nltk_data...\n",
            "[nltk_data]   Unzipping corpora/stopwords.zip.\n"
          ]
        }
      ]
    },
    {
      "cell_type": "code",
      "source": [
        "corpus = []\n",
        "\n",
        "for i in range(0,1000):\n",
        "\n",
        "  review = re.sub(pattern='[^a-zA-Z]',repl=' ',string=data['Review'][i])\n",
        "  review = review.lower()\n",
        "  review_words = review.split()\n",
        "  review_words = [ word for word in review_words if not word in set(stopwords.words('english'))]\n",
        "  review = [ps().stem(word) for word in review_words]\n",
        "  review = ' '.join(review)\n",
        "  corpus.append(review)\n",
        "\n",
        "corpus[:1000]"
      ],
      "metadata": {
        "colab": {
          "base_uri": "https://localhost:8080/"
        },
        "id": "dAaznASw3-s-",
        "outputId": "3293f184-2eb6-491b-80bc-5f22e08f2610"
      },
      "execution_count": null,
      "outputs": [
        {
          "output_type": "execute_result",
          "data": {
            "text/plain": [
              "['wow love place',\n",
              " 'crust good',\n",
              " 'tasti textur nasti',\n",
              " 'stop late may bank holiday rick steve recommend love',\n",
              " 'select menu great price',\n",
              " 'get angri want damn pho',\n",
              " 'honeslti tast fresh',\n",
              " 'potato like rubber could tell made ahead time kept warmer',\n",
              " 'fri great',\n",
              " 'great touch',\n",
              " 'servic prompt',\n",
              " 'would go back',\n",
              " 'cashier care ever say still end wayyy overpr',\n",
              " 'tri cape cod ravoli chicken cranberri mmmm',\n",
              " 'disgust pretti sure human hair',\n",
              " 'shock sign indic cash',\n",
              " 'highli recommend',\n",
              " 'waitress littl slow servic',\n",
              " 'place worth time let alon vega',\n",
              " 'like',\n",
              " 'burritto blah',\n",
              " 'food amaz',\n",
              " 'servic also cute',\n",
              " 'could care less interior beauti',\n",
              " 'perform',\n",
              " 'right red velvet cake ohhh stuff good',\n",
              " 'never brought salad ask',\n",
              " 'hole wall great mexican street taco friendli staff',\n",
              " 'took hour get food tabl restaur food luke warm sever run around like total overwhelm',\n",
              " 'worst salmon sashimi',\n",
              " 'also combo like burger fri beer decent deal',\n",
              " 'like final blow',\n",
              " 'found place accid could happier',\n",
              " 'seem like good quick place grab bite familiar pub food favor look elsewher',\n",
              " 'overal like place lot',\n",
              " 'redeem qualiti restaur inexpens',\n",
              " 'ampl portion good price',\n",
              " 'poor servic waiter made feel like stupid everi time came tabl',\n",
              " 'first visit hiro delight',\n",
              " 'servic suck',\n",
              " 'shrimp tender moist',\n",
              " 'deal good enough would drag establish',\n",
              " 'hard judg whether side good gross melt styrofoam want eat fear get sick',\n",
              " 'posit note server attent provid great servic',\n",
              " 'frozen puck disgust worst peopl behind regist',\n",
              " 'thing like prime rib dessert section',\n",
              " 'bad food damn gener',\n",
              " 'burger good beef cook right',\n",
              " 'want sandwich go firehous',\n",
              " 'side greek salad greek dress tasti pita hummu refresh',\n",
              " 'order duck rare pink tender insid nice char outsid',\n",
              " 'came run us realiz husband left sunglass tabl',\n",
              " 'chow mein good',\n",
              " 'horribl attitud toward custom talk one custom enjoy food',\n",
              " 'portion huge',\n",
              " 'love friendli server great food wonder imagin menu',\n",
              " 'heart attack grill downtown vega absolut flat line excus restaur',\n",
              " 'much seafood like string pasta bottom',\n",
              " 'salad right amount sauc power scallop perfectli cook',\n",
              " 'rip banana rip petrifi tasteless',\n",
              " 'least think refil water struggl wave minut',\n",
              " 'place receiv star appet',\n",
              " 'cocktail handmad delici',\n",
              " 'definit go back',\n",
              " 'glad found place',\n",
              " 'great food servic huge portion give militari discount',\n",
              " 'alway great time do gringo',\n",
              " 'updat went back second time still amaz',\n",
              " 'got food appar never heard salt batter fish chewi',\n",
              " 'great way finish great',\n",
              " 'deal includ tast drink jeff went beyond expect',\n",
              " 'realli realli good rice time',\n",
              " 'servic meh',\n",
              " 'took min get milkshak noth chocol milk',\n",
              " 'guess known place would suck insid excalibur use common sens',\n",
              " 'scallop dish quit appal valu well',\n",
              " 'time bad custom servic',\n",
              " 'sweet potato fri good season well',\n",
              " 'today second time lunch buffet pretti good',\n",
              " 'much good food vega feel cheat wast eat opportun go rice compani',\n",
              " 'come like experienc underwhelm relationship parti wait person ask break',\n",
              " 'walk place smell like old greas trap other eat',\n",
              " 'turkey roast beef bland',\n",
              " 'place',\n",
              " 'pan cake everyon rave tast like sugari disast tailor palat six year old',\n",
              " 'love pho spring roll oh yummi tri',\n",
              " 'poor batter meat ratio made chicken tender unsatisfi',\n",
              " 'say food amaz',\n",
              " 'omelet die',\n",
              " 'everyth fresh delici',\n",
              " 'summari larg disappoint dine experi',\n",
              " 'like realli sexi parti mouth outrag flirt hottest person parti',\n",
              " 'never hard rock casino never ever step forward',\n",
              " 'best breakfast buffet',\n",
              " 'say bye bye tip ladi',\n",
              " 'never go',\n",
              " 'back',\n",
              " 'food arriv quickli',\n",
              " 'good',\n",
              " 'side cafe serv realli good food',\n",
              " 'server fantast found wife love roast garlic bone marrow ad extra meal anoth marrow go',\n",
              " 'good thing waiter help kept bloddi mari come',\n",
              " 'best buffet town price cannot beat',\n",
              " 'love mussel cook wine reduct duck tender potato dish delici',\n",
              " 'one better buffet',\n",
              " 'went tigerlilli fantast afternoon',\n",
              " 'food delici bartend attent person got great deal',\n",
              " 'ambienc wonder music play',\n",
              " 'go back next trip',\n",
              " 'sooooo good',\n",
              " 'real sushi lover let honest yama good',\n",
              " 'least min pass us order food arriv busi',\n",
              " 'realli fantast thai restaur definit worth visit',\n",
              " 'nice spici tender',\n",
              " 'good price',\n",
              " 'check',\n",
              " 'pretti gross',\n",
              " 'better atmospher',\n",
              " 'kind hard mess steak',\n",
              " 'although much like look sound place actual experi bit disappoint',\n",
              " 'know place manag serv blandest food ever eaten prepar indian cuisin',\n",
              " 'worst servic boot least worri',\n",
              " 'servic fine waitress friendli',\n",
              " 'guy steak steak love son steak best worst place said best steak ever eaten',\n",
              " 'thought ventur away get good sushi place realli hit spot night',\n",
              " 'host staff lack better word bitch',\n",
              " 'bland like place number reason want wast time bad review leav',\n",
              " 'phenomen food servic ambianc',\n",
              " 'return',\n",
              " 'definit worth ventur strip pork belli return next time vega',\n",
              " 'place way overpr mediocr food',\n",
              " 'penn vodka excel',\n",
              " 'good select food includ massiv meatloaf sandwich crispi chicken wrap delish tuna melt tasti burger',\n",
              " 'manag rude',\n",
              " 'delici nyc bagel good select cream chees real lox caper even',\n",
              " 'great subway fact good come everi subway meet expect',\n",
              " 'serious solid breakfast',\n",
              " 'one best bar food vega',\n",
              " 'extrem rude realli mani restaur would love dine weekend vega',\n",
              " 'drink never empti made realli great menu suggest',\n",
              " '',\n",
              " 'waiter help friendli rare check us',\n",
              " 'husband ate lunch disappoint food servic',\n",
              " 'red curri much bamboo shoot tasti',\n",
              " 'nice blanket moz top feel like done cover subpar food',\n",
              " 'bathroom clean place well decor',\n",
              " 'menu alway chang food qualiti go servic extrem slow',\n",
              " 'servic littl slow consid serv peopl server food come slow pace',\n",
              " 'give thumb',\n",
              " 'watch waiter pay lot attent tabl ignor us',\n",
              " 'fianc came middl day greet seat right away',\n",
              " 'great restaur mandalay bay',\n",
              " 'wait forti five minut vain',\n",
              " 'crostini came salad stale',\n",
              " 'highlight great qualiti nigiri',\n",
              " 'staff friendli joint alway clean',\n",
              " 'differ cut piec day still wonder tender well well flavor',\n",
              " 'order voodoo pasta first time realli excel pasta sinc go gluten free sever year ago',\n",
              " 'place good',\n",
              " 'unfortun must hit bakeri leftov day everyth order stale',\n",
              " 'came back today sinc reloc still impress',\n",
              " 'seat immedi',\n",
              " 'menu divers reason price',\n",
              " 'avoid cost',\n",
              " 'restaur alway full never wait',\n",
              " 'delici',\n",
              " 'place hand one best place eat phoenix metro area',\n",
              " 'go look good food',\n",
              " 'never treat bad',\n",
              " 'bacon hella salti',\n",
              " 'also order spinach avocado salad ingredi sad dress liter zero tast',\n",
              " 'realli vega fine dine use right menu hand ladi price list',\n",
              " 'waitress friendli',\n",
              " 'lordi khao soi dish miss curri lover',\n",
              " 'everyth menu terrif also thrill made amaz accommod vegetarian daughter',\n",
              " 'perhap caught night judg review inspir go back',\n",
              " 'servic leav lot desir',\n",
              " 'atmospher modern hip maintain touch cozi',\n",
              " 'weekli haunt definit place come back everi',\n",
              " 'liter sat minut one ask take order',\n",
              " 'burger absolut flavor meat total bland burger overcook charcoal flavor',\n",
              " 'also decid send back waitress look like verg heart attack',\n",
              " 'dress treat rude',\n",
              " 'probabl dirt',\n",
              " 'love place hit spot want someth healthi lack quantiti flavor',\n",
              " 'order lemon raspberri ice cocktail also incred',\n",
              " 'food suck expect suck could imagin',\n",
              " 'interest decor',\n",
              " 'realli like crepe station',\n",
              " 'also serv hot bread butter home made potato chip bacon bit top origin good',\n",
              " 'watch prepar delici food',\n",
              " 'egg roll fantast',\n",
              " 'order arriv one gyro miss',\n",
              " 'salad wing ice cream dessert left feel quit satisfi',\n",
              " 'realli sure joey vote best hot dog valley reader phoenix magazin',\n",
              " 'best place go tasti bowl pho',\n",
              " 'live music friday total blow',\n",
              " 'never insult felt disrespect',\n",
              " 'friendli staff',\n",
              " 'worth drive',\n",
              " 'heard good thing place exceed everi hope could dream',\n",
              " 'food great serivc',\n",
              " 'warm beer help',\n",
              " 'great brunch spot',\n",
              " 'servic friendli invit',\n",
              " 'good lunch spot',\n",
              " 'live sinc first last time step foot place',\n",
              " 'worst experi ever',\n",
              " 'must night place',\n",
              " 'side delish mix mushroom yukon gold pure white corn beateou',\n",
              " 'bug never show would given sure side wall bug climb kitchen',\n",
              " 'minut wait salad realiz come time soon',\n",
              " 'friend love salmon tartar',\n",
              " 'go back',\n",
              " 'extrem tasti',\n",
              " 'waitress good though',\n",
              " 'soggi good',\n",
              " 'jamaican mojito delici',\n",
              " 'small worth price',\n",
              " 'food rich order accordingli',\n",
              " 'shower area outsid rins take full shower unless mind nude everyon see',\n",
              " 'servic bit lack',\n",
              " 'lobster bisqu bussel sprout risotto filet need salt pepper cours none tabl',\n",
              " 'hope bode go busi someon cook come',\n",
              " 'either cold enough flavor bad',\n",
              " 'love bacon wrap date',\n",
              " 'unbeliev bargain',\n",
              " 'folk otto alway make us feel welcom special',\n",
              " 'main also uninspir',\n",
              " 'place first pho amaz',\n",
              " 'wonder experi made place must stop whenev town',\n",
              " 'food bad enough enjoy deal world worst annoy drunk peopl',\n",
              " 'fun chef',\n",
              " 'order doubl cheeseburg got singl patti fall apart pictur upload yeah still suck',\n",
              " 'great place coupl drink watch sport event wall cover tv',\n",
              " 'possibl give zero star',\n",
              " 'descript said yum yum sauc anoth said eel sauc yet anoth said spici mayo well none roll sauc',\n",
              " 'say would hardest decis honestli dish tast suppos tast amaz',\n",
              " 'roll eye may stay sure go back tri',\n",
              " 'everyon attent provid excel custom servic',\n",
              " 'horribl wast time money',\n",
              " 'dish quit flavour',\n",
              " 'time side restaur almost empti excus',\n",
              " 'busi either also build freez cold',\n",
              " 'like review said pay eat place',\n",
              " 'drink took close minut come one point',\n",
              " 'serious flavor delight folk',\n",
              " 'much better ayc sushi place went vega',\n",
              " 'light dark enough set mood',\n",
              " 'base sub par servic receiv effort show gratitud busi go back',\n",
              " 'owner realli great peopl',\n",
              " 'noth privileg work eat',\n",
              " 'greek dress creami flavor',\n",
              " 'overal think would take parent place made similar complaint silent felt',\n",
              " 'pizza good peanut sauc tasti',\n",
              " 'tabl servic pretti fast',\n",
              " 'fantast servic',\n",
              " 'well would given godfath zero star possibl',\n",
              " 'know make',\n",
              " 'tough short flavor',\n",
              " 'hope place stick around',\n",
              " 'bar vega ever recal charg tap water',\n",
              " 'restaur atmospher exquisit',\n",
              " 'good servic clean inexpens boot',\n",
              " 'seafood fresh gener portion',\n",
              " 'plu buck',\n",
              " 'servic par either',\n",
              " 'thu far visit twice food absolut delici time',\n",
              " 'good year ago',\n",
              " 'self proclaim coffe cafe wildli disappoint',\n",
              " 'veggitarian platter world',\n",
              " 'cant go wrong food',\n",
              " 'beat',\n",
              " 'stop place madison ironman friendli kind staff',\n",
              " 'chef friendli good job',\n",
              " 'better dedic boba tea spot even jenni pho',\n",
              " 'like patio servic outstand',\n",
              " 'goat taco skimp meat wow flavor',\n",
              " 'think',\n",
              " 'mac salad pretti bland get',\n",
              " 'went bachi burger friend recommend disappoint',\n",
              " 'servic stink',\n",
              " 'wait wait',\n",
              " 'place qualiti sushi qualiti restaur',\n",
              " 'would definit recommend wing well pizza',\n",
              " 'great pizza salad',\n",
              " 'thing went wrong burn saganaki',\n",
              " 'wait hour breakfast could done time better home',\n",
              " 'place amaz',\n",
              " 'hate disagre fellow yelper husband disappoint place',\n",
              " 'wait hour never got either pizza mani around us came later',\n",
              " 'know slow',\n",
              " 'staff great food delish incred beer select',\n",
              " 'live neighborhood disappoint back conveni locat',\n",
              " 'know pull pork could soooo delici',\n",
              " 'get incred fresh fish prepar care',\n",
              " 'go gave star rate pleas know third time eat bachi burger write review',\n",
              " 'love fact everyth menu worth',\n",
              " 'never dine place',\n",
              " 'food excel servic good',\n",
              " 'good beer drink select good food select',\n",
              " 'pleas stay away shrimp stir fri noodl',\n",
              " 'potato chip order sad could probabl count mani chip box probabl around',\n",
              " 'food realli bore',\n",
              " 'good servic check',\n",
              " 'greedi corpor never see anoth dime',\n",
              " 'never ever go back',\n",
              " 'much like go back get pass atroci servic never return',\n",
              " 'summer dine charm outdoor patio delight',\n",
              " 'expect good',\n",
              " 'fantast food',\n",
              " 'order toast english muffin came untoast',\n",
              " 'food good',\n",
              " 'never go back',\n",
              " 'great food price high qualiti hous made',\n",
              " 'bu boy hand rude',\n",
              " 'point friend basic figur place joke mind make publicli loudli known',\n",
              " 'back good bbq lighter fare reason price tell public back old way',\n",
              " 'consid two us left full happi go wrong',\n",
              " 'bread made hous',\n",
              " 'downsid servic',\n",
              " 'also fri without doubt worst fri ever',\n",
              " 'servic except food good review',\n",
              " 'coupl month later return amaz meal',\n",
              " 'favorit place town shawarrrrrrma',\n",
              " 'black eye pea sweet potato unreal',\n",
              " 'disappoint',\n",
              " 'could serv vinaigrett may make better overal dish still good',\n",
              " 'go far mani place never seen restaur serv egg breakfast especi',\n",
              " 'mom got home immedi got sick bite salad',\n",
              " 'server pleasant deal alway honor pizza hut coupon',\n",
              " 'truli unbeliev good glad went back',\n",
              " 'fantast servic pleas atmospher',\n",
              " 'everyth gross',\n",
              " 'love place',\n",
              " 'great servic food',\n",
              " 'first bathroom locat dirti seat cover replenish plain yucki',\n",
              " 'burger got gold standard burger kind disappoint',\n",
              " 'omg food delicioso',\n",
              " 'noth authent place',\n",
              " 'spaghetti noth special whatsoev',\n",
              " 'dish salmon best great',\n",
              " 'veget fresh sauc feel like authent thai',\n",
              " 'worth drive tucson',\n",
              " 'select probabl worst seen vega none',\n",
              " 'pretti good beer select',\n",
              " 'place like chipotl better',\n",
              " 'classi warm atmospher fun fresh appet succul steak basebal steak',\n",
              " 'star brick oven bread app',\n",
              " 'eaten multipl time time food delici',\n",
              " 'sat anoth ten minut final gave left',\n",
              " 'terribl',\n",
              " 'everyon treat equal special',\n",
              " 'take min pancak egg',\n",
              " 'delici',\n",
              " 'good side staff genuin pleasant enthusiast real treat',\n",
              " 'sadli gordon ramsey steak place shall sharpli avoid next trip vega',\n",
              " 'alway even wonder food delici',\n",
              " 'best fish ever life',\n",
              " 'bathroom next door nice',\n",
              " 'buffet small food offer bland',\n",
              " 'outstand littl restaur best food ever tast',\n",
              " 'pretti cool would say',\n",
              " 'definit turn doubt back unless someon els buy',\n",
              " 'server great job handl larg rowdi tabl',\n",
              " 'find wast food despic food',\n",
              " 'wife lobster bisqu soup lukewarm',\n",
              " 'would come back sushi crave vega',\n",
              " 'staff great ambianc great',\n",
              " 'deserv star',\n",
              " 'left stomach ach felt sick rest day',\n",
              " 'drop ball',\n",
              " 'dine space tini elegantli decor comfort',\n",
              " 'custom order way like usual eggplant green bean stir fri love',\n",
              " 'bean rice mediocr best',\n",
              " 'best taco town far',\n",
              " 'took back money got outta',\n",
              " 'interest part town place amaz',\n",
              " 'rude inconsider manag',\n",
              " 'staff friendli wait time serv horribl one even say hi first minut',\n",
              " 'back',\n",
              " 'great dinner',\n",
              " 'servic outshin definit recommend halibut',\n",
              " 'food terribl',\n",
              " 'never ever go back told mani peopl happen',\n",
              " 'recommend unless car break front starv',\n",
              " 'come back everi time vega',\n",
              " 'place deserv one star food',\n",
              " 'disgrac',\n",
              " 'def come back bowl next time',\n",
              " 'want healthi authent ethic food tri place',\n",
              " 'continu come ladi night andddd date night highli recommend place anyon area',\n",
              " 'sever time past experi alway great',\n",
              " 'walk away stuf happi first vega buffet experi',\n",
              " 'servic excel price pretti reason consid vega locat insid crystal shop mall aria',\n",
              " 'summar food incred nay transcend noth bring joy quit like memori pneumat condiment dispens',\n",
              " 'probabl one peopl ever go ian like',\n",
              " 'kid pizza alway hit lot great side dish option kiddo',\n",
              " 'servic perfect famili atmospher nice see',\n",
              " 'cook perfect servic impecc',\n",
              " 'one simpli disappoint',\n",
              " 'overal disappoint qualiti food bouchon',\n",
              " 'account know get screw',\n",
              " 'great place eat remind littl mom pop shop san francisco bay area',\n",
              " 'today first tast buldogi gourmet hot dog tell ever thought possibl',\n",
              " 'left frustrat',\n",
              " 'definit soon',\n",
              " 'food realli good got full petti fast',\n",
              " 'servic fantast',\n",
              " 'total wast time',\n",
              " 'know kind best ice tea',\n",
              " 'come hungri leav happi stuf',\n",
              " 'servic give star',\n",
              " 'assur disappoint',\n",
              " 'take littl bad servic food suck',\n",
              " 'gave tri eat crust teeth still sore',\n",
              " 'complet gross',\n",
              " 'realli enjoy eat',\n",
              " 'first time go think quickli becom regular',\n",
              " 'server nice even though look littl overwhelm need stay profession friendli end',\n",
              " 'dinner companion told everyth fresh nice textur tast',\n",
              " 'ground right next tabl larg smear step track everywher pile green bird poop',\n",
              " 'furthermor even find hour oper websit',\n",
              " 'tri like place time think done',\n",
              " 'mistak',\n",
              " 'complaint',\n",
              " 'serious good pizza expert connisseur topic',\n",
              " 'waiter jerk',\n",
              " 'strike want rush',\n",
              " 'nicest restaur owner ever come across',\n",
              " 'never come',\n",
              " 'love biscuit',\n",
              " 'servic quick friendli',\n",
              " 'order appet took minut pizza anoth minut',\n",
              " 'absolutley fantast',\n",
              " 'huge awkward lb piec cow th gristl fat',\n",
              " 'definit come back',\n",
              " 'like steiner dark feel like bar',\n",
              " 'wow spici delici',\n",
              " 'familiar check',\n",
              " 'take busi dinner dollar elsewher',\n",
              " 'love go back',\n",
              " 'anyway fs restaur wonder breakfast lunch',\n",
              " 'noth special',\n",
              " 'day week differ deal delici',\n",
              " 'mention combin pear almond bacon big winner',\n",
              " 'back',\n",
              " 'sauc tasteless',\n",
              " 'food delici spici enough sure ask spicier prefer way',\n",
              " 'ribey steak cook perfectli great mesquit flavor',\n",
              " 'think go back anytim soon',\n",
              " 'food gooodd',\n",
              " 'far sushi connoisseur definit tell differ good food bad food certainli bad food',\n",
              " 'insult',\n",
              " 'last time lunch bad',\n",
              " 'chicken wing contain driest chicken meat ever eaten',\n",
              " 'food good enjoy everi mouth enjoy relax venu coupl small famili group etc',\n",
              " 'nargil think great',\n",
              " 'best tater tot southwest',\n",
              " 'love place',\n",
              " 'definit worth paid',\n",
              " 'vanilla ice cream creami smooth profiterol choux pastri fresh enough',\n",
              " 'im az time new spot',\n",
              " 'manag worst',\n",
              " 'insid realli quit nice clean',\n",
              " 'food outstand price reason',\n",
              " 'think run back carli anytim soon food',\n",
              " 'due fact took minut acknowledg anoth minut get food kept forget thing',\n",
              " 'love margarita',\n",
              " 'first vega buffet disappoint',\n",
              " 'good though',\n",
              " 'one note ventil could use upgrad',\n",
              " 'great pork sandwich',\n",
              " 'wast time',\n",
              " 'total letdown would much rather go camelback flower shop cartel coffe',\n",
              " 'third chees friend burger cold',\n",
              " 'enjoy pizza brunch',\n",
              " 'steak well trim also perfectli cook',\n",
              " 'group claim would handl us beauti',\n",
              " 'love',\n",
              " 'ask bill leav without eat bring either',\n",
              " 'place jewel la vega exactli hope find nearli ten year live',\n",
              " 'seafood limit boil shrimp crab leg crab leg definit tast fresh',\n",
              " 'select food best',\n",
              " 'delici absolut back',\n",
              " 'small famili restaur fine dine establish',\n",
              " 'toro tartar cavier extraordinari like thinli slice wagyu white truffl',\n",
              " 'dont think back long time',\n",
              " 'attach ga station rare good sign',\n",
              " 'awesom',\n",
              " 'back mani time soon',\n",
              " 'menu much good stuff could decid',\n",
              " 'wors humili worker right front bunch horribl name call',\n",
              " 'conclus fill meal',\n",
              " 'daili special alway hit group',\n",
              " 'tragedi struck',\n",
              " 'pancak also realli good pretti larg',\n",
              " 'first crawfish experi delici',\n",
              " 'monster chicken fri steak egg time favorit',\n",
              " 'waitress sweet funni',\n",
              " 'also tast mom multi grain pumpkin pancak pecan butter amaz fluffi delici',\n",
              " 'rather eat airlin food serious',\n",
              " 'cant say enough good thing place',\n",
              " 'ambianc incred',\n",
              " 'waitress manag friendli',\n",
              " 'would recommend place',\n",
              " 'overal impress noca',\n",
              " 'gyro basic lettuc',\n",
              " 'terribl servic',\n",
              " 'thoroughli disappoint',\n",
              " 'much pasta love homemad hand made pasta thin pizza',\n",
              " 'give tri happi',\n",
              " 'far best cheesecurd ever',\n",
              " 'reason price also',\n",
              " 'everyth perfect night',\n",
              " 'food good typic bar food',\n",
              " 'drive get',\n",
              " 'first glanc love bakeri cafe nice ambianc clean friendli staff',\n",
              " 'anyway think go back',\n",
              " 'point finger item menu order disappoint',\n",
              " 'oh thing beauti restaur',\n",
              " 'gone go',\n",
              " 'greasi unhealthi meal',\n",
              " 'first time might last',\n",
              " 'burger amaz',\n",
              " 'similarli deliveri man say word apolog food minut late',\n",
              " 'way expens',\n",
              " 'sure order dessert even need pack go tiramisu cannoli die',\n",
              " 'first time wait next',\n",
              " 'bartend also nice',\n",
              " 'everyth good tasti',\n",
              " 'place two thumb way',\n",
              " 'best place vega breakfast check sat sun',\n",
              " 'love authent mexican food want whole bunch interest yet delici meat choos need tri place',\n",
              " 'terribl manag',\n",
              " 'excel new restaur experienc frenchman',\n",
              " 'zero star would give zero star',\n",
              " 'great steak great side great wine amaz dessert',\n",
              " 'worst martini ever',\n",
              " 'steak shrimp opinion best entre gc',\n",
              " 'opportun today sampl amaz pizza',\n",
              " 'wait thirti minut seat although vacant tabl folk wait',\n",
              " 'yellowtail carpaccio melt mouth fresh',\n",
              " 'tri go back even empti',\n",
              " 'go eat potato found stranger hair',\n",
              " 'spici enough perfect actual',\n",
              " 'last night second time dine happi decid go back',\n",
              " 'even hello right',\n",
              " 'dessert bit strang',\n",
              " 'boyfriend came first time recent trip vega could pleas qualiti food servic',\n",
              " 'realli recommend place go wrong donut place',\n",
              " 'nice ambianc',\n",
              " 'would recommend save room',\n",
              " 'guess mayb went night disgrac',\n",
              " 'howev recent experi particular locat good',\n",
              " 'know like restaur someth',\n",
              " 'avoid establish',\n",
              " 'think restaur suffer tri hard enough',\n",
              " 'tapa dish delici',\n",
              " 'heart place',\n",
              " 'salad bland vinegrett babi green heart palm',\n",
              " 'two felt disgust',\n",
              " 'good time',\n",
              " 'believ place great stop huge belli hanker sushi',\n",
              " 'gener portion great tast',\n",
              " 'never go back place never ever recommend place anyon',\n",
              " 'server went back forth sever time even much help',\n",
              " 'food delici',\n",
              " 'hour serious',\n",
              " 'consid theft',\n",
              " 'eew locat need complet overhaul',\n",
              " 'recent wit poor qualiti manag toward guest well',\n",
              " 'wait wait wait',\n",
              " 'also came back check us regularli excel servic',\n",
              " 'server super nice check us mani time',\n",
              " 'pizza tast old super chewi good way',\n",
              " 'swung give tri deepli disappoint',\n",
              " 'servic good compani better',\n",
              " 'staff also friendli effici',\n",
              " 'servic fan quick serv nice folk',\n",
              " 'boy sucker dri',\n",
              " 'rate',\n",
              " 'look authent thai food go els',\n",
              " 'steak recommend',\n",
              " 'pull car wait anoth minut acknowledg',\n",
              " 'great food great servic clean friendli set',\n",
              " 'assur back',\n",
              " 'hate thing much cheap qualiti black oliv',\n",
              " 'breakfast perpar great beauti present giant slice toast lightli dust powder sugar',\n",
              " 'kid play area nasti',\n",
              " 'great place fo take eat',\n",
              " 'waitress friendli happi accomod vegan veggi option',\n",
              " 'omg felt like never eaten thai food dish',\n",
              " 'extrem crumbi pretti tasteless',\n",
              " 'pale color instead nice char flavor',\n",
              " 'crouton also tast homemad extra plu',\n",
              " 'got home see driest damn wing ever',\n",
              " 'regular stop trip phoenix',\n",
              " 'realli enjoy crema caf expand even told friend best breakfast',\n",
              " 'good money',\n",
              " 'miss wish one philadelphia',\n",
              " 'got sit fairli fast end wait minut place order anoth minut food arriv',\n",
              " 'also best chees crisp town',\n",
              " 'good valu great food great servic',\n",
              " 'ask satisfi meal',\n",
              " 'food good',\n",
              " 'awesom',\n",
              " 'want leav',\n",
              " 'made drive way north scottsdal one bit disappoint',\n",
              " 'eat',\n",
              " 'owner realli realli need quit soooooo cheap let wrap freak sandwich two paper one',\n",
              " 'check place coupl year ago impress',\n",
              " 'chicken got definit reheat ok wedg cold soggi',\n",
              " 'sorri get food anytim soon',\n",
              " 'absolut must visit',\n",
              " 'cow tongu cheek taco amaz',\n",
              " 'friend like bloodi mari',\n",
              " 'despit hard rate busi actual rare give star',\n",
              " 'realli want make experi good one',\n",
              " 'return',\n",
              " 'chicken pho tast bland',\n",
              " 'disappoint',\n",
              " 'grill chicken tender yellow saffron season',\n",
              " 'drive thru mean want wait around half hour food somehow end go make us wait wait',\n",
              " 'pretti awesom place',\n",
              " 'ambienc perfect',\n",
              " 'best luck rude non custom servic focus new manag',\n",
              " 'grandmoth make roast chicken better one',\n",
              " 'ask multipl time wine list time ignor went hostess got one',\n",
              " 'staff alway super friendli help especi cool bring two small boy babi',\n",
              " 'four star food guy blue shirt great vibe still let us eat',\n",
              " 'roast beef sandwich tast realli good',\n",
              " 'even drastic sick',\n",
              " 'high qualiti chicken chicken caesar salad',\n",
              " 'order burger rare came done',\n",
              " 'promptli greet seat',\n",
              " 'tri go lunch madhous',\n",
              " 'proven dead wrong sushi bar qualiti great servic fast food impecc',\n",
              " 'wait hour seat greatest mood',\n",
              " 'good joint',\n",
              " 'macaron insan good',\n",
              " 'eat',\n",
              " 'waiter attent friendli inform',\n",
              " 'mayb cold would somewhat edibl',\n",
              " 'place lot promis fail deliv',\n",
              " 'bad experi',\n",
              " 'mistak',\n",
              " 'food averag best',\n",
              " 'great food',\n",
              " 'go back anytim soon',\n",
              " 'disappoint order big bay plater',\n",
              " 'great place relax awesom burger beer',\n",
              " 'perfect sit famili meal get togeth friend',\n",
              " 'much flavor poorli construct',\n",
              " 'patio seat comfort',\n",
              " 'fri rice dri well',\n",
              " 'hand favorit italian restaur',\n",
              " 'scream legit book somethat also pretti rare vega',\n",
              " 'fun experi',\n",
              " 'atmospher great love duo violinist play song request',\n",
              " 'person love hummu pita baklava falafel baba ganoush amaz eggplant',\n",
              " 'conveni sinc stay mgm',\n",
              " 'owner super friendli staff courteou',\n",
              " 'great',\n",
              " 'eclect select',\n",
              " 'sweet potato tot good onion ring perfect close',\n",
              " 'staff attent',\n",
              " 'chef gener time even came around twice take pictur',\n",
              " 'owner use work nobu place realli similar half price',\n",
              " 'googl mediocr imagin smashburg pop',\n",
              " 'dont go',\n",
              " 'promis disappoint',\n",
              " 'sushi lover avoid place mean',\n",
              " 'great doubl cheeseburg',\n",
              " 'awesom servic food',\n",
              " 'fantast neighborhood gem',\n",
              " 'wait go back',\n",
              " 'plantain worst ever tast',\n",
              " 'great place highli recommend',\n",
              " 'servic slow attent',\n",
              " 'gave star give star',\n",
              " 'staff spend time talk',\n",
              " 'dessert panna cotta amaz',\n",
              " 'good food great atmospher',\n",
              " 'damn good steak',\n",
              " 'total brunch fail',\n",
              " 'price reason flavor spot sauc home made slaw drench mayo',\n",
              " 'decor nice piano music soundtrack pleasant',\n",
              " 'steak amaz rge fillet relleno best seafood plate ever',\n",
              " 'good food good servic',\n",
              " 'absolut amaz',\n",
              " 'probabl back honest',\n",
              " 'definit back',\n",
              " 'sergeant pepper beef sandwich auju sauc excel sandwich well',\n",
              " 'hawaiian breez mango magic pineappl delight smoothi tri far good',\n",
              " 'went lunch servic slow',\n",
              " 'much say place walk expect amaz quickli disappoint',\n",
              " 'mortifi',\n",
              " 'needless say never back',\n",
              " 'anyway food definit fill price pay expect',\n",
              " 'chip came drip greas mostli edibl',\n",
              " 'realli impress strip steak',\n",
              " 'go sinc everi meal awesom',\n",
              " 'server nice attent serv staff',\n",
              " 'cashier friendli even brought food',\n",
              " 'work hospit industri paradis valley refrain recommend cibo longer',\n",
              " 'atmospher fun',\n",
              " 'would recommend other',\n",
              " 'servic quick even go order like like',\n",
              " 'mean realli get famou fish chip terribl',\n",
              " 'said mouth belli still quit pleas',\n",
              " 'thing',\n",
              " 'thumb',\n",
              " 'read pleas go',\n",
              " 'love grill pizza remind legit italian pizza',\n",
              " 'pro larg seat area nice bar area great simpl drink menu best brick oven pizza homemad dough',\n",
              " 'realli nice atmospher',\n",
              " 'tonight elk filet special suck',\n",
              " 'one bite hook',\n",
              " 'order old classic new dish go time sore disappoint everyth',\n",
              " 'cute quaint simpl honest',\n",
              " 'chicken delici season perfect fri outsid moist chicken insid',\n",
              " 'food great alway compliment chef',\n",
              " 'special thank dylan recommend order yummi tummi',\n",
              " 'awesom select beer',\n",
              " 'great food awesom servic',\n",
              " 'one nice thing ad gratuiti bill sinc parti larger expect tip',\n",
              " 'fli appl juic fli',\n",
              " 'han nan chicken also tasti',\n",
              " 'servic thought good',\n",
              " 'food bare lukewarm must sit wait server bring us',\n",
              " 'ryan bar definit one edinburgh establish revisit',\n",
              " 'nicest chines restaur',\n",
              " 'overal like food servic',\n",
              " 'also serv indian naan bread hummu spici pine nut sauc world',\n",
              " 'probabl never come back recommend',\n",
              " 'friend pasta also bad bare touch',\n",
              " 'tri airport experi tasti food speedi friendli servic',\n",
              " 'love decor chines calligraphi wall paper',\n",
              " 'never anyth complain',\n",
              " 'restaur clean famili restaur feel',\n",
              " 'way fri',\n",
              " 'sure long stood long enough begin feel awkwardli place',\n",
              " 'open sandwich impress good way',\n",
              " 'back',\n",
              " 'warm feel servic felt like guest special treat',\n",
              " 'extens menu provid lot option breakfast',\n",
              " 'alway order vegetarian menu dinner wide array option choos',\n",
              " 'watch price inflat portion get smaller manag attitud grow rapidli',\n",
              " 'wonder lil tapa ambienc made feel warm fuzzi insid',\n",
              " 'got enjoy seafood salad fabul vinegrett',\n",
              " 'wonton thin thick chewi almost melt mouth',\n",
              " 'level spici perfect spice whelm soup',\n",
              " 'sat right time server get go fantast',\n",
              " 'main thing enjoy crowd older crowd around mid',\n",
              " 'side town definit spot hit',\n",
              " 'wait minut get drink longer get arepa',\n",
              " 'great place eat',\n",
              " 'jalapeno bacon soooo good',\n",
              " 'servic poor that nice',\n",
              " 'food good servic good price good',\n",
              " 'place clean food oh stale',\n",
              " 'chicken dish ok beef like shoe leather',\n",
              " 'servic beyond bad',\n",
              " 'happi',\n",
              " 'tast like dirt',\n",
              " 'one place phoenix would defin go back',\n",
              " 'block amaz',\n",
              " 'close hous low key non fanci afford price good food',\n",
              " 'hot sour egg flower soup absolut star',\n",
              " 'sashimi poor qualiti soggi tasteless',\n",
              " 'great time famili dinner sunday night',\n",
              " 'food tasti say real tradit hunan style',\n",
              " 'bother slow servic',\n",
              " 'flair bartend absolut amaz',\n",
              " 'frozen margarita way sugari tast',\n",
              " 'good order twice',\n",
              " 'nutshel restaraunt smell like combin dirti fish market sewer',\n",
              " 'girlfriend veal bad',\n",
              " 'unfortun good',\n",
              " 'pretti satifi experi',\n",
              " 'join club get awesom offer via email',\n",
              " 'perfect someon like beer ice cold case even colder',\n",
              " 'bland flavorless good way describ bare tepid meat',\n",
              " 'chain fan beat place easili',\n",
              " 'nacho must',\n",
              " 'come back',\n",
              " 'mani word say place everyth pretti well',\n",
              " 'staff super nice quick even crazi crowd downtown juri lawyer court staff',\n",
              " 'great atmospher friendli fast servic',\n",
              " 'receiv pita huge lot meat thumb',\n",
              " 'food arriv meh',\n",
              " 'pay hot dog fri look like came kid meal wienerschnitzel idea good meal',\n",
              " 'classic main lobster roll fantast',\n",
              " 'brother law work mall ate day guess sick night',\n",
              " 'good go review place twice herea tribut place tribut event held last night',\n",
              " 'chip salsa realli good salsa fresh',\n",
              " 'place great',\n",
              " 'mediocr food',\n",
              " 'get insid impress place',\n",
              " 'super pissd',\n",
              " 'servic super friendli',\n",
              " 'sad littl veget overcook',\n",
              " 'place nice surpris',\n",
              " 'golden crispi delici',\n",
              " 'high hope place sinc burger cook charcoal grill unfortun tast fell flat way flat',\n",
              " 'could eat bruschetta day devin',\n",
              " 'singl employe came see ok even need water refil final serv us food',\n",
              " 'lastli mozzarella stick best thing order',\n",
              " 'first time ever came amaz experi still tell peopl awesom duck',\n",
              " 'server neglig need made us feel unwelcom would suggest place',\n",
              " 'servic terribl though',\n",
              " 'place overpr consist boba realli overpr',\n",
              " 'pack',\n",
              " 'love place',\n",
              " 'say dessert yummi',\n",
              " 'food terribl',\n",
              " 'season fruit fresh white peach pure',\n",
              " 'kept get wors wors offici done',\n",
              " 'place honestli blown',\n",
              " 'definit would eat',\n",
              " 'wast money',\n",
              " 'love put food nice plastic contain oppos cram littl paper takeout box',\n",
              " 'cr pe delic thin moist',\n",
              " 'aw servic',\n",
              " 'ever go',\n",
              " 'food qualiti horribl',\n",
              " 'price think place would much rather gone',\n",
              " 'servic fair best',\n",
              " 'love sushi found kabuki price hip servic',\n",
              " 'favor stay away dish',\n",
              " 'poor servic',\n",
              " 'one tabl thought food averag worth wait',\n",
              " 'best servic food ever maria server good friendli made day',\n",
              " 'excel',\n",
              " 'paid bill tip felt server terribl job',\n",
              " 'lunch great experi',\n",
              " 'never bland food surpris consid articl read focus much spice flavor',\n",
              " 'food way overpr portion fuck small',\n",
              " 'recent tri caballero back everi week sinc',\n",
              " 'buck head realli expect better food',\n",
              " 'food came good pace',\n",
              " 'ate twice last visit especi enjoy salmon salad',\n",
              " 'back',\n",
              " 'could believ dirti oyster',\n",
              " 'place deserv star',\n",
              " 'would recommend place',\n",
              " 'fact go round star awesom',\n",
              " 'disbelief dish qualifi worst version food ever tast',\n",
              " 'bad day low toler rude custom servic peopl job nice polit wash dish otherwis',\n",
              " 'potato great biscuit',\n",
              " 'probabl would go',\n",
              " 'flavor perfect amount heat',\n",
              " 'price reason servic great',\n",
              " 'wife hate meal coconut shrimp friend realli enjoy meal either',\n",
              " 'fella got huevo ranchero look appeal',\n",
              " 'went happi hour great list wine',\n",
              " 'may say buffet pricey think get pay place get quit lot',\n",
              " 'probabl come back',\n",
              " 'worst food servic',\n",
              " 'place pretti good nice littl vibe restaur',\n",
              " 'talk great custom servic cours back',\n",
              " 'hot dish hot cold dish close room temp watch staff prepar food bare hand glove everyth deep fri oil',\n",
              " 'love fri bean',\n",
              " 'alway pleasur deal',\n",
              " 'plethora salad sandwich everyth tri get seal approv',\n",
              " 'place awesom want someth light healthi summer',\n",
              " 'sushi strip place go',\n",
              " 'servic great even manag came help tabl',\n",
              " 'feel dine room colleg cook cours high class dine servic slow best',\n",
              " 'start review two star edit give one',\n",
              " 'worst sushi ever eat besid costco',\n",
              " 'excel restaur highlight great servic uniqu menu beauti set',\n",
              " 'boyfriend sat bar complet delight experi',\n",
              " 'weird vibe owner',\n",
              " 'hardli meat',\n",
              " 'better bagel groceri store',\n",
              " 'go place gyro',\n",
              " 'love owner chef one authent japanes cool dude',\n",
              " 'burger good pizza use amaz doughi flavorless',\n",
              " 'found six inch long piec wire salsa',\n",
              " 'servic terribl food mediocr',\n",
              " 'defin enjoy',\n",
              " 'order albondiga soup warm tast like tomato soup frozen meatbal',\n",
              " 'three differ occas ask well done medium well three time got bloodiest piec meat plate',\n",
              " 'two bite refus eat anymor',\n",
              " 'servic extrem slow',\n",
              " 'minut wait got tabl',\n",
              " 'serious killer hot chai latt',\n",
              " 'allergi warn menu waitress absolut clue meal contain peanut',\n",
              " 'boyfriend tri mediterranean chicken salad fell love',\n",
              " 'rotat beer tap also highlight place',\n",
              " 'price bit concern mellow mushroom',\n",
              " 'worst thai ever',\n",
              " 'stay vega must get breakfast least',\n",
              " 'want first say server great perfect servic',\n",
              " 'pizza select good',\n",
              " 'strawberri tea good',\n",
              " 'highli unprofession rude loyal patron',\n",
              " 'overal great experi',\n",
              " 'spend money elsewher',\n",
              " 'regular toast bread equal satisfi occasion pat butter mmmm',\n",
              " 'buffet bellagio far anticip',\n",
              " 'drink weak peopl',\n",
              " 'order correct',\n",
              " 'also feel like chip bought made hous',\n",
              " 'disappoint dinner went elsewher dessert',\n",
              " 'chip sal amaz',\n",
              " 'return',\n",
              " 'new fav vega buffet spot',\n",
              " 'serious cannot believ owner mani unexperienc employe run around like chicken head cut',\n",
              " 'sad',\n",
              " 'felt insult disrespect could talk judg anoth human like',\n",
              " 'call steakhous properli cook steak understand',\n",
              " 'impress concept food',\n",
              " 'thing crazi guacamol like pur ed',\n",
              " 'realli noth postino hope experi better',\n",
              " 'got food poison buffet',\n",
              " 'brought fresh batch fri think yay someth warm',\n",
              " 'hilari yummi christma eve dinner rememb biggest fail entir trip us',\n",
              " 'needless say go back anytim soon',\n",
              " 'place disgust',\n",
              " 'everi time eat see care teamwork profession degre',\n",
              " 'ri style calamari joke',\n",
              " 'howev much garlic fondu bare edibl',\n",
              " 'could bare stomach meal complain busi lunch',\n",
              " 'bad lost heart finish',\n",
              " 'also took forev bring us check ask',\n",
              " 'one make scene restaur get definit lost love one',\n",
              " 'disappoint experi',\n",
              " 'food par denni say good',\n",
              " 'want wait mediocr food downright terribl servic place',\n",
              " 'waaaaaayyyyyyyyyi rate say',\n",
              " 'go back',\n",
              " 'place fairli clean food simpli worth',\n",
              " 'place lack style',\n",
              " 'sangria half glass wine full ridicul',\n",
              " 'bother come',\n",
              " 'meat pretti dri slice brisket pull pork',\n",
              " 'build seem pretti neat bathroom pretti trippi eat',\n",
              " 'equal aw',\n",
              " 'probabl hurri go back',\n",
              " 'slow seat even reserv',\n",
              " 'good stretch imagin',\n",
              " 'cashew cream sauc bland veget undercook',\n",
              " 'chipolt ranch dip saus tasteless seem thin water heat',\n",
              " 'bit sweet realli spici enough lack flavor',\n",
              " 'disappoint',\n",
              " 'place horribl way overpr',\n",
              " 'mayb vegetarian fare twice thought averag best',\n",
              " 'busi know',\n",
              " 'tabl outsid also dirti lot time worker alway friendli help menu',\n",
              " 'ambianc feel like buffet set douchey indoor garden tea biscuit',\n",
              " 'con spotti servic',\n",
              " 'fri hot neither burger',\n",
              " 'came back cold',\n",
              " 'food came disappoint ensu',\n",
              " 'real disappoint waiter',\n",
              " 'husband said rude even apolog bad food anyth',\n",
              " 'reason eat would fill night bing drink get carb stomach',\n",
              " 'insult profound deuchebaggeri go outsid smoke break serv solidifi',\n",
              " 'someon order two taco think may part custom servic ask combo ala cart',\n",
              " 'quit disappoint although blame need place door',\n",
              " 'rave review wait eat disappoint',\n",
              " 'del taco pretti nasti avoid possibl',\n",
              " 'hard make decent hamburg',\n",
              " 'like',\n",
              " 'hell go back',\n",
              " 'gotten much better servic pizza place next door servic receiv restaur',\n",
              " 'know big deal place back ya',\n",
              " 'immedi said want talk manag want talk guy shot firebal behind bar',\n",
              " 'ambianc much better',\n",
              " 'unfortun set us disapppoint entre',\n",
              " 'food good',\n",
              " 'server suck wait correct server heimer suck',\n",
              " 'happen next pretti put',\n",
              " 'bad caus know famili own realli want like place',\n",
              " 'overpr get',\n",
              " 'vomit bathroom mid lunch',\n",
              " 'kept look time soon becom minut yet still food',\n",
              " 'place eat circumst would ever return top list',\n",
              " 'start tuna sashimi brownish color obvious fresh',\n",
              " 'food averag',\n",
              " 'sure beat nacho movi would expect littl bit come restaur',\n",
              " 'ha long bay bit flop',\n",
              " 'problem charg sandwich bigger subway sub offer better amount veget',\n",
              " 'shrimp unwrap live mile brushfir liter ice cold',\n",
              " 'lack flavor seem undercook dri',\n",
              " 'realli impress place close',\n",
              " 'would avoid place stay mirag',\n",
              " 'refri bean came meal dri crusti food bland',\n",
              " 'spend money time place els',\n",
              " 'ladi tabl next us found live green caterpillar salad',\n",
              " 'present food aw',\n",
              " 'tell disappoint',\n",
              " 'think food flavor textur lack',\n",
              " 'appetit instantli gone',\n",
              " 'overal impress would go back',\n",
              " 'whole experi underwhelm think go ninja sushi next time',\n",
              " 'wast enough life pour salt wound draw time took bring check']"
            ]
          },
          "metadata": {},
          "execution_count": 5
        }
      ]
    },
    {
      "cell_type": "code",
      "source": [
        "from sklearn.feature_extraction.text import CountVectorizer\n",
        "cv = CountVectorizer(max_features=1500)\n",
        "X = cv.fit_transform(corpus).toarray()\n",
        "y = data.iloc[: ,1].values"
      ],
      "metadata": {
        "id": "agreP5-48pIH"
      },
      "execution_count": null,
      "outputs": []
    },
    {
      "cell_type": "code",
      "source": [
        "from sklearn.model_selection import train_test_split\n",
        "X_train, X_test, y_train, y_test = train_test_split(X, y, test_size=0.20, random_state=0)"
      ],
      "metadata": {
        "id": "iwav6X-W9lyv"
      },
      "execution_count": null,
      "outputs": []
    },
    {
      "cell_type": "markdown",
      "source": [
        "# **Multinomial Naive Baise Classifier**\n",
        "\n",
        "---\n",
        "\n",
        "\n"
      ],
      "metadata": {
        "id": "9MpY3KyTbQcc"
      }
    },
    {
      "cell_type": "code",
      "source": [
        "from sklearn.naive_bayes import MultinomialNB\n",
        "classifier =  MultinomialNB()\n",
        "classifier.fit(X_train,y_train)"
      ],
      "metadata": {
        "colab": {
          "base_uri": "https://localhost:8080/",
          "height": 74
        },
        "id": "VG8257B4Hk0a",
        "outputId": "90fdb7f2-c4eb-4b33-ea40-7eb1023006fc"
      },
      "execution_count": null,
      "outputs": [
        {
          "output_type": "execute_result",
          "data": {
            "text/plain": [
              "MultinomialNB()"
            ],
            "text/html": [
              "<style>#sk-container-id-1 {color: black;background-color: white;}#sk-container-id-1 pre{padding: 0;}#sk-container-id-1 div.sk-toggleable {background-color: white;}#sk-container-id-1 label.sk-toggleable__label {cursor: pointer;display: block;width: 100%;margin-bottom: 0;padding: 0.3em;box-sizing: border-box;text-align: center;}#sk-container-id-1 label.sk-toggleable__label-arrow:before {content: \"▸\";float: left;margin-right: 0.25em;color: #696969;}#sk-container-id-1 label.sk-toggleable__label-arrow:hover:before {color: black;}#sk-container-id-1 div.sk-estimator:hover label.sk-toggleable__label-arrow:before {color: black;}#sk-container-id-1 div.sk-toggleable__content {max-height: 0;max-width: 0;overflow: hidden;text-align: left;background-color: #f0f8ff;}#sk-container-id-1 div.sk-toggleable__content pre {margin: 0.2em;color: black;border-radius: 0.25em;background-color: #f0f8ff;}#sk-container-id-1 input.sk-toggleable__control:checked~div.sk-toggleable__content {max-height: 200px;max-width: 100%;overflow: auto;}#sk-container-id-1 input.sk-toggleable__control:checked~label.sk-toggleable__label-arrow:before {content: \"▾\";}#sk-container-id-1 div.sk-estimator input.sk-toggleable__control:checked~label.sk-toggleable__label {background-color: #d4ebff;}#sk-container-id-1 div.sk-label input.sk-toggleable__control:checked~label.sk-toggleable__label {background-color: #d4ebff;}#sk-container-id-1 input.sk-hidden--visually {border: 0;clip: rect(1px 1px 1px 1px);clip: rect(1px, 1px, 1px, 1px);height: 1px;margin: -1px;overflow: hidden;padding: 0;position: absolute;width: 1px;}#sk-container-id-1 div.sk-estimator {font-family: monospace;background-color: #f0f8ff;border: 1px dotted black;border-radius: 0.25em;box-sizing: border-box;margin-bottom: 0.5em;}#sk-container-id-1 div.sk-estimator:hover {background-color: #d4ebff;}#sk-container-id-1 div.sk-parallel-item::after {content: \"\";width: 100%;border-bottom: 1px solid gray;flex-grow: 1;}#sk-container-id-1 div.sk-label:hover label.sk-toggleable__label {background-color: #d4ebff;}#sk-container-id-1 div.sk-serial::before {content: \"\";position: absolute;border-left: 1px solid gray;box-sizing: border-box;top: 0;bottom: 0;left: 50%;z-index: 0;}#sk-container-id-1 div.sk-serial {display: flex;flex-direction: column;align-items: center;background-color: white;padding-right: 0.2em;padding-left: 0.2em;position: relative;}#sk-container-id-1 div.sk-item {position: relative;z-index: 1;}#sk-container-id-1 div.sk-parallel {display: flex;align-items: stretch;justify-content: center;background-color: white;position: relative;}#sk-container-id-1 div.sk-item::before, #sk-container-id-1 div.sk-parallel-item::before {content: \"\";position: absolute;border-left: 1px solid gray;box-sizing: border-box;top: 0;bottom: 0;left: 50%;z-index: -1;}#sk-container-id-1 div.sk-parallel-item {display: flex;flex-direction: column;z-index: 1;position: relative;background-color: white;}#sk-container-id-1 div.sk-parallel-item:first-child::after {align-self: flex-end;width: 50%;}#sk-container-id-1 div.sk-parallel-item:last-child::after {align-self: flex-start;width: 50%;}#sk-container-id-1 div.sk-parallel-item:only-child::after {width: 0;}#sk-container-id-1 div.sk-dashed-wrapped {border: 1px dashed gray;margin: 0 0.4em 0.5em 0.4em;box-sizing: border-box;padding-bottom: 0.4em;background-color: white;}#sk-container-id-1 div.sk-label label {font-family: monospace;font-weight: bold;display: inline-block;line-height: 1.2em;}#sk-container-id-1 div.sk-label-container {text-align: center;}#sk-container-id-1 div.sk-container {/* jupyter's `normalize.less` sets `[hidden] { display: none; }` but bootstrap.min.css set `[hidden] { display: none !important; }` so we also need the `!important` here to be able to override the default hidden behavior on the sphinx rendered scikit-learn.org. See: https://github.com/scikit-learn/scikit-learn/issues/21755 */display: inline-block !important;position: relative;}#sk-container-id-1 div.sk-text-repr-fallback {display: none;}</style><div id=\"sk-container-id-1\" class=\"sk-top-container\"><div class=\"sk-text-repr-fallback\"><pre>MultinomialNB()</pre><b>In a Jupyter environment, please rerun this cell to show the HTML representation or trust the notebook. <br />On GitHub, the HTML representation is unable to render, please try loading this page with nbviewer.org.</b></div><div class=\"sk-container\" hidden><div class=\"sk-item\"><div class=\"sk-estimator sk-toggleable\"><input class=\"sk-toggleable__control sk-hidden--visually\" id=\"sk-estimator-id-1\" type=\"checkbox\" checked><label for=\"sk-estimator-id-1\" class=\"sk-toggleable__label sk-toggleable__label-arrow\">MultinomialNB</label><div class=\"sk-toggleable__content\"><pre>MultinomialNB()</pre></div></div></div></div></div>"
            ]
          },
          "metadata": {},
          "execution_count": 8
        }
      ]
    },
    {
      "cell_type": "code",
      "source": [
        "y_predict = classifier.predict(X_test)\n",
        "y_predict"
      ],
      "metadata": {
        "colab": {
          "base_uri": "https://localhost:8080/"
        },
        "id": "5gzAX3eHH9JA",
        "outputId": "77519295-797e-403c-8471-18993fbd079b"
      },
      "execution_count": null,
      "outputs": [
        {
          "output_type": "execute_result",
          "data": {
            "text/plain": [
              "array([0, 0, 0, 0, 0, 0, 1, 0, 0, 1, 1, 1, 1, 1, 1, 1, 0, 0, 0, 1, 0, 0,\n",
              "       1, 1, 1, 1, 1, 1, 1, 1, 1, 1, 1, 1, 1, 0, 0, 0, 0, 1, 1, 1, 1, 0,\n",
              "       0, 0, 1, 1, 0, 0, 1, 1, 1, 1, 1, 0, 1, 1, 0, 1, 1, 0, 0, 1, 0, 0,\n",
              "       1, 0, 1, 0, 1, 1, 1, 0, 0, 0, 0, 1, 0, 1, 1, 1, 1, 0, 1, 1, 1, 0,\n",
              "       1, 1, 0, 1, 0, 0, 0, 0, 0, 0, 0, 0, 0, 1, 1, 1, 0, 1, 1, 1, 0, 0,\n",
              "       0, 1, 0, 1, 1, 0, 1, 1, 1, 1, 1, 0, 1, 1, 0, 0, 1, 1, 0, 0, 1, 1,\n",
              "       0, 0, 1, 1, 1, 1, 1, 1, 0, 1, 1, 0, 0, 0, 0, 0, 1, 0, 1, 0, 1, 1,\n",
              "       1, 0, 1, 0, 1, 1, 0, 0, 1, 1, 0, 0, 1, 0, 0, 0, 0, 1, 1, 0, 0, 1,\n",
              "       0, 1, 0, 0, 1, 0, 0, 1, 0, 0, 0, 1, 0, 1, 1, 0, 1, 0, 0, 0, 1, 1,\n",
              "       0, 1])"
            ]
          },
          "metadata": {},
          "execution_count": 9
        }
      ]
    },
    {
      "cell_type": "code",
      "source": [
        "from sklearn.metrics import accuracy_score\n",
        "from sklearn.metrics import precision_score\n",
        "from sklearn.metrics import recall_score\n",
        "\n",
        "score1 = accuracy_score(y_test,y_predict)\n",
        "score2 = precision_score(y_test,y_predict)\n",
        "score3 = recall_score(y_test,y_predict)\n",
        "\n",
        "print(f\"The accuracy score for the model is {score1*100}%\")\n",
        "print(f\"The precision score for the model is {score2*100}%\")\n",
        "print(f\"The recall score for the model is {score3*100}%\")"
      ],
      "metadata": {
        "id": "I7F5svVmK95p",
        "colab": {
          "base_uri": "https://localhost:8080/"
        },
        "outputId": "e9f180ab-0ca7-4ebc-e810-ad9db389b4b9"
      },
      "execution_count": null,
      "outputs": [
        {
          "output_type": "stream",
          "name": "stdout",
          "text": [
            "The accuracy score for the model is 76.5%\n",
            "The precision score for the model is 76.41509433962264%\n",
            "The recall score for the model is 78.64077669902912%\n"
          ]
        }
      ]
    },
    {
      "cell_type": "markdown",
      "source": [
        "<h3>Hyperparameter Tuning</h3>"
      ],
      "metadata": {
        "id": "DH72uIUK_HIU"
      }
    },
    {
      "cell_type": "code",
      "source": [
        "best_score = 0.0\n",
        "alp = 0.0\n",
        "for i in np.arange (0.1,1.1,0.1):\n",
        "  classifier = MultinomialNB(alpha = i)\n",
        "  classifier.fit(X_train,y_train)\n",
        "  y_predict = classifier.predict(X_test)\n",
        "  score = accuracy_score(y_test,y_predict)\n",
        "  if score > best_score:\n",
        "    best_score = score\n",
        "    alp = i\n",
        "\n",
        "print(\"Best accuracy Score is \"+str(best_score*100)+\" for alpha \"+str(alp))"
      ],
      "metadata": {
        "colab": {
          "base_uri": "https://localhost:8080/"
        },
        "id": "22XCQWURg6fV",
        "outputId": "7d61da2d-b414-436f-ffc4-ce0667e4aaa9"
      },
      "execution_count": null,
      "outputs": [
        {
          "output_type": "stream",
          "name": "stdout",
          "text": [
            "Best accuracy Score is 78.5 for alpha 0.2\n"
          ]
        }
      ]
    },
    {
      "cell_type": "markdown",
      "source": [
        "<h3>Using the best model as per hyperparameter tuning</h3>"
      ],
      "metadata": {
        "id": "8waibyQR_U0c"
      }
    },
    {
      "cell_type": "code",
      "source": [
        "from sklearn.naive_bayes import MultinomialNB\n",
        "classifier =  MultinomialNB(alpha=0.2)\n",
        "classifier.fit(X_train,y_train)"
      ],
      "metadata": {
        "colab": {
          "base_uri": "https://localhost:8080/",
          "height": 74
        },
        "id": "whUWCjr3_SRq",
        "outputId": "5e369dd6-0425-44b2-8024-ef8dd8f790c6"
      },
      "execution_count": null,
      "outputs": [
        {
          "output_type": "execute_result",
          "data": {
            "text/plain": [
              "MultinomialNB(alpha=0.2)"
            ],
            "text/html": [
              "<style>#sk-container-id-2 {color: black;background-color: white;}#sk-container-id-2 pre{padding: 0;}#sk-container-id-2 div.sk-toggleable {background-color: white;}#sk-container-id-2 label.sk-toggleable__label {cursor: pointer;display: block;width: 100%;margin-bottom: 0;padding: 0.3em;box-sizing: border-box;text-align: center;}#sk-container-id-2 label.sk-toggleable__label-arrow:before {content: \"▸\";float: left;margin-right: 0.25em;color: #696969;}#sk-container-id-2 label.sk-toggleable__label-arrow:hover:before {color: black;}#sk-container-id-2 div.sk-estimator:hover label.sk-toggleable__label-arrow:before {color: black;}#sk-container-id-2 div.sk-toggleable__content {max-height: 0;max-width: 0;overflow: hidden;text-align: left;background-color: #f0f8ff;}#sk-container-id-2 div.sk-toggleable__content pre {margin: 0.2em;color: black;border-radius: 0.25em;background-color: #f0f8ff;}#sk-container-id-2 input.sk-toggleable__control:checked~div.sk-toggleable__content {max-height: 200px;max-width: 100%;overflow: auto;}#sk-container-id-2 input.sk-toggleable__control:checked~label.sk-toggleable__label-arrow:before {content: \"▾\";}#sk-container-id-2 div.sk-estimator input.sk-toggleable__control:checked~label.sk-toggleable__label {background-color: #d4ebff;}#sk-container-id-2 div.sk-label input.sk-toggleable__control:checked~label.sk-toggleable__label {background-color: #d4ebff;}#sk-container-id-2 input.sk-hidden--visually {border: 0;clip: rect(1px 1px 1px 1px);clip: rect(1px, 1px, 1px, 1px);height: 1px;margin: -1px;overflow: hidden;padding: 0;position: absolute;width: 1px;}#sk-container-id-2 div.sk-estimator {font-family: monospace;background-color: #f0f8ff;border: 1px dotted black;border-radius: 0.25em;box-sizing: border-box;margin-bottom: 0.5em;}#sk-container-id-2 div.sk-estimator:hover {background-color: #d4ebff;}#sk-container-id-2 div.sk-parallel-item::after {content: \"\";width: 100%;border-bottom: 1px solid gray;flex-grow: 1;}#sk-container-id-2 div.sk-label:hover label.sk-toggleable__label {background-color: #d4ebff;}#sk-container-id-2 div.sk-serial::before {content: \"\";position: absolute;border-left: 1px solid gray;box-sizing: border-box;top: 0;bottom: 0;left: 50%;z-index: 0;}#sk-container-id-2 div.sk-serial {display: flex;flex-direction: column;align-items: center;background-color: white;padding-right: 0.2em;padding-left: 0.2em;position: relative;}#sk-container-id-2 div.sk-item {position: relative;z-index: 1;}#sk-container-id-2 div.sk-parallel {display: flex;align-items: stretch;justify-content: center;background-color: white;position: relative;}#sk-container-id-2 div.sk-item::before, #sk-container-id-2 div.sk-parallel-item::before {content: \"\";position: absolute;border-left: 1px solid gray;box-sizing: border-box;top: 0;bottom: 0;left: 50%;z-index: -1;}#sk-container-id-2 div.sk-parallel-item {display: flex;flex-direction: column;z-index: 1;position: relative;background-color: white;}#sk-container-id-2 div.sk-parallel-item:first-child::after {align-self: flex-end;width: 50%;}#sk-container-id-2 div.sk-parallel-item:last-child::after {align-self: flex-start;width: 50%;}#sk-container-id-2 div.sk-parallel-item:only-child::after {width: 0;}#sk-container-id-2 div.sk-dashed-wrapped {border: 1px dashed gray;margin: 0 0.4em 0.5em 0.4em;box-sizing: border-box;padding-bottom: 0.4em;background-color: white;}#sk-container-id-2 div.sk-label label {font-family: monospace;font-weight: bold;display: inline-block;line-height: 1.2em;}#sk-container-id-2 div.sk-label-container {text-align: center;}#sk-container-id-2 div.sk-container {/* jupyter's `normalize.less` sets `[hidden] { display: none; }` but bootstrap.min.css set `[hidden] { display: none !important; }` so we also need the `!important` here to be able to override the default hidden behavior on the sphinx rendered scikit-learn.org. See: https://github.com/scikit-learn/scikit-learn/issues/21755 */display: inline-block !important;position: relative;}#sk-container-id-2 div.sk-text-repr-fallback {display: none;}</style><div id=\"sk-container-id-2\" class=\"sk-top-container\"><div class=\"sk-text-repr-fallback\"><pre>MultinomialNB(alpha=0.2)</pre><b>In a Jupyter environment, please rerun this cell to show the HTML representation or trust the notebook. <br />On GitHub, the HTML representation is unable to render, please try loading this page with nbviewer.org.</b></div><div class=\"sk-container\" hidden><div class=\"sk-item\"><div class=\"sk-estimator sk-toggleable\"><input class=\"sk-toggleable__control sk-hidden--visually\" id=\"sk-estimator-id-2\" type=\"checkbox\" checked><label for=\"sk-estimator-id-2\" class=\"sk-toggleable__label sk-toggleable__label-arrow\">MultinomialNB</label><div class=\"sk-toggleable__content\"><pre>MultinomialNB(alpha=0.2)</pre></div></div></div></div></div>"
            ]
          },
          "metadata": {},
          "execution_count": 12
        }
      ]
    },
    {
      "cell_type": "code",
      "source": [
        "y_predict = classifier.predict(X_test)\n",
        "y_predict"
      ],
      "metadata": {
        "colab": {
          "base_uri": "https://localhost:8080/"
        },
        "id": "bu29k0F7_qqB",
        "outputId": "18600340-7cc4-4d89-980c-da933313a062"
      },
      "execution_count": null,
      "outputs": [
        {
          "output_type": "execute_result",
          "data": {
            "text/plain": [
              "array([0, 0, 0, 0, 0, 0, 1, 0, 0, 1, 1, 1, 1, 1, 1, 1, 0, 0, 0, 1, 0, 0,\n",
              "       1, 1, 1, 1, 1, 1, 1, 0, 1, 1, 1, 1, 1, 0, 0, 0, 1, 1, 1, 1, 1, 0,\n",
              "       0, 0, 1, 1, 0, 0, 1, 1, 1, 1, 1, 0, 1, 1, 0, 1, 1, 0, 0, 1, 1, 0,\n",
              "       1, 0, 1, 0, 1, 1, 1, 0, 0, 0, 1, 0, 0, 1, 0, 1, 1, 0, 1, 1, 1, 0,\n",
              "       1, 1, 0, 1, 0, 0, 0, 0, 0, 0, 0, 0, 0, 1, 1, 1, 0, 1, 1, 1, 0, 0,\n",
              "       0, 1, 0, 1, 1, 0, 1, 1, 1, 1, 1, 0, 1, 1, 0, 0, 1, 1, 0, 0, 1, 1,\n",
              "       0, 0, 1, 1, 1, 1, 1, 1, 0, 1, 1, 0, 0, 0, 0, 0, 1, 0, 1, 0, 1, 1,\n",
              "       1, 0, 1, 1, 1, 1, 0, 0, 1, 1, 0, 0, 1, 0, 0, 0, 0, 1, 1, 0, 0, 1,\n",
              "       0, 1, 0, 0, 1, 0, 0, 1, 0, 1, 0, 1, 0, 1, 1, 0, 1, 0, 0, 0, 1, 1,\n",
              "       0, 1])"
            ]
          },
          "metadata": {},
          "execution_count": 13
        }
      ]
    },
    {
      "cell_type": "code",
      "source": [
        "from sklearn.metrics import accuracy_score\n",
        "from sklearn.metrics import precision_score\n",
        "from sklearn.metrics import recall_score\n",
        "\n",
        "score1 = accuracy_score(y_test,y_predict)\n",
        "score2 = precision_score(y_test,y_predict)\n",
        "score3 = recall_score(y_test,y_predict)\n",
        "\n",
        "print(f\"The accuracy score for the model is {score1*100}%\")\n",
        "print(f\"The precision score for the model is {score2*100}%\")\n",
        "print(f\"The recall score for the model is {score3*100}%\")"
      ],
      "metadata": {
        "colab": {
          "base_uri": "https://localhost:8080/"
        },
        "id": "iR7LTss9_vZT",
        "outputId": "3b4114e2-598c-47fc-f657-02607dfa6d3d"
      },
      "execution_count": null,
      "outputs": [
        {
          "output_type": "stream",
          "name": "stdout",
          "text": [
            "The accuracy score for the model is 78.5%\n",
            "The precision score for the model is 77.77777777777779%\n",
            "The recall score for the model is 81.55339805825243%\n"
          ]
        }
      ]
    },
    {
      "cell_type": "markdown",
      "source": [
        "<h3>Testing the model Against Random Inputs</h3>"
      ],
      "metadata": {
        "id": "vX30jJoj_u29"
      }
    },
    {
      "cell_type": "code",
      "source": [
        "def predict_sentiment(sample_review):\n",
        "  sample_review = re.sub(pattern='[^a-zA-Z]',repl=' ',string = sample_review)\n",
        "  sample_review = sample_review.lower()\n",
        "  sample_review_words = sample_review.split()\n",
        "  sample_review_words = [ word for word in sample_review_words if not word in set(stopwords.words('english'))]\n",
        "  final_review = [ps().stem(word) for word in sample_review_words]\n",
        "  final_review = ' '.join(final_review)\n",
        "\n",
        "  temp = cv.transform([final_review]).toarray()\n",
        "  return classifier.predict(temp)"
      ],
      "metadata": {
        "id": "yulvo1sCH5vn"
      },
      "execution_count": null,
      "outputs": []
    },
    {
      "cell_type": "code",
      "source": [
        "sample_review = ['The food is really wonderful',\n",
        "                 'The food is bad and service is also not good',\n",
        "                 'Not tasty and the texture was just nasty',\n",
        "                 'Highly recommended',\n",
        "                 'The worst was the salmon sashimi']\n",
        "i=1\n",
        "for sample in sample_review:\n",
        "  if predict_sentiment(sample):\n",
        "    print(f'The review {i} is Positive')\n",
        "  else:\n",
        "    print(f'The review {i} is Negative')\n",
        "  i+=1"
      ],
      "metadata": {
        "colab": {
          "base_uri": "https://localhost:8080/"
        },
        "id": "Wdln9PtbBa1q",
        "outputId": "388ba197-fcfb-41e9-e4ec-778fb4d3781b"
      },
      "execution_count": null,
      "outputs": [
        {
          "output_type": "stream",
          "name": "stdout",
          "text": [
            "The review 1 is Positive\n",
            "The review 2 is Negative\n",
            "The review 3 is Negative\n",
            "The review 4 is Positive\n",
            "The review 5 is Negative\n"
          ]
        }
      ]
    },
    {
      "cell_type": "markdown",
      "source": [
        "# **Logistic Regression**\n",
        "\n",
        "---\n",
        "\n"
      ],
      "metadata": {
        "id": "YQYTxSypbhVP"
      }
    },
    {
      "cell_type": "code",
      "source": [
        "from sklearn.linear_model import LogisticRegression\n",
        "from imblearn.over_sampling import SMOTE\n",
        "\n",
        "X_train, X_test, y_train, y_test = train_test_split(X, y, test_size = 0.2, random_state = 10)\n",
        "sm = SMOTE(random_state = 2)\n",
        "X_train_res, y_train_res = sm.fit_resample(X_train, y_train.ravel())\n",
        "\n",
        "classifier = LogisticRegression()\n",
        "classifier.fit(X_train,y_train)"
      ],
      "metadata": {
        "colab": {
          "base_uri": "https://localhost:8080/",
          "height": 74
        },
        "id": "0wOPbbmAUKsw",
        "outputId": "7cca0c9e-5e67-4de5-99d9-c31c259ba3dd"
      },
      "execution_count": null,
      "outputs": [
        {
          "output_type": "execute_result",
          "data": {
            "text/plain": [
              "LogisticRegression()"
            ],
            "text/html": [
              "<style>#sk-container-id-3 {color: black;background-color: white;}#sk-container-id-3 pre{padding: 0;}#sk-container-id-3 div.sk-toggleable {background-color: white;}#sk-container-id-3 label.sk-toggleable__label {cursor: pointer;display: block;width: 100%;margin-bottom: 0;padding: 0.3em;box-sizing: border-box;text-align: center;}#sk-container-id-3 label.sk-toggleable__label-arrow:before {content: \"▸\";float: left;margin-right: 0.25em;color: #696969;}#sk-container-id-3 label.sk-toggleable__label-arrow:hover:before {color: black;}#sk-container-id-3 div.sk-estimator:hover label.sk-toggleable__label-arrow:before {color: black;}#sk-container-id-3 div.sk-toggleable__content {max-height: 0;max-width: 0;overflow: hidden;text-align: left;background-color: #f0f8ff;}#sk-container-id-3 div.sk-toggleable__content pre {margin: 0.2em;color: black;border-radius: 0.25em;background-color: #f0f8ff;}#sk-container-id-3 input.sk-toggleable__control:checked~div.sk-toggleable__content {max-height: 200px;max-width: 100%;overflow: auto;}#sk-container-id-3 input.sk-toggleable__control:checked~label.sk-toggleable__label-arrow:before {content: \"▾\";}#sk-container-id-3 div.sk-estimator input.sk-toggleable__control:checked~label.sk-toggleable__label {background-color: #d4ebff;}#sk-container-id-3 div.sk-label input.sk-toggleable__control:checked~label.sk-toggleable__label {background-color: #d4ebff;}#sk-container-id-3 input.sk-hidden--visually {border: 0;clip: rect(1px 1px 1px 1px);clip: rect(1px, 1px, 1px, 1px);height: 1px;margin: -1px;overflow: hidden;padding: 0;position: absolute;width: 1px;}#sk-container-id-3 div.sk-estimator {font-family: monospace;background-color: #f0f8ff;border: 1px dotted black;border-radius: 0.25em;box-sizing: border-box;margin-bottom: 0.5em;}#sk-container-id-3 div.sk-estimator:hover {background-color: #d4ebff;}#sk-container-id-3 div.sk-parallel-item::after {content: \"\";width: 100%;border-bottom: 1px solid gray;flex-grow: 1;}#sk-container-id-3 div.sk-label:hover label.sk-toggleable__label {background-color: #d4ebff;}#sk-container-id-3 div.sk-serial::before {content: \"\";position: absolute;border-left: 1px solid gray;box-sizing: border-box;top: 0;bottom: 0;left: 50%;z-index: 0;}#sk-container-id-3 div.sk-serial {display: flex;flex-direction: column;align-items: center;background-color: white;padding-right: 0.2em;padding-left: 0.2em;position: relative;}#sk-container-id-3 div.sk-item {position: relative;z-index: 1;}#sk-container-id-3 div.sk-parallel {display: flex;align-items: stretch;justify-content: center;background-color: white;position: relative;}#sk-container-id-3 div.sk-item::before, #sk-container-id-3 div.sk-parallel-item::before {content: \"\";position: absolute;border-left: 1px solid gray;box-sizing: border-box;top: 0;bottom: 0;left: 50%;z-index: -1;}#sk-container-id-3 div.sk-parallel-item {display: flex;flex-direction: column;z-index: 1;position: relative;background-color: white;}#sk-container-id-3 div.sk-parallel-item:first-child::after {align-self: flex-end;width: 50%;}#sk-container-id-3 div.sk-parallel-item:last-child::after {align-self: flex-start;width: 50%;}#sk-container-id-3 div.sk-parallel-item:only-child::after {width: 0;}#sk-container-id-3 div.sk-dashed-wrapped {border: 1px dashed gray;margin: 0 0.4em 0.5em 0.4em;box-sizing: border-box;padding-bottom: 0.4em;background-color: white;}#sk-container-id-3 div.sk-label label {font-family: monospace;font-weight: bold;display: inline-block;line-height: 1.2em;}#sk-container-id-3 div.sk-label-container {text-align: center;}#sk-container-id-3 div.sk-container {/* jupyter's `normalize.less` sets `[hidden] { display: none; }` but bootstrap.min.css set `[hidden] { display: none !important; }` so we also need the `!important` here to be able to override the default hidden behavior on the sphinx rendered scikit-learn.org. See: https://github.com/scikit-learn/scikit-learn/issues/21755 */display: inline-block !important;position: relative;}#sk-container-id-3 div.sk-text-repr-fallback {display: none;}</style><div id=\"sk-container-id-3\" class=\"sk-top-container\"><div class=\"sk-text-repr-fallback\"><pre>LogisticRegression()</pre><b>In a Jupyter environment, please rerun this cell to show the HTML representation or trust the notebook. <br />On GitHub, the HTML representation is unable to render, please try loading this page with nbviewer.org.</b></div><div class=\"sk-container\" hidden><div class=\"sk-item\"><div class=\"sk-estimator sk-toggleable\"><input class=\"sk-toggleable__control sk-hidden--visually\" id=\"sk-estimator-id-3\" type=\"checkbox\" checked><label for=\"sk-estimator-id-3\" class=\"sk-toggleable__label sk-toggleable__label-arrow\">LogisticRegression</label><div class=\"sk-toggleable__content\"><pre>LogisticRegression()</pre></div></div></div></div></div>"
            ]
          },
          "metadata": {},
          "execution_count": 17
        }
      ]
    },
    {
      "cell_type": "code",
      "source": [
        "y_predict = classifier.predict(X_test)\n",
        "y_predict"
      ],
      "metadata": {
        "colab": {
          "base_uri": "https://localhost:8080/"
        },
        "id": "v230TjuHUKdW",
        "outputId": "90c1e43d-4dd8-4988-a023-3f6cf9cc9807"
      },
      "execution_count": null,
      "outputs": [
        {
          "output_type": "execute_result",
          "data": {
            "text/plain": [
              "array([1, 0, 0, 0, 1, 0, 0, 1, 0, 0, 1, 1, 1, 0, 1, 1, 1, 1, 1, 0, 0, 0,\n",
              "       1, 1, 1, 1, 0, 0, 1, 1, 1, 1, 0, 1, 0, 1, 1, 0, 1, 0, 1, 1, 0, 0,\n",
              "       0, 1, 0, 1, 1, 0, 1, 0, 0, 1, 0, 1, 0, 0, 0, 1, 0, 0, 0, 0, 1, 1,\n",
              "       0, 1, 0, 0, 1, 1, 1, 1, 1, 0, 0, 0, 0, 1, 0, 0, 0, 1, 0, 1, 0, 0,\n",
              "       0, 1, 1, 0, 1, 0, 1, 0, 1, 1, 1, 0, 0, 0, 0, 0, 1, 1, 1, 0, 0, 1,\n",
              "       1, 1, 1, 1, 0, 0, 1, 0, 0, 1, 1, 1, 1, 0, 0, 0, 0, 1, 1, 1, 1, 0,\n",
              "       0, 1, 1, 0, 1, 1, 0, 0, 0, 1, 1, 0, 0, 0, 0, 0, 0, 0, 0, 1, 0, 0,\n",
              "       1, 1, 0, 0, 0, 1, 1, 0, 1, 1, 1, 1, 1, 0, 0, 1, 1, 1, 1, 1, 1, 0,\n",
              "       0, 0, 0, 1, 0, 1, 1, 1, 1, 0, 0, 1, 0, 1, 0, 1, 0, 0, 0, 1, 1, 1,\n",
              "       0, 1])"
            ]
          },
          "metadata": {},
          "execution_count": 18
        }
      ]
    },
    {
      "cell_type": "code",
      "source": [
        "from sklearn.metrics import accuracy_score\n",
        "from sklearn.metrics import precision_score\n",
        "from sklearn.metrics import recall_score\n",
        "\n",
        "score1 = accuracy_score(y_test,y_predict)\n",
        "score2 = precision_score(y_test,y_predict)\n",
        "score3 = recall_score(y_test,y_predict)\n",
        "\n",
        "print(f\"The accuracy score for the model is {score1*100}%\")\n",
        "print(f\"The precision score for the model is {score2*100}%\")\n",
        "print(f\"The recall score for the model is {score3*100}%\")"
      ],
      "metadata": {
        "colab": {
          "base_uri": "https://localhost:8080/"
        },
        "id": "JH9aOAIqU-o2",
        "outputId": "7cec9a52-42b0-4ee5-aa11-c52eff50c089"
      },
      "execution_count": null,
      "outputs": [
        {
          "output_type": "stream",
          "name": "stdout",
          "text": [
            "The accuracy score for the model is 77.5%\n",
            "The precision score for the model is 77.22772277227723%\n",
            "The recall score for the model is 78.0%\n"
          ]
        }
      ]
    },
    {
      "cell_type": "markdown",
      "source": [
        "<h3>Testing the model against random inputs.</h3>"
      ],
      "metadata": {
        "id": "U8UW8eUKQ8qK"
      }
    },
    {
      "cell_type": "code",
      "source": [
        "def predict_sentiment(sample_review):\n",
        "  sample_review = re.sub(pattern='[^a-zA-Z]',repl=' ',string = sample_review)\n",
        "  sample_review = sample_review.lower()\n",
        "  sample_review_words = sample_review.split()\n",
        "  sample_review_words = [ word for word in sample_review_words if not word in set(stopwords.words('english'))]\n",
        "  final_review = [ps().stem(word) for word in sample_review_words]\n",
        "  final_review = ' '.join(final_review)\n",
        "\n",
        "  temp = cv.transform([final_review]).toarray()\n",
        "  return classifier.predict(temp)"
      ],
      "metadata": {
        "id": "RoyxsPXuRC29"
      },
      "execution_count": null,
      "outputs": []
    },
    {
      "cell_type": "code",
      "source": [
        "sample_review = ['The food is really wonderful',\n",
        "                 'The food is bad and service is also not good',\n",
        "                 'Not tasty and the texture was just nasty',\n",
        "                 'Highly recommended',\n",
        "                 'The worst was the salmon sashimi']\n",
        "i=1\n",
        "for sample in sample_review:\n",
        "  if predict_sentiment(sample):\n",
        "    print(f'The review {i} is Positive')\n",
        "  else:\n",
        "    print(f'The review {i} is Negative')\n",
        "  i+=1"
      ],
      "metadata": {
        "colab": {
          "base_uri": "https://localhost:8080/"
        },
        "id": "QPkrFqnYRI8e",
        "outputId": "6959a19e-4176-4778-f3cc-455b90d557bd"
      },
      "execution_count": null,
      "outputs": [
        {
          "output_type": "stream",
          "name": "stdout",
          "text": [
            "The review 1 is Positive\n",
            "The review 2 is Positive\n",
            "The review 3 is Negative\n",
            "The review 4 is Positive\n",
            "The review 5 is Negative\n"
          ]
        }
      ]
    },
    {
      "cell_type": "markdown",
      "source": [
        "# **Decision Tree Classifier**\n",
        "\n",
        "\n",
        "---\n",
        "\n"
      ],
      "metadata": {
        "id": "IJGtS9igbpYo"
      }
    },
    {
      "cell_type": "code",
      "source": [
        "from sklearn.tree import DecisionTreeClassifier\n",
        "classifier = DecisionTreeClassifier(criterion=\"entropy\", max_depth=1)\n",
        "classifier.fit(X_train,y_train)"
      ],
      "metadata": {
        "colab": {
          "base_uri": "https://localhost:8080/",
          "height": 74
        },
        "id": "xUDjbOIdY8nn",
        "outputId": "744569e6-0439-4786-ad28-0fb1256117d9"
      },
      "execution_count": null,
      "outputs": [
        {
          "output_type": "execute_result",
          "data": {
            "text/plain": [
              "DecisionTreeClassifier(criterion='entropy', max_depth=1)"
            ],
            "text/html": [
              "<style>#sk-container-id-4 {color: black;background-color: white;}#sk-container-id-4 pre{padding: 0;}#sk-container-id-4 div.sk-toggleable {background-color: white;}#sk-container-id-4 label.sk-toggleable__label {cursor: pointer;display: block;width: 100%;margin-bottom: 0;padding: 0.3em;box-sizing: border-box;text-align: center;}#sk-container-id-4 label.sk-toggleable__label-arrow:before {content: \"▸\";float: left;margin-right: 0.25em;color: #696969;}#sk-container-id-4 label.sk-toggleable__label-arrow:hover:before {color: black;}#sk-container-id-4 div.sk-estimator:hover label.sk-toggleable__label-arrow:before {color: black;}#sk-container-id-4 div.sk-toggleable__content {max-height: 0;max-width: 0;overflow: hidden;text-align: left;background-color: #f0f8ff;}#sk-container-id-4 div.sk-toggleable__content pre {margin: 0.2em;color: black;border-radius: 0.25em;background-color: #f0f8ff;}#sk-container-id-4 input.sk-toggleable__control:checked~div.sk-toggleable__content {max-height: 200px;max-width: 100%;overflow: auto;}#sk-container-id-4 input.sk-toggleable__control:checked~label.sk-toggleable__label-arrow:before {content: \"▾\";}#sk-container-id-4 div.sk-estimator input.sk-toggleable__control:checked~label.sk-toggleable__label {background-color: #d4ebff;}#sk-container-id-4 div.sk-label input.sk-toggleable__control:checked~label.sk-toggleable__label {background-color: #d4ebff;}#sk-container-id-4 input.sk-hidden--visually {border: 0;clip: rect(1px 1px 1px 1px);clip: rect(1px, 1px, 1px, 1px);height: 1px;margin: -1px;overflow: hidden;padding: 0;position: absolute;width: 1px;}#sk-container-id-4 div.sk-estimator {font-family: monospace;background-color: #f0f8ff;border: 1px dotted black;border-radius: 0.25em;box-sizing: border-box;margin-bottom: 0.5em;}#sk-container-id-4 div.sk-estimator:hover {background-color: #d4ebff;}#sk-container-id-4 div.sk-parallel-item::after {content: \"\";width: 100%;border-bottom: 1px solid gray;flex-grow: 1;}#sk-container-id-4 div.sk-label:hover label.sk-toggleable__label {background-color: #d4ebff;}#sk-container-id-4 div.sk-serial::before {content: \"\";position: absolute;border-left: 1px solid gray;box-sizing: border-box;top: 0;bottom: 0;left: 50%;z-index: 0;}#sk-container-id-4 div.sk-serial {display: flex;flex-direction: column;align-items: center;background-color: white;padding-right: 0.2em;padding-left: 0.2em;position: relative;}#sk-container-id-4 div.sk-item {position: relative;z-index: 1;}#sk-container-id-4 div.sk-parallel {display: flex;align-items: stretch;justify-content: center;background-color: white;position: relative;}#sk-container-id-4 div.sk-item::before, #sk-container-id-4 div.sk-parallel-item::before {content: \"\";position: absolute;border-left: 1px solid gray;box-sizing: border-box;top: 0;bottom: 0;left: 50%;z-index: -1;}#sk-container-id-4 div.sk-parallel-item {display: flex;flex-direction: column;z-index: 1;position: relative;background-color: white;}#sk-container-id-4 div.sk-parallel-item:first-child::after {align-self: flex-end;width: 50%;}#sk-container-id-4 div.sk-parallel-item:last-child::after {align-self: flex-start;width: 50%;}#sk-container-id-4 div.sk-parallel-item:only-child::after {width: 0;}#sk-container-id-4 div.sk-dashed-wrapped {border: 1px dashed gray;margin: 0 0.4em 0.5em 0.4em;box-sizing: border-box;padding-bottom: 0.4em;background-color: white;}#sk-container-id-4 div.sk-label label {font-family: monospace;font-weight: bold;display: inline-block;line-height: 1.2em;}#sk-container-id-4 div.sk-label-container {text-align: center;}#sk-container-id-4 div.sk-container {/* jupyter's `normalize.less` sets `[hidden] { display: none; }` but bootstrap.min.css set `[hidden] { display: none !important; }` so we also need the `!important` here to be able to override the default hidden behavior on the sphinx rendered scikit-learn.org. See: https://github.com/scikit-learn/scikit-learn/issues/21755 */display: inline-block !important;position: relative;}#sk-container-id-4 div.sk-text-repr-fallback {display: none;}</style><div id=\"sk-container-id-4\" class=\"sk-top-container\"><div class=\"sk-text-repr-fallback\"><pre>DecisionTreeClassifier(criterion=&#x27;entropy&#x27;, max_depth=1)</pre><b>In a Jupyter environment, please rerun this cell to show the HTML representation or trust the notebook. <br />On GitHub, the HTML representation is unable to render, please try loading this page with nbviewer.org.</b></div><div class=\"sk-container\" hidden><div class=\"sk-item\"><div class=\"sk-estimator sk-toggleable\"><input class=\"sk-toggleable__control sk-hidden--visually\" id=\"sk-estimator-id-4\" type=\"checkbox\" checked><label for=\"sk-estimator-id-4\" class=\"sk-toggleable__label sk-toggleable__label-arrow\">DecisionTreeClassifier</label><div class=\"sk-toggleable__content\"><pre>DecisionTreeClassifier(criterion=&#x27;entropy&#x27;, max_depth=1)</pre></div></div></div></div></div>"
            ]
          },
          "metadata": {},
          "execution_count": 22
        }
      ]
    },
    {
      "cell_type": "code",
      "source": [
        "y_predict = classifier.predict(X_test)\n",
        "y_predict"
      ],
      "metadata": {
        "colab": {
          "base_uri": "https://localhost:8080/"
        },
        "id": "3pb-nnw5ZEc9",
        "outputId": "c97ba0fb-4f64-4426-9f3d-f2e1dfe53831"
      },
      "execution_count": null,
      "outputs": [
        {
          "output_type": "execute_result",
          "data": {
            "text/plain": [
              "array([0, 0, 0, 0, 0, 0, 0, 0, 0, 0, 1, 0, 0, 0, 1, 0, 0, 0, 0, 0, 0, 0,\n",
              "       1, 0, 1, 0, 0, 0, 0, 0, 1, 0, 0, 0, 0, 0, 0, 0, 1, 0, 0, 0, 0, 0,\n",
              "       0, 0, 0, 0, 0, 0, 1, 0, 0, 0, 0, 0, 0, 0, 0, 0, 0, 0, 0, 0, 1, 0,\n",
              "       0, 1, 0, 0, 0, 0, 0, 0, 0, 0, 0, 0, 0, 0, 0, 0, 0, 0, 0, 0, 0, 0,\n",
              "       0, 0, 0, 0, 0, 0, 0, 0, 0, 1, 0, 0, 0, 0, 0, 0, 0, 0, 0, 0, 0, 0,\n",
              "       0, 0, 0, 0, 0, 0, 0, 0, 0, 1, 0, 0, 0, 0, 0, 0, 0, 0, 0, 0, 0, 0,\n",
              "       0, 0, 0, 0, 0, 0, 0, 0, 0, 1, 0, 0, 0, 0, 0, 0, 0, 0, 0, 1, 0, 0,\n",
              "       0, 0, 0, 0, 0, 0, 0, 0, 0, 0, 1, 0, 0, 0, 0, 0, 0, 0, 1, 0, 0, 0,\n",
              "       0, 0, 0, 0, 0, 0, 0, 0, 1, 0, 0, 0, 0, 0, 0, 0, 0, 0, 0, 0, 0, 0,\n",
              "       0, 0])"
            ]
          },
          "metadata": {},
          "execution_count": 23
        }
      ]
    },
    {
      "cell_type": "code",
      "source": [
        "from sklearn.metrics import accuracy_score\n",
        "from sklearn.metrics import precision_score\n",
        "from sklearn.metrics import recall_score\n",
        "\n",
        "score1 = accuracy_score(y_test,y_predict)\n",
        "score2 = precision_score(y_test,y_predict)\n",
        "score3 = recall_score(y_test,y_predict)\n",
        "\n",
        "print(f\"The accuracy score for the model is {score1*100}%\")\n",
        "print(f\"The precision score for the model is {score2*100}%\")\n",
        "print(f\"The recall score for the model is {score3*100}%\")"
      ],
      "metadata": {
        "colab": {
          "base_uri": "https://localhost:8080/"
        },
        "id": "IsuO9ILhZETp",
        "outputId": "b1a7aa9d-e21d-40f8-9aa7-6f0b12743d0f"
      },
      "execution_count": null,
      "outputs": [
        {
          "output_type": "stream",
          "name": "stdout",
          "text": [
            "The accuracy score for the model is 57.99999999999999%\n",
            "The precision score for the model is 100.0%\n",
            "The recall score for the model is 16.0%\n"
          ]
        }
      ]
    },
    {
      "cell_type": "markdown",
      "source": [
        "<h3>Hyperparameter Tuning</h3>"
      ],
      "metadata": {
        "id": "kAyHyeLmdt_s"
      }
    },
    {
      "cell_type": "code",
      "source": [
        "best_score = 0.0\n",
        "dep = 0\n",
        "for i in range (10,100):\n",
        "  classifier = DecisionTreeClassifier(criterion=\"entropy\", max_depth=i)\n",
        "  classifier.fit(X_train,y_train)\n",
        "  y_predict = classifier.predict(X_test)\n",
        "  score = accuracy_score(y_test,y_predict)\n",
        "  if score > best_score:\n",
        "    best_score = score\n",
        "    dep = i\n",
        "\n",
        "print(\"Best accuracy Score is \"+str(best_score*100)+\" for max_depth \"+str(dep))"
      ],
      "metadata": {
        "colab": {
          "base_uri": "https://localhost:8080/"
        },
        "id": "Qm7DJAmTc7nX",
        "outputId": "391fe032-5fe9-4f35-bd59-c987875157a9"
      },
      "execution_count": null,
      "outputs": [
        {
          "output_type": "stream",
          "name": "stdout",
          "text": [
            "Best accuracy Score is 79.0 for max_depth 30\n"
          ]
        }
      ]
    },
    {
      "cell_type": "markdown",
      "source": [
        "<h3>Using the best model as per hyperparameter tuning</h3>"
      ],
      "metadata": {
        "id": "yHZ-FV4yRdv-"
      }
    },
    {
      "cell_type": "code",
      "source": [
        "from sklearn.tree import DecisionTreeClassifier\n",
        "classifier = DecisionTreeClassifier(criterion=\"entropy\", max_depth=30)\n",
        "classifier.fit(X_train,y_train)"
      ],
      "metadata": {
        "colab": {
          "base_uri": "https://localhost:8080/",
          "height": 74
        },
        "id": "ZdZ7VrZ4Rc6X",
        "outputId": "b8223f1e-2dba-4a97-9925-49ce481afca6"
      },
      "execution_count": null,
      "outputs": [
        {
          "output_type": "execute_result",
          "data": {
            "text/plain": [
              "DecisionTreeClassifier(criterion='entropy', max_depth=30)"
            ],
            "text/html": [
              "<style>#sk-container-id-5 {color: black;background-color: white;}#sk-container-id-5 pre{padding: 0;}#sk-container-id-5 div.sk-toggleable {background-color: white;}#sk-container-id-5 label.sk-toggleable__label {cursor: pointer;display: block;width: 100%;margin-bottom: 0;padding: 0.3em;box-sizing: border-box;text-align: center;}#sk-container-id-5 label.sk-toggleable__label-arrow:before {content: \"▸\";float: left;margin-right: 0.25em;color: #696969;}#sk-container-id-5 label.sk-toggleable__label-arrow:hover:before {color: black;}#sk-container-id-5 div.sk-estimator:hover label.sk-toggleable__label-arrow:before {color: black;}#sk-container-id-5 div.sk-toggleable__content {max-height: 0;max-width: 0;overflow: hidden;text-align: left;background-color: #f0f8ff;}#sk-container-id-5 div.sk-toggleable__content pre {margin: 0.2em;color: black;border-radius: 0.25em;background-color: #f0f8ff;}#sk-container-id-5 input.sk-toggleable__control:checked~div.sk-toggleable__content {max-height: 200px;max-width: 100%;overflow: auto;}#sk-container-id-5 input.sk-toggleable__control:checked~label.sk-toggleable__label-arrow:before {content: \"▾\";}#sk-container-id-5 div.sk-estimator input.sk-toggleable__control:checked~label.sk-toggleable__label {background-color: #d4ebff;}#sk-container-id-5 div.sk-label input.sk-toggleable__control:checked~label.sk-toggleable__label {background-color: #d4ebff;}#sk-container-id-5 input.sk-hidden--visually {border: 0;clip: rect(1px 1px 1px 1px);clip: rect(1px, 1px, 1px, 1px);height: 1px;margin: -1px;overflow: hidden;padding: 0;position: absolute;width: 1px;}#sk-container-id-5 div.sk-estimator {font-family: monospace;background-color: #f0f8ff;border: 1px dotted black;border-radius: 0.25em;box-sizing: border-box;margin-bottom: 0.5em;}#sk-container-id-5 div.sk-estimator:hover {background-color: #d4ebff;}#sk-container-id-5 div.sk-parallel-item::after {content: \"\";width: 100%;border-bottom: 1px solid gray;flex-grow: 1;}#sk-container-id-5 div.sk-label:hover label.sk-toggleable__label {background-color: #d4ebff;}#sk-container-id-5 div.sk-serial::before {content: \"\";position: absolute;border-left: 1px solid gray;box-sizing: border-box;top: 0;bottom: 0;left: 50%;z-index: 0;}#sk-container-id-5 div.sk-serial {display: flex;flex-direction: column;align-items: center;background-color: white;padding-right: 0.2em;padding-left: 0.2em;position: relative;}#sk-container-id-5 div.sk-item {position: relative;z-index: 1;}#sk-container-id-5 div.sk-parallel {display: flex;align-items: stretch;justify-content: center;background-color: white;position: relative;}#sk-container-id-5 div.sk-item::before, #sk-container-id-5 div.sk-parallel-item::before {content: \"\";position: absolute;border-left: 1px solid gray;box-sizing: border-box;top: 0;bottom: 0;left: 50%;z-index: -1;}#sk-container-id-5 div.sk-parallel-item {display: flex;flex-direction: column;z-index: 1;position: relative;background-color: white;}#sk-container-id-5 div.sk-parallel-item:first-child::after {align-self: flex-end;width: 50%;}#sk-container-id-5 div.sk-parallel-item:last-child::after {align-self: flex-start;width: 50%;}#sk-container-id-5 div.sk-parallel-item:only-child::after {width: 0;}#sk-container-id-5 div.sk-dashed-wrapped {border: 1px dashed gray;margin: 0 0.4em 0.5em 0.4em;box-sizing: border-box;padding-bottom: 0.4em;background-color: white;}#sk-container-id-5 div.sk-label label {font-family: monospace;font-weight: bold;display: inline-block;line-height: 1.2em;}#sk-container-id-5 div.sk-label-container {text-align: center;}#sk-container-id-5 div.sk-container {/* jupyter's `normalize.less` sets `[hidden] { display: none; }` but bootstrap.min.css set `[hidden] { display: none !important; }` so we also need the `!important` here to be able to override the default hidden behavior on the sphinx rendered scikit-learn.org. See: https://github.com/scikit-learn/scikit-learn/issues/21755 */display: inline-block !important;position: relative;}#sk-container-id-5 div.sk-text-repr-fallback {display: none;}</style><div id=\"sk-container-id-5\" class=\"sk-top-container\"><div class=\"sk-text-repr-fallback\"><pre>DecisionTreeClassifier(criterion=&#x27;entropy&#x27;, max_depth=30)</pre><b>In a Jupyter environment, please rerun this cell to show the HTML representation or trust the notebook. <br />On GitHub, the HTML representation is unable to render, please try loading this page with nbviewer.org.</b></div><div class=\"sk-container\" hidden><div class=\"sk-item\"><div class=\"sk-estimator sk-toggleable\"><input class=\"sk-toggleable__control sk-hidden--visually\" id=\"sk-estimator-id-5\" type=\"checkbox\" checked><label for=\"sk-estimator-id-5\" class=\"sk-toggleable__label sk-toggleable__label-arrow\">DecisionTreeClassifier</label><div class=\"sk-toggleable__content\"><pre>DecisionTreeClassifier(criterion=&#x27;entropy&#x27;, max_depth=30)</pre></div></div></div></div></div>"
            ]
          },
          "metadata": {},
          "execution_count": 26
        }
      ]
    },
    {
      "cell_type": "code",
      "source": [
        "y_predict = classifier.predict(X_test)\n",
        "y_predict"
      ],
      "metadata": {
        "colab": {
          "base_uri": "https://localhost:8080/"
        },
        "id": "6mtL3STXT-eJ",
        "outputId": "a7c04c2e-a4c2-4192-d543-7bace391d53c"
      },
      "execution_count": null,
      "outputs": [
        {
          "output_type": "execute_result",
          "data": {
            "text/plain": [
              "array([1, 0, 0, 0, 1, 0, 0, 1, 0, 0, 1, 1, 1, 0, 1, 0, 0, 1, 0, 1, 0, 0,\n",
              "       1, 0, 1, 0, 0, 0, 1, 0, 1, 1, 0, 0, 0, 1, 1, 0, 1, 0, 1, 1, 0, 0,\n",
              "       0, 1, 0, 0, 1, 0, 1, 0, 0, 1, 0, 1, 0, 0, 0, 0, 0, 0, 0, 0, 1, 0,\n",
              "       0, 1, 0, 0, 0, 1, 0, 0, 1, 0, 0, 0, 1, 1, 0, 0, 0, 1, 0, 1, 0, 0,\n",
              "       0, 1, 1, 0, 0, 0, 1, 0, 1, 1, 1, 0, 0, 0, 0, 0, 1, 0, 0, 0, 0, 0,\n",
              "       1, 1, 0, 1, 0, 0, 0, 0, 0, 1, 0, 1, 1, 0, 0, 0, 0, 1, 1, 1, 1, 0,\n",
              "       0, 0, 1, 0, 1, 0, 0, 0, 0, 1, 0, 0, 0, 0, 0, 0, 0, 0, 0, 1, 1, 0,\n",
              "       1, 1, 0, 0, 0, 0, 1, 0, 1, 1, 1, 1, 0, 0, 0, 1, 1, 1, 1, 0, 1, 1,\n",
              "       0, 0, 0, 1, 0, 0, 1, 1, 1, 0, 0, 1, 0, 1, 0, 1, 0, 0, 0, 1, 0, 1,\n",
              "       0, 0])"
            ]
          },
          "metadata": {},
          "execution_count": 27
        }
      ]
    },
    {
      "cell_type": "code",
      "source": [
        "from sklearn.metrics import accuracy_score\n",
        "from sklearn.metrics import precision_score\n",
        "from sklearn.metrics import recall_score\n",
        "\n",
        "score1 = accuracy_score(y_test,y_predict)\n",
        "score2 = precision_score(y_test,y_predict)\n",
        "score3 = recall_score(y_test,y_predict)\n",
        "\n",
        "print(f\"The accuracy score for the model is {score1*100}%\")\n",
        "print(f\"The precision score for the model is {score2*100}%\")\n",
        "print(f\"The recall score for the model is {score3*100}%\")"
      ],
      "metadata": {
        "colab": {
          "base_uri": "https://localhost:8080/"
        },
        "id": "hjDbe1Q4T-Q0",
        "outputId": "498cdbe7-6ea1-4a3a-993e-9b559c72cf68"
      },
      "execution_count": null,
      "outputs": [
        {
          "output_type": "stream",
          "name": "stdout",
          "text": [
            "The accuracy score for the model is 79.0%\n",
            "The precision score for the model is 88.1578947368421%\n",
            "The recall score for the model is 67.0%\n"
          ]
        }
      ]
    },
    {
      "cell_type": "markdown",
      "source": [
        "<h3>Testing the model against random inputs.</h3>"
      ],
      "metadata": {
        "id": "ZVm9LiVoUKBr"
      }
    },
    {
      "cell_type": "code",
      "source": [
        "def predict_sentiment(sample_review):\n",
        "  sample_review = re.sub(pattern='[^a-zA-Z]',repl=' ',string = sample_review)\n",
        "  sample_review = sample_review.lower()\n",
        "  sample_review_words = sample_review.split()\n",
        "  sample_review_words = [ word for word in sample_review_words if not word in set(stopwords.words('english'))]\n",
        "  final_review = [ps().stem(word) for word in sample_review_words]\n",
        "  final_review = ' '.join(final_review)\n",
        "\n",
        "  temp = cv.transform([final_review]).toarray()\n",
        "  return classifier.predict(temp)"
      ],
      "metadata": {
        "id": "_gSRJfJVUTT1"
      },
      "execution_count": null,
      "outputs": []
    },
    {
      "cell_type": "code",
      "source": [
        "sample_review = ['The food is really wonderful',\n",
        "                 'The food is bad and service is also not good',\n",
        "                 'Not tasty and the texture was just nasty',\n",
        "                 'Highly recommended',\n",
        "                 'The worst was the salmon sashimi']\n",
        "i=1\n",
        "for sample in sample_review:\n",
        "  if predict_sentiment(sample):\n",
        "    print(f'The review {i} is Positive')\n",
        "  else:\n",
        "    print(f'The review {i} is Negative')\n",
        "  i+=1"
      ],
      "metadata": {
        "colab": {
          "base_uri": "https://localhost:8080/"
        },
        "id": "3lvV7PG_UliZ",
        "outputId": "1ddd9ba1-8e2a-4d25-fd36-4dc35620d2ab"
      },
      "execution_count": null,
      "outputs": [
        {
          "output_type": "stream",
          "name": "stdout",
          "text": [
            "The review 1 is Positive\n",
            "The review 2 is Positive\n",
            "The review 3 is Negative\n",
            "The review 4 is Negative\n",
            "The review 5 is Negative\n"
          ]
        }
      ]
    },
    {
      "cell_type": "markdown",
      "source": [
        "# **Random Forest Classifier**\n",
        "\n",
        "---\n",
        "\n"
      ],
      "metadata": {
        "id": "6EBvGPrD9a3B"
      }
    },
    {
      "cell_type": "code",
      "source": [
        "from sklearn.ensemble import RandomForestClassifier\n",
        "classifier = RandomForestClassifier(criterion=\"entropy\")\n",
        "classifier.fit(X_train,y_train)"
      ],
      "metadata": {
        "id": "nvCe4OkguY4a",
        "colab": {
          "base_uri": "https://localhost:8080/",
          "height": 74
        },
        "outputId": "c09d96bb-5e3c-49cc-fc4a-eb88d411261d"
      },
      "execution_count": null,
      "outputs": [
        {
          "output_type": "execute_result",
          "data": {
            "text/plain": [
              "RandomForestClassifier(criterion='entropy')"
            ],
            "text/html": [
              "<style>#sk-container-id-6 {color: black;background-color: white;}#sk-container-id-6 pre{padding: 0;}#sk-container-id-6 div.sk-toggleable {background-color: white;}#sk-container-id-6 label.sk-toggleable__label {cursor: pointer;display: block;width: 100%;margin-bottom: 0;padding: 0.3em;box-sizing: border-box;text-align: center;}#sk-container-id-6 label.sk-toggleable__label-arrow:before {content: \"▸\";float: left;margin-right: 0.25em;color: #696969;}#sk-container-id-6 label.sk-toggleable__label-arrow:hover:before {color: black;}#sk-container-id-6 div.sk-estimator:hover label.sk-toggleable__label-arrow:before {color: black;}#sk-container-id-6 div.sk-toggleable__content {max-height: 0;max-width: 0;overflow: hidden;text-align: left;background-color: #f0f8ff;}#sk-container-id-6 div.sk-toggleable__content pre {margin: 0.2em;color: black;border-radius: 0.25em;background-color: #f0f8ff;}#sk-container-id-6 input.sk-toggleable__control:checked~div.sk-toggleable__content {max-height: 200px;max-width: 100%;overflow: auto;}#sk-container-id-6 input.sk-toggleable__control:checked~label.sk-toggleable__label-arrow:before {content: \"▾\";}#sk-container-id-6 div.sk-estimator input.sk-toggleable__control:checked~label.sk-toggleable__label {background-color: #d4ebff;}#sk-container-id-6 div.sk-label input.sk-toggleable__control:checked~label.sk-toggleable__label {background-color: #d4ebff;}#sk-container-id-6 input.sk-hidden--visually {border: 0;clip: rect(1px 1px 1px 1px);clip: rect(1px, 1px, 1px, 1px);height: 1px;margin: -1px;overflow: hidden;padding: 0;position: absolute;width: 1px;}#sk-container-id-6 div.sk-estimator {font-family: monospace;background-color: #f0f8ff;border: 1px dotted black;border-radius: 0.25em;box-sizing: border-box;margin-bottom: 0.5em;}#sk-container-id-6 div.sk-estimator:hover {background-color: #d4ebff;}#sk-container-id-6 div.sk-parallel-item::after {content: \"\";width: 100%;border-bottom: 1px solid gray;flex-grow: 1;}#sk-container-id-6 div.sk-label:hover label.sk-toggleable__label {background-color: #d4ebff;}#sk-container-id-6 div.sk-serial::before {content: \"\";position: absolute;border-left: 1px solid gray;box-sizing: border-box;top: 0;bottom: 0;left: 50%;z-index: 0;}#sk-container-id-6 div.sk-serial {display: flex;flex-direction: column;align-items: center;background-color: white;padding-right: 0.2em;padding-left: 0.2em;position: relative;}#sk-container-id-6 div.sk-item {position: relative;z-index: 1;}#sk-container-id-6 div.sk-parallel {display: flex;align-items: stretch;justify-content: center;background-color: white;position: relative;}#sk-container-id-6 div.sk-item::before, #sk-container-id-6 div.sk-parallel-item::before {content: \"\";position: absolute;border-left: 1px solid gray;box-sizing: border-box;top: 0;bottom: 0;left: 50%;z-index: -1;}#sk-container-id-6 div.sk-parallel-item {display: flex;flex-direction: column;z-index: 1;position: relative;background-color: white;}#sk-container-id-6 div.sk-parallel-item:first-child::after {align-self: flex-end;width: 50%;}#sk-container-id-6 div.sk-parallel-item:last-child::after {align-self: flex-start;width: 50%;}#sk-container-id-6 div.sk-parallel-item:only-child::after {width: 0;}#sk-container-id-6 div.sk-dashed-wrapped {border: 1px dashed gray;margin: 0 0.4em 0.5em 0.4em;box-sizing: border-box;padding-bottom: 0.4em;background-color: white;}#sk-container-id-6 div.sk-label label {font-family: monospace;font-weight: bold;display: inline-block;line-height: 1.2em;}#sk-container-id-6 div.sk-label-container {text-align: center;}#sk-container-id-6 div.sk-container {/* jupyter's `normalize.less` sets `[hidden] { display: none; }` but bootstrap.min.css set `[hidden] { display: none !important; }` so we also need the `!important` here to be able to override the default hidden behavior on the sphinx rendered scikit-learn.org. See: https://github.com/scikit-learn/scikit-learn/issues/21755 */display: inline-block !important;position: relative;}#sk-container-id-6 div.sk-text-repr-fallback {display: none;}</style><div id=\"sk-container-id-6\" class=\"sk-top-container\"><div class=\"sk-text-repr-fallback\"><pre>RandomForestClassifier(criterion=&#x27;entropy&#x27;)</pre><b>In a Jupyter environment, please rerun this cell to show the HTML representation or trust the notebook. <br />On GitHub, the HTML representation is unable to render, please try loading this page with nbviewer.org.</b></div><div class=\"sk-container\" hidden><div class=\"sk-item\"><div class=\"sk-estimator sk-toggleable\"><input class=\"sk-toggleable__control sk-hidden--visually\" id=\"sk-estimator-id-6\" type=\"checkbox\" checked><label for=\"sk-estimator-id-6\" class=\"sk-toggleable__label sk-toggleable__label-arrow\">RandomForestClassifier</label><div class=\"sk-toggleable__content\"><pre>RandomForestClassifier(criterion=&#x27;entropy&#x27;)</pre></div></div></div></div></div>"
            ]
          },
          "metadata": {},
          "execution_count": 31
        }
      ]
    },
    {
      "cell_type": "code",
      "source": [
        "y_predict = classifier.predict(X_test)\n",
        "y_predict"
      ],
      "metadata": {
        "colab": {
          "base_uri": "https://localhost:8080/"
        },
        "id": "zMMz134wvTZB",
        "outputId": "eeb6cb7f-9171-4c92-fd8b-b63f28a84a1a"
      },
      "execution_count": null,
      "outputs": [
        {
          "output_type": "execute_result",
          "data": {
            "text/plain": [
              "array([1, 0, 0, 0, 1, 0, 0, 1, 0, 0, 1, 1, 1, 0, 1, 0, 1, 1, 0, 0, 0, 0,\n",
              "       1, 1, 1, 0, 0, 0, 1, 0, 1, 1, 0, 1, 0, 1, 1, 0, 1, 0, 1, 1, 1, 0,\n",
              "       0, 1, 0, 0, 0, 0, 1, 1, 0, 1, 0, 1, 0, 0, 0, 0, 0, 0, 0, 1, 1, 0,\n",
              "       0, 1, 0, 0, 1, 1, 1, 1, 1, 0, 0, 0, 1, 0, 0, 0, 0, 1, 0, 1, 0, 0,\n",
              "       0, 1, 1, 0, 0, 0, 1, 0, 0, 1, 1, 0, 0, 0, 0, 0, 1, 1, 1, 0, 0, 0,\n",
              "       0, 1, 1, 1, 0, 0, 1, 0, 0, 1, 1, 1, 1, 0, 0, 0, 0, 1, 1, 0, 1, 0,\n",
              "       0, 1, 1, 0, 0, 0, 0, 0, 0, 1, 1, 0, 0, 0, 0, 0, 0, 0, 0, 1, 1, 0,\n",
              "       1, 1, 0, 0, 0, 1, 1, 0, 1, 1, 1, 1, 1, 0, 0, 1, 1, 1, 1, 1, 1, 0,\n",
              "       0, 0, 0, 1, 0, 0, 1, 1, 1, 0, 0, 1, 0, 1, 0, 0, 0, 0, 0, 1, 1, 1,\n",
              "       0, 1])"
            ]
          },
          "metadata": {},
          "execution_count": 32
        }
      ]
    },
    {
      "cell_type": "code",
      "source": [
        "from sklearn.metrics import accuracy_score\n",
        "from sklearn.metrics import precision_score\n",
        "from sklearn.metrics import recall_score\n",
        "\n",
        "score1 = accuracy_score(y_test,y_predict)\n",
        "score2 = precision_score(y_test,y_predict)\n",
        "score3 = recall_score(y_test,y_predict)\n",
        "\n",
        "print(f\"The accuracy score for the model is {score1*100}%\")\n",
        "print(f\"The precision score for the model is {score2*100}%\")\n",
        "print(f\"The recall score for the model is {score3*100}%\")"
      ],
      "metadata": {
        "colab": {
          "base_uri": "https://localhost:8080/"
        },
        "id": "xQ41oAlNvUfT",
        "outputId": "c9d53cb1-291d-4d4b-9f66-2bf9fffa7996"
      },
      "execution_count": null,
      "outputs": [
        {
          "output_type": "stream",
          "name": "stdout",
          "text": [
            "The accuracy score for the model is 77.0%\n",
            "The precision score for the model is 80.68181818181817%\n",
            "The recall score for the model is 71.0%\n"
          ]
        }
      ]
    },
    {
      "cell_type": "markdown",
      "source": [
        "<h3>Hyperparameter tuning</h3>"
      ],
      "metadata": {
        "id": "pWKHTf03ghdF"
      }
    },
    {
      "cell_type": "code",
      "source": [
        "best_score = 0.0\n",
        "dep = 0\n",
        "for i in range (1,50):\n",
        "  classifier = RandomForestClassifier(criterion=\"entropy\", max_depth=i)\n",
        "  classifier.fit(X_train,y_train)\n",
        "  y_predict = classifier.predict(X_test)\n",
        "  score = accuracy_score(y_test,y_predict)\n",
        "  if score > best_score:\n",
        "    best_score = score\n",
        "    dep = i\n",
        "\n",
        "print(\"Best accuracy Score is \"+str(best_score*100)+\" for max_depth \"+str(dep))"
      ],
      "metadata": {
        "colab": {
          "base_uri": "https://localhost:8080/"
        },
        "id": "yOY1nhpPv1DY",
        "outputId": "6d995472-ebac-45d7-c860-c008d9016476"
      },
      "execution_count": null,
      "outputs": [
        {
          "output_type": "stream",
          "name": "stdout",
          "text": [
            "Best accuracy Score is 81.0 for max_depth 19\n"
          ]
        }
      ]
    },
    {
      "cell_type": "markdown",
      "source": [
        "<h3>Using the best model as per hyperparameter tuning.</h3>"
      ],
      "metadata": {
        "id": "23Ww6B9bgtxD"
      }
    },
    {
      "cell_type": "code",
      "source": [
        "from sklearn.ensemble import RandomForestClassifier\n",
        "classifier = RandomForestClassifier(criterion=\"entropy\", max_depth=dep)\n",
        "classifier.fit(X_train,y_train)"
      ],
      "metadata": {
        "colab": {
          "base_uri": "https://localhost:8080/",
          "height": 74
        },
        "id": "7bsuMI5wg9To",
        "outputId": "7a150320-c2c1-4b11-a5e3-1cfa376da459"
      },
      "execution_count": null,
      "outputs": [
        {
          "output_type": "execute_result",
          "data": {
            "text/plain": [
              "RandomForestClassifier(criterion='entropy', max_depth=19)"
            ],
            "text/html": [
              "<style>#sk-container-id-7 {color: black;background-color: white;}#sk-container-id-7 pre{padding: 0;}#sk-container-id-7 div.sk-toggleable {background-color: white;}#sk-container-id-7 label.sk-toggleable__label {cursor: pointer;display: block;width: 100%;margin-bottom: 0;padding: 0.3em;box-sizing: border-box;text-align: center;}#sk-container-id-7 label.sk-toggleable__label-arrow:before {content: \"▸\";float: left;margin-right: 0.25em;color: #696969;}#sk-container-id-7 label.sk-toggleable__label-arrow:hover:before {color: black;}#sk-container-id-7 div.sk-estimator:hover label.sk-toggleable__label-arrow:before {color: black;}#sk-container-id-7 div.sk-toggleable__content {max-height: 0;max-width: 0;overflow: hidden;text-align: left;background-color: #f0f8ff;}#sk-container-id-7 div.sk-toggleable__content pre {margin: 0.2em;color: black;border-radius: 0.25em;background-color: #f0f8ff;}#sk-container-id-7 input.sk-toggleable__control:checked~div.sk-toggleable__content {max-height: 200px;max-width: 100%;overflow: auto;}#sk-container-id-7 input.sk-toggleable__control:checked~label.sk-toggleable__label-arrow:before {content: \"▾\";}#sk-container-id-7 div.sk-estimator input.sk-toggleable__control:checked~label.sk-toggleable__label {background-color: #d4ebff;}#sk-container-id-7 div.sk-label input.sk-toggleable__control:checked~label.sk-toggleable__label {background-color: #d4ebff;}#sk-container-id-7 input.sk-hidden--visually {border: 0;clip: rect(1px 1px 1px 1px);clip: rect(1px, 1px, 1px, 1px);height: 1px;margin: -1px;overflow: hidden;padding: 0;position: absolute;width: 1px;}#sk-container-id-7 div.sk-estimator {font-family: monospace;background-color: #f0f8ff;border: 1px dotted black;border-radius: 0.25em;box-sizing: border-box;margin-bottom: 0.5em;}#sk-container-id-7 div.sk-estimator:hover {background-color: #d4ebff;}#sk-container-id-7 div.sk-parallel-item::after {content: \"\";width: 100%;border-bottom: 1px solid gray;flex-grow: 1;}#sk-container-id-7 div.sk-label:hover label.sk-toggleable__label {background-color: #d4ebff;}#sk-container-id-7 div.sk-serial::before {content: \"\";position: absolute;border-left: 1px solid gray;box-sizing: border-box;top: 0;bottom: 0;left: 50%;z-index: 0;}#sk-container-id-7 div.sk-serial {display: flex;flex-direction: column;align-items: center;background-color: white;padding-right: 0.2em;padding-left: 0.2em;position: relative;}#sk-container-id-7 div.sk-item {position: relative;z-index: 1;}#sk-container-id-7 div.sk-parallel {display: flex;align-items: stretch;justify-content: center;background-color: white;position: relative;}#sk-container-id-7 div.sk-item::before, #sk-container-id-7 div.sk-parallel-item::before {content: \"\";position: absolute;border-left: 1px solid gray;box-sizing: border-box;top: 0;bottom: 0;left: 50%;z-index: -1;}#sk-container-id-7 div.sk-parallel-item {display: flex;flex-direction: column;z-index: 1;position: relative;background-color: white;}#sk-container-id-7 div.sk-parallel-item:first-child::after {align-self: flex-end;width: 50%;}#sk-container-id-7 div.sk-parallel-item:last-child::after {align-self: flex-start;width: 50%;}#sk-container-id-7 div.sk-parallel-item:only-child::after {width: 0;}#sk-container-id-7 div.sk-dashed-wrapped {border: 1px dashed gray;margin: 0 0.4em 0.5em 0.4em;box-sizing: border-box;padding-bottom: 0.4em;background-color: white;}#sk-container-id-7 div.sk-label label {font-family: monospace;font-weight: bold;display: inline-block;line-height: 1.2em;}#sk-container-id-7 div.sk-label-container {text-align: center;}#sk-container-id-7 div.sk-container {/* jupyter's `normalize.less` sets `[hidden] { display: none; }` but bootstrap.min.css set `[hidden] { display: none !important; }` so we also need the `!important` here to be able to override the default hidden behavior on the sphinx rendered scikit-learn.org. See: https://github.com/scikit-learn/scikit-learn/issues/21755 */display: inline-block !important;position: relative;}#sk-container-id-7 div.sk-text-repr-fallback {display: none;}</style><div id=\"sk-container-id-7\" class=\"sk-top-container\"><div class=\"sk-text-repr-fallback\"><pre>RandomForestClassifier(criterion=&#x27;entropy&#x27;, max_depth=19)</pre><b>In a Jupyter environment, please rerun this cell to show the HTML representation or trust the notebook. <br />On GitHub, the HTML representation is unable to render, please try loading this page with nbviewer.org.</b></div><div class=\"sk-container\" hidden><div class=\"sk-item\"><div class=\"sk-estimator sk-toggleable\"><input class=\"sk-toggleable__control sk-hidden--visually\" id=\"sk-estimator-id-7\" type=\"checkbox\" checked><label for=\"sk-estimator-id-7\" class=\"sk-toggleable__label sk-toggleable__label-arrow\">RandomForestClassifier</label><div class=\"sk-toggleable__content\"><pre>RandomForestClassifier(criterion=&#x27;entropy&#x27;, max_depth=19)</pre></div></div></div></div></div>"
            ]
          },
          "metadata": {},
          "execution_count": 35
        }
      ]
    },
    {
      "cell_type": "code",
      "source": [
        "y_predict = classifier.predict(X_test)\n",
        "y_predict"
      ],
      "metadata": {
        "colab": {
          "base_uri": "https://localhost:8080/"
        },
        "id": "SwxlDupeg8_O",
        "outputId": "8247309a-6bb9-4b62-ae58-c349c428371a"
      },
      "execution_count": null,
      "outputs": [
        {
          "output_type": "execute_result",
          "data": {
            "text/plain": [
              "array([1, 0, 0, 0, 1, 0, 0, 1, 0, 0, 1, 1, 1, 0, 1, 0, 0, 1, 0, 0, 0, 0,\n",
              "       1, 1, 1, 0, 0, 0, 1, 0, 1, 1, 0, 1, 0, 1, 1, 0, 1, 0, 1, 1, 0, 0,\n",
              "       1, 1, 0, 0, 1, 0, 1, 0, 0, 1, 0, 1, 0, 0, 0, 1, 0, 0, 0, 0, 1, 0,\n",
              "       0, 1, 0, 0, 0, 1, 1, 1, 1, 0, 0, 0, 1, 1, 0, 0, 0, 1, 0, 1, 0, 0,\n",
              "       0, 1, 1, 0, 1, 0, 1, 0, 1, 1, 1, 0, 0, 0, 0, 0, 1, 1, 0, 0, 0, 0,\n",
              "       1, 1, 1, 1, 0, 0, 1, 0, 0, 1, 0, 1, 1, 1, 0, 0, 0, 1, 1, 1, 1, 0,\n",
              "       0, 0, 1, 0, 1, 1, 0, 0, 0, 1, 0, 0, 0, 0, 0, 0, 0, 0, 1, 1, 1, 0,\n",
              "       1, 1, 0, 0, 0, 1, 0, 0, 1, 1, 1, 1, 1, 0, 0, 1, 1, 1, 1, 0, 1, 0,\n",
              "       0, 0, 0, 1, 0, 1, 1, 1, 1, 0, 0, 1, 0, 1, 0, 1, 0, 0, 0, 1, 0, 1,\n",
              "       0, 1])"
            ]
          },
          "metadata": {},
          "execution_count": 36
        }
      ]
    },
    {
      "cell_type": "code",
      "source": [
        "from sklearn.metrics import accuracy_score\n",
        "from sklearn.metrics import precision_score\n",
        "from sklearn.metrics import recall_score\n",
        "\n",
        "score1 = accuracy_score(y_test,y_predict)\n",
        "score2 = precision_score(y_test,y_predict)\n",
        "score3 = recall_score(y_test,y_predict)\n",
        "\n",
        "print(f\"The accuracy score for the model is {score1*100}%\")\n",
        "print(f\"The precision score for the model is {score2*100}%\")\n",
        "print(f\"The recall score for the model is {score3*100}%\")"
      ],
      "metadata": {
        "colab": {
          "base_uri": "https://localhost:8080/"
        },
        "id": "vUOf_5uRg8VR",
        "outputId": "eecbdeec-8e86-4147-8525-f1a4379e46e8"
      },
      "execution_count": null,
      "outputs": [
        {
          "output_type": "stream",
          "name": "stdout",
          "text": [
            "The accuracy score for the model is 81.0%\n",
            "The precision score for the model is 84.44444444444444%\n",
            "The recall score for the model is 76.0%\n"
          ]
        }
      ]
    },
    {
      "cell_type": "markdown",
      "source": [
        "<h3>Testing the model against random input.</h3>"
      ],
      "metadata": {
        "id": "oRWVDC2ljI88"
      }
    },
    {
      "cell_type": "code",
      "source": [
        "def predict_sentiment(sample_review):\n",
        "  sample_review = re.sub(pattern='[^a-zA-Z]',repl=' ',string = sample_review)\n",
        "  sample_review = sample_review.lower()\n",
        "  sample_review_words = sample_review.split()\n",
        "  sample_review_words = [ word for word in sample_review_words if not word in set(stopwords.words('english'))]\n",
        "  final_review = [ps().stem(word) for word in sample_review_words]\n",
        "  final_review = ' '.join(final_review)\n",
        "\n",
        "  temp = cv.transform([final_review]).toarray()\n",
        "  return classifier.predict(temp)"
      ],
      "metadata": {
        "id": "uWJ1Ny0ZjR6x"
      },
      "execution_count": null,
      "outputs": []
    },
    {
      "cell_type": "code",
      "source": [
        "sample_review = ['The food is really wonderful',\n",
        "                 'The food is bad and service is also not good',\n",
        "                 'Not tasty and the texture was just nasty',\n",
        "                 'Highly recommended',\n",
        "                 'The worst was the salmon sashimi']\n",
        "i=1\n",
        "for sample in sample_review:\n",
        "  if predict_sentiment(sample):\n",
        "    print(f'The review {i} is Positive')\n",
        "  else:\n",
        "    print(f'The review {i} is Negative')\n",
        "  i+=1"
      ],
      "metadata": {
        "colab": {
          "base_uri": "https://localhost:8080/"
        },
        "id": "gkIppSWSkU_O",
        "outputId": "9786e8e8-b80d-4342-feab-a0394f1f50a4"
      },
      "execution_count": null,
      "outputs": [
        {
          "output_type": "stream",
          "name": "stdout",
          "text": [
            "The review 1 is Positive\n",
            "The review 2 is Negative\n",
            "The review 3 is Negative\n",
            "The review 4 is Negative\n",
            "The review 5 is Negative\n"
          ]
        }
      ]
    },
    {
      "cell_type": "markdown",
      "source": [
        "# **Extra Trees Classifier**\n",
        "\n",
        "---\n",
        "\n"
      ],
      "metadata": {
        "id": "D41SY8vG9i73"
      }
    },
    {
      "cell_type": "code",
      "source": [
        "from sklearn.ensemble import ExtraTreesClassifier\n",
        "classifier = ExtraTreesClassifier()\n",
        "classifier.fit(X_train,y_train)"
      ],
      "metadata": {
        "colab": {
          "base_uri": "https://localhost:8080/",
          "height": 74
        },
        "id": "yEk-lpRlxMib",
        "outputId": "daaa18c1-f0c1-41cf-f141-555f90fb2bed"
      },
      "execution_count": null,
      "outputs": [
        {
          "output_type": "execute_result",
          "data": {
            "text/plain": [
              "ExtraTreesClassifier()"
            ],
            "text/html": [
              "<style>#sk-container-id-8 {color: black;background-color: white;}#sk-container-id-8 pre{padding: 0;}#sk-container-id-8 div.sk-toggleable {background-color: white;}#sk-container-id-8 label.sk-toggleable__label {cursor: pointer;display: block;width: 100%;margin-bottom: 0;padding: 0.3em;box-sizing: border-box;text-align: center;}#sk-container-id-8 label.sk-toggleable__label-arrow:before {content: \"▸\";float: left;margin-right: 0.25em;color: #696969;}#sk-container-id-8 label.sk-toggleable__label-arrow:hover:before {color: black;}#sk-container-id-8 div.sk-estimator:hover label.sk-toggleable__label-arrow:before {color: black;}#sk-container-id-8 div.sk-toggleable__content {max-height: 0;max-width: 0;overflow: hidden;text-align: left;background-color: #f0f8ff;}#sk-container-id-8 div.sk-toggleable__content pre {margin: 0.2em;color: black;border-radius: 0.25em;background-color: #f0f8ff;}#sk-container-id-8 input.sk-toggleable__control:checked~div.sk-toggleable__content {max-height: 200px;max-width: 100%;overflow: auto;}#sk-container-id-8 input.sk-toggleable__control:checked~label.sk-toggleable__label-arrow:before {content: \"▾\";}#sk-container-id-8 div.sk-estimator input.sk-toggleable__control:checked~label.sk-toggleable__label {background-color: #d4ebff;}#sk-container-id-8 div.sk-label input.sk-toggleable__control:checked~label.sk-toggleable__label {background-color: #d4ebff;}#sk-container-id-8 input.sk-hidden--visually {border: 0;clip: rect(1px 1px 1px 1px);clip: rect(1px, 1px, 1px, 1px);height: 1px;margin: -1px;overflow: hidden;padding: 0;position: absolute;width: 1px;}#sk-container-id-8 div.sk-estimator {font-family: monospace;background-color: #f0f8ff;border: 1px dotted black;border-radius: 0.25em;box-sizing: border-box;margin-bottom: 0.5em;}#sk-container-id-8 div.sk-estimator:hover {background-color: #d4ebff;}#sk-container-id-8 div.sk-parallel-item::after {content: \"\";width: 100%;border-bottom: 1px solid gray;flex-grow: 1;}#sk-container-id-8 div.sk-label:hover label.sk-toggleable__label {background-color: #d4ebff;}#sk-container-id-8 div.sk-serial::before {content: \"\";position: absolute;border-left: 1px solid gray;box-sizing: border-box;top: 0;bottom: 0;left: 50%;z-index: 0;}#sk-container-id-8 div.sk-serial {display: flex;flex-direction: column;align-items: center;background-color: white;padding-right: 0.2em;padding-left: 0.2em;position: relative;}#sk-container-id-8 div.sk-item {position: relative;z-index: 1;}#sk-container-id-8 div.sk-parallel {display: flex;align-items: stretch;justify-content: center;background-color: white;position: relative;}#sk-container-id-8 div.sk-item::before, #sk-container-id-8 div.sk-parallel-item::before {content: \"\";position: absolute;border-left: 1px solid gray;box-sizing: border-box;top: 0;bottom: 0;left: 50%;z-index: -1;}#sk-container-id-8 div.sk-parallel-item {display: flex;flex-direction: column;z-index: 1;position: relative;background-color: white;}#sk-container-id-8 div.sk-parallel-item:first-child::after {align-self: flex-end;width: 50%;}#sk-container-id-8 div.sk-parallel-item:last-child::after {align-self: flex-start;width: 50%;}#sk-container-id-8 div.sk-parallel-item:only-child::after {width: 0;}#sk-container-id-8 div.sk-dashed-wrapped {border: 1px dashed gray;margin: 0 0.4em 0.5em 0.4em;box-sizing: border-box;padding-bottom: 0.4em;background-color: white;}#sk-container-id-8 div.sk-label label {font-family: monospace;font-weight: bold;display: inline-block;line-height: 1.2em;}#sk-container-id-8 div.sk-label-container {text-align: center;}#sk-container-id-8 div.sk-container {/* jupyter's `normalize.less` sets `[hidden] { display: none; }` but bootstrap.min.css set `[hidden] { display: none !important; }` so we also need the `!important` here to be able to override the default hidden behavior on the sphinx rendered scikit-learn.org. See: https://github.com/scikit-learn/scikit-learn/issues/21755 */display: inline-block !important;position: relative;}#sk-container-id-8 div.sk-text-repr-fallback {display: none;}</style><div id=\"sk-container-id-8\" class=\"sk-top-container\"><div class=\"sk-text-repr-fallback\"><pre>ExtraTreesClassifier()</pre><b>In a Jupyter environment, please rerun this cell to show the HTML representation or trust the notebook. <br />On GitHub, the HTML representation is unable to render, please try loading this page with nbviewer.org.</b></div><div class=\"sk-container\" hidden><div class=\"sk-item\"><div class=\"sk-estimator sk-toggleable\"><input class=\"sk-toggleable__control sk-hidden--visually\" id=\"sk-estimator-id-8\" type=\"checkbox\" checked><label for=\"sk-estimator-id-8\" class=\"sk-toggleable__label sk-toggleable__label-arrow\">ExtraTreesClassifier</label><div class=\"sk-toggleable__content\"><pre>ExtraTreesClassifier()</pre></div></div></div></div></div>"
            ]
          },
          "metadata": {},
          "execution_count": 40
        }
      ]
    },
    {
      "cell_type": "code",
      "source": [
        "y_predict = classifier.predict(X_test)\n",
        "y_predict"
      ],
      "metadata": {
        "colab": {
          "base_uri": "https://localhost:8080/"
        },
        "id": "gasgdWPBxVqh",
        "outputId": "6433090c-d65d-4001-ad3d-da4851e2eb7e"
      },
      "execution_count": null,
      "outputs": [
        {
          "output_type": "execute_result",
          "data": {
            "text/plain": [
              "array([1, 0, 0, 1, 1, 0, 0, 1, 0, 0, 1, 1, 1, 0, 1, 0, 1, 1, 1, 0, 0, 0,\n",
              "       1, 1, 1, 1, 0, 0, 1, 0, 1, 1, 0, 1, 0, 1, 1, 0, 1, 0, 1, 1, 1, 0,\n",
              "       1, 1, 0, 0, 1, 0, 1, 1, 0, 1, 0, 1, 0, 0, 0, 0, 0, 0, 0, 1, 1, 0,\n",
              "       0, 1, 1, 0, 1, 1, 1, 1, 1, 0, 0, 0, 1, 0, 0, 0, 0, 1, 0, 1, 0, 0,\n",
              "       0, 1, 1, 0, 0, 0, 1, 0, 0, 1, 1, 0, 0, 0, 0, 0, 1, 1, 1, 0, 0, 0,\n",
              "       0, 0, 1, 1, 0, 0, 0, 0, 0, 1, 1, 1, 1, 0, 0, 0, 0, 1, 1, 0, 1, 0,\n",
              "       0, 0, 1, 0, 1, 1, 0, 0, 0, 1, 0, 0, 1, 0, 0, 0, 0, 0, 1, 1, 1, 0,\n",
              "       1, 1, 0, 0, 0, 1, 1, 0, 1, 1, 1, 1, 1, 0, 0, 1, 1, 1, 1, 1, 1, 0,\n",
              "       0, 0, 0, 1, 0, 1, 1, 1, 1, 0, 0, 1, 0, 1, 0, 0, 0, 0, 0, 1, 1, 1,\n",
              "       0, 1])"
            ]
          },
          "metadata": {},
          "execution_count": 41
        }
      ]
    },
    {
      "cell_type": "code",
      "source": [
        "from sklearn.metrics import accuracy_score\n",
        "from sklearn.metrics import precision_score\n",
        "from sklearn.metrics import recall_score\n",
        "\n",
        "score1 = accuracy_score(y_test,y_predict)\n",
        "score2 = precision_score(y_test,y_predict)\n",
        "score3 = recall_score(y_test,y_predict)\n",
        "\n",
        "print(f\"The accuracy score for the model is {score1*100}%\")\n",
        "print(f\"The precision score for the model is {score2*100}%\")\n",
        "print(f\"The recall score for the model is {score3*100}%\")"
      ],
      "metadata": {
        "colab": {
          "base_uri": "https://localhost:8080/"
        },
        "id": "IYTSjEDYxYCU",
        "outputId": "301d9b69-3865-45b8-e922-8341e6822364"
      },
      "execution_count": null,
      "outputs": [
        {
          "output_type": "stream",
          "name": "stdout",
          "text": [
            "The accuracy score for the model is 77.5%\n",
            "The precision score for the model is 78.94736842105263%\n",
            "The recall score for the model is 75.0%\n"
          ]
        }
      ]
    },
    {
      "cell_type": "markdown",
      "source": [
        "<h3>Hyperparameter Tuning</h3>"
      ],
      "metadata": {
        "id": "0B6e1hCEkeGc"
      }
    },
    {
      "cell_type": "code",
      "source": [
        "best_score = 0.0\n",
        "dep = 0\n",
        "for i in range (1,50):\n",
        "  classifier = ExtraTreesClassifier(criterion=\"entropy\", max_depth=i)\n",
        "  classifier.fit(X_train,y_train)\n",
        "  y_predict = classifier.predict(X_test)\n",
        "  score = accuracy_score(y_test,y_predict)\n",
        "  if score > best_score:\n",
        "    best_score = score\n",
        "    dep = i\n",
        "\n",
        "print(\"Best accuracy Score is \"+str(best_score*100)+\" for max_depth \"+str(dep))"
      ],
      "metadata": {
        "colab": {
          "base_uri": "https://localhost:8080/"
        },
        "id": "f1dlyAHGxlV-",
        "outputId": "81234c5e-be66-47d2-993b-c3cc8e71e03b"
      },
      "execution_count": null,
      "outputs": [
        {
          "output_type": "stream",
          "name": "stdout",
          "text": [
            "Best accuracy Score is 81.5 for max_depth 49\n"
          ]
        }
      ]
    },
    {
      "cell_type": "code",
      "source": [
        "from sklearn.ensemble import ExtraTreesClassifier\n",
        "classifier = ExtraTreesClassifier(criterion=\"entropy\", max_depth=dep)\n",
        "classifier.fit(X_train,y_train)"
      ],
      "metadata": {
        "colab": {
          "base_uri": "https://localhost:8080/",
          "height": 74
        },
        "id": "45M9YkZNsyfP",
        "outputId": "972a5cff-09c4-4a6b-ca6c-d49fb23a7683"
      },
      "execution_count": null,
      "outputs": [
        {
          "output_type": "execute_result",
          "data": {
            "text/plain": [
              "ExtraTreesClassifier(criterion='entropy', max_depth=49)"
            ],
            "text/html": [
              "<style>#sk-container-id-9 {color: black;background-color: white;}#sk-container-id-9 pre{padding: 0;}#sk-container-id-9 div.sk-toggleable {background-color: white;}#sk-container-id-9 label.sk-toggleable__label {cursor: pointer;display: block;width: 100%;margin-bottom: 0;padding: 0.3em;box-sizing: border-box;text-align: center;}#sk-container-id-9 label.sk-toggleable__label-arrow:before {content: \"▸\";float: left;margin-right: 0.25em;color: #696969;}#sk-container-id-9 label.sk-toggleable__label-arrow:hover:before {color: black;}#sk-container-id-9 div.sk-estimator:hover label.sk-toggleable__label-arrow:before {color: black;}#sk-container-id-9 div.sk-toggleable__content {max-height: 0;max-width: 0;overflow: hidden;text-align: left;background-color: #f0f8ff;}#sk-container-id-9 div.sk-toggleable__content pre {margin: 0.2em;color: black;border-radius: 0.25em;background-color: #f0f8ff;}#sk-container-id-9 input.sk-toggleable__control:checked~div.sk-toggleable__content {max-height: 200px;max-width: 100%;overflow: auto;}#sk-container-id-9 input.sk-toggleable__control:checked~label.sk-toggleable__label-arrow:before {content: \"▾\";}#sk-container-id-9 div.sk-estimator input.sk-toggleable__control:checked~label.sk-toggleable__label {background-color: #d4ebff;}#sk-container-id-9 div.sk-label input.sk-toggleable__control:checked~label.sk-toggleable__label {background-color: #d4ebff;}#sk-container-id-9 input.sk-hidden--visually {border: 0;clip: rect(1px 1px 1px 1px);clip: rect(1px, 1px, 1px, 1px);height: 1px;margin: -1px;overflow: hidden;padding: 0;position: absolute;width: 1px;}#sk-container-id-9 div.sk-estimator {font-family: monospace;background-color: #f0f8ff;border: 1px dotted black;border-radius: 0.25em;box-sizing: border-box;margin-bottom: 0.5em;}#sk-container-id-9 div.sk-estimator:hover {background-color: #d4ebff;}#sk-container-id-9 div.sk-parallel-item::after {content: \"\";width: 100%;border-bottom: 1px solid gray;flex-grow: 1;}#sk-container-id-9 div.sk-label:hover label.sk-toggleable__label {background-color: #d4ebff;}#sk-container-id-9 div.sk-serial::before {content: \"\";position: absolute;border-left: 1px solid gray;box-sizing: border-box;top: 0;bottom: 0;left: 50%;z-index: 0;}#sk-container-id-9 div.sk-serial {display: flex;flex-direction: column;align-items: center;background-color: white;padding-right: 0.2em;padding-left: 0.2em;position: relative;}#sk-container-id-9 div.sk-item {position: relative;z-index: 1;}#sk-container-id-9 div.sk-parallel {display: flex;align-items: stretch;justify-content: center;background-color: white;position: relative;}#sk-container-id-9 div.sk-item::before, #sk-container-id-9 div.sk-parallel-item::before {content: \"\";position: absolute;border-left: 1px solid gray;box-sizing: border-box;top: 0;bottom: 0;left: 50%;z-index: -1;}#sk-container-id-9 div.sk-parallel-item {display: flex;flex-direction: column;z-index: 1;position: relative;background-color: white;}#sk-container-id-9 div.sk-parallel-item:first-child::after {align-self: flex-end;width: 50%;}#sk-container-id-9 div.sk-parallel-item:last-child::after {align-self: flex-start;width: 50%;}#sk-container-id-9 div.sk-parallel-item:only-child::after {width: 0;}#sk-container-id-9 div.sk-dashed-wrapped {border: 1px dashed gray;margin: 0 0.4em 0.5em 0.4em;box-sizing: border-box;padding-bottom: 0.4em;background-color: white;}#sk-container-id-9 div.sk-label label {font-family: monospace;font-weight: bold;display: inline-block;line-height: 1.2em;}#sk-container-id-9 div.sk-label-container {text-align: center;}#sk-container-id-9 div.sk-container {/* jupyter's `normalize.less` sets `[hidden] { display: none; }` but bootstrap.min.css set `[hidden] { display: none !important; }` so we also need the `!important` here to be able to override the default hidden behavior on the sphinx rendered scikit-learn.org. See: https://github.com/scikit-learn/scikit-learn/issues/21755 */display: inline-block !important;position: relative;}#sk-container-id-9 div.sk-text-repr-fallback {display: none;}</style><div id=\"sk-container-id-9\" class=\"sk-top-container\"><div class=\"sk-text-repr-fallback\"><pre>ExtraTreesClassifier(criterion=&#x27;entropy&#x27;, max_depth=49)</pre><b>In a Jupyter environment, please rerun this cell to show the HTML representation or trust the notebook. <br />On GitHub, the HTML representation is unable to render, please try loading this page with nbviewer.org.</b></div><div class=\"sk-container\" hidden><div class=\"sk-item\"><div class=\"sk-estimator sk-toggleable\"><input class=\"sk-toggleable__control sk-hidden--visually\" id=\"sk-estimator-id-9\" type=\"checkbox\" checked><label for=\"sk-estimator-id-9\" class=\"sk-toggleable__label sk-toggleable__label-arrow\">ExtraTreesClassifier</label><div class=\"sk-toggleable__content\"><pre>ExtraTreesClassifier(criterion=&#x27;entropy&#x27;, max_depth=49)</pre></div></div></div></div></div>"
            ]
          },
          "metadata": {},
          "execution_count": 44
        }
      ]
    },
    {
      "cell_type": "code",
      "source": [
        "y_predict = classifier.predict(X_test)\n",
        "y_predict"
      ],
      "metadata": {
        "colab": {
          "base_uri": "https://localhost:8080/"
        },
        "id": "jzUyFg6dsyK_",
        "outputId": "1ea17344-0758-4270-bb2d-6688f93b91c4"
      },
      "execution_count": null,
      "outputs": [
        {
          "output_type": "execute_result",
          "data": {
            "text/plain": [
              "array([1, 0, 0, 0, 1, 0, 0, 1, 0, 0, 1, 1, 1, 0, 1, 0, 0, 1, 0, 0, 0, 0,\n",
              "       1, 1, 1, 1, 0, 0, 1, 0, 1, 1, 0, 1, 0, 1, 1, 0, 1, 0, 1, 1, 0, 0,\n",
              "       1, 1, 0, 0, 1, 0, 1, 0, 0, 1, 0, 1, 0, 0, 0, 0, 0, 0, 0, 0, 1, 0,\n",
              "       0, 1, 0, 0, 0, 1, 1, 1, 1, 0, 0, 0, 1, 1, 0, 0, 0, 1, 0, 1, 0, 0,\n",
              "       0, 1, 1, 0, 1, 0, 1, 0, 1, 1, 1, 0, 0, 0, 0, 0, 1, 1, 1, 0, 0, 0,\n",
              "       1, 1, 1, 1, 0, 0, 0, 0, 0, 1, 0, 1, 0, 0, 0, 0, 0, 1, 1, 1, 1, 0,\n",
              "       0, 0, 1, 0, 1, 1, 0, 0, 0, 1, 0, 0, 1, 0, 0, 0, 0, 0, 0, 1, 1, 0,\n",
              "       1, 1, 0, 0, 0, 1, 1, 0, 1, 1, 1, 1, 1, 0, 0, 1, 1, 1, 1, 0, 1, 0,\n",
              "       0, 0, 0, 1, 0, 0, 1, 1, 1, 0, 0, 1, 0, 1, 0, 1, 0, 0, 0, 1, 0, 1,\n",
              "       0, 1])"
            ]
          },
          "metadata": {},
          "execution_count": 45
        }
      ]
    },
    {
      "cell_type": "code",
      "source": [
        "from sklearn.metrics import accuracy_score\n",
        "from sklearn.metrics import precision_score\n",
        "from sklearn.metrics import recall_score\n",
        "\n",
        "score1 = accuracy_score(y_test,y_predict)\n",
        "score2 = precision_score(y_test,y_predict)\n",
        "score3 = recall_score(y_test,y_predict)\n",
        "\n",
        "print(f\"The accuracy score for the model is {score1*100}%\")\n",
        "print(f\"The precision score for the model is {score2*100}%\")\n",
        "print(f\"The recall score for the model is {score3*100}%\")"
      ],
      "metadata": {
        "colab": {
          "base_uri": "https://localhost:8080/"
        },
        "id": "t1BcV33Ssx9W",
        "outputId": "4eae18fd-4476-425a-97dc-9f843a742733"
      },
      "execution_count": null,
      "outputs": [
        {
          "output_type": "stream",
          "name": "stdout",
          "text": [
            "The accuracy score for the model is 80.0%\n",
            "The precision score for the model is 84.0909090909091%\n",
            "The recall score for the model is 74.0%\n"
          ]
        }
      ]
    },
    {
      "cell_type": "markdown",
      "source": [
        "<h3>Testing the model against random input</h3>"
      ],
      "metadata": {
        "id": "be_05yfKlAZ9"
      }
    },
    {
      "cell_type": "code",
      "source": [
        "def predict_sentiment(sample_review):\n",
        "  sample_review = re.sub(pattern='[^a-zA-Z]',repl=' ',string = sample_review)\n",
        "  sample_review = sample_review.lower()\n",
        "  sample_review_words = sample_review.split()\n",
        "  sample_review_words = [ word for word in sample_review_words if not word in set(stopwords.words('english'))]\n",
        "  final_review = [ps().stem(word) for word in sample_review_words]\n",
        "  final_review = ' '.join(final_review)\n",
        "\n",
        "  temp = cv.transform([final_review]).toarray()\n",
        "  return classifier.predict(temp)"
      ],
      "metadata": {
        "id": "VL2KR-bKlJYC"
      },
      "execution_count": null,
      "outputs": []
    },
    {
      "cell_type": "code",
      "source": [
        "sample_review = ['The food is really wonderful',\n",
        "                 'The food is bad and service is also not good',\n",
        "                 'Not tasty and the texture was just nasty',\n",
        "                 'Highly recommended',\n",
        "                 'The worst was the salmon sashimi']\n",
        "i=1\n",
        "for sample in sample_review:\n",
        "  if predict_sentiment(sample):\n",
        "    print(f'The review {i} is Positive')\n",
        "  else:\n",
        "    print(f'The review {i} is Negative')\n",
        "  i+=1"
      ],
      "metadata": {
        "colab": {
          "base_uri": "https://localhost:8080/"
        },
        "id": "SLe-goJ2meXO",
        "outputId": "cc23b10b-32f3-4a05-f14b-493561b22d4a"
      },
      "execution_count": null,
      "outputs": [
        {
          "output_type": "stream",
          "name": "stdout",
          "text": [
            "The review 1 is Positive\n",
            "The review 2 is Negative\n",
            "The review 3 is Negative\n",
            "The review 4 is Positive\n",
            "The review 5 is Negative\n"
          ]
        }
      ]
    },
    {
      "cell_type": "markdown",
      "source": [
        "# **KNeighborsClassifier**\n",
        "\n",
        "---\n",
        "\n"
      ],
      "metadata": {
        "id": "gKf5Xg3N88UB"
      }
    },
    {
      "cell_type": "code",
      "source": [
        "from sklearn.neighbors import KNeighborsClassifier\n",
        "classifier = KNeighborsClassifier()\n",
        "classifier.fit(X_train,y_train)"
      ],
      "metadata": {
        "colab": {
          "base_uri": "https://localhost:8080/",
          "height": 74
        },
        "id": "ANr503aEd6ak",
        "outputId": "3abfd47a-11ea-4934-d60e-9194188ea497"
      },
      "execution_count": null,
      "outputs": [
        {
          "output_type": "execute_result",
          "data": {
            "text/plain": [
              "KNeighborsClassifier()"
            ],
            "text/html": [
              "<style>#sk-container-id-10 {color: black;background-color: white;}#sk-container-id-10 pre{padding: 0;}#sk-container-id-10 div.sk-toggleable {background-color: white;}#sk-container-id-10 label.sk-toggleable__label {cursor: pointer;display: block;width: 100%;margin-bottom: 0;padding: 0.3em;box-sizing: border-box;text-align: center;}#sk-container-id-10 label.sk-toggleable__label-arrow:before {content: \"▸\";float: left;margin-right: 0.25em;color: #696969;}#sk-container-id-10 label.sk-toggleable__label-arrow:hover:before {color: black;}#sk-container-id-10 div.sk-estimator:hover label.sk-toggleable__label-arrow:before {color: black;}#sk-container-id-10 div.sk-toggleable__content {max-height: 0;max-width: 0;overflow: hidden;text-align: left;background-color: #f0f8ff;}#sk-container-id-10 div.sk-toggleable__content pre {margin: 0.2em;color: black;border-radius: 0.25em;background-color: #f0f8ff;}#sk-container-id-10 input.sk-toggleable__control:checked~div.sk-toggleable__content {max-height: 200px;max-width: 100%;overflow: auto;}#sk-container-id-10 input.sk-toggleable__control:checked~label.sk-toggleable__label-arrow:before {content: \"▾\";}#sk-container-id-10 div.sk-estimator input.sk-toggleable__control:checked~label.sk-toggleable__label {background-color: #d4ebff;}#sk-container-id-10 div.sk-label input.sk-toggleable__control:checked~label.sk-toggleable__label {background-color: #d4ebff;}#sk-container-id-10 input.sk-hidden--visually {border: 0;clip: rect(1px 1px 1px 1px);clip: rect(1px, 1px, 1px, 1px);height: 1px;margin: -1px;overflow: hidden;padding: 0;position: absolute;width: 1px;}#sk-container-id-10 div.sk-estimator {font-family: monospace;background-color: #f0f8ff;border: 1px dotted black;border-radius: 0.25em;box-sizing: border-box;margin-bottom: 0.5em;}#sk-container-id-10 div.sk-estimator:hover {background-color: #d4ebff;}#sk-container-id-10 div.sk-parallel-item::after {content: \"\";width: 100%;border-bottom: 1px solid gray;flex-grow: 1;}#sk-container-id-10 div.sk-label:hover label.sk-toggleable__label {background-color: #d4ebff;}#sk-container-id-10 div.sk-serial::before {content: \"\";position: absolute;border-left: 1px solid gray;box-sizing: border-box;top: 0;bottom: 0;left: 50%;z-index: 0;}#sk-container-id-10 div.sk-serial {display: flex;flex-direction: column;align-items: center;background-color: white;padding-right: 0.2em;padding-left: 0.2em;position: relative;}#sk-container-id-10 div.sk-item {position: relative;z-index: 1;}#sk-container-id-10 div.sk-parallel {display: flex;align-items: stretch;justify-content: center;background-color: white;position: relative;}#sk-container-id-10 div.sk-item::before, #sk-container-id-10 div.sk-parallel-item::before {content: \"\";position: absolute;border-left: 1px solid gray;box-sizing: border-box;top: 0;bottom: 0;left: 50%;z-index: -1;}#sk-container-id-10 div.sk-parallel-item {display: flex;flex-direction: column;z-index: 1;position: relative;background-color: white;}#sk-container-id-10 div.sk-parallel-item:first-child::after {align-self: flex-end;width: 50%;}#sk-container-id-10 div.sk-parallel-item:last-child::after {align-self: flex-start;width: 50%;}#sk-container-id-10 div.sk-parallel-item:only-child::after {width: 0;}#sk-container-id-10 div.sk-dashed-wrapped {border: 1px dashed gray;margin: 0 0.4em 0.5em 0.4em;box-sizing: border-box;padding-bottom: 0.4em;background-color: white;}#sk-container-id-10 div.sk-label label {font-family: monospace;font-weight: bold;display: inline-block;line-height: 1.2em;}#sk-container-id-10 div.sk-label-container {text-align: center;}#sk-container-id-10 div.sk-container {/* jupyter's `normalize.less` sets `[hidden] { display: none; }` but bootstrap.min.css set `[hidden] { display: none !important; }` so we also need the `!important` here to be able to override the default hidden behavior on the sphinx rendered scikit-learn.org. See: https://github.com/scikit-learn/scikit-learn/issues/21755 */display: inline-block !important;position: relative;}#sk-container-id-10 div.sk-text-repr-fallback {display: none;}</style><div id=\"sk-container-id-10\" class=\"sk-top-container\"><div class=\"sk-text-repr-fallback\"><pre>KNeighborsClassifier()</pre><b>In a Jupyter environment, please rerun this cell to show the HTML representation or trust the notebook. <br />On GitHub, the HTML representation is unable to render, please try loading this page with nbviewer.org.</b></div><div class=\"sk-container\" hidden><div class=\"sk-item\"><div class=\"sk-estimator sk-toggleable\"><input class=\"sk-toggleable__control sk-hidden--visually\" id=\"sk-estimator-id-10\" type=\"checkbox\" checked><label for=\"sk-estimator-id-10\" class=\"sk-toggleable__label sk-toggleable__label-arrow\">KNeighborsClassifier</label><div class=\"sk-toggleable__content\"><pre>KNeighborsClassifier()</pre></div></div></div></div></div>"
            ]
          },
          "metadata": {},
          "execution_count": 49
        }
      ]
    },
    {
      "cell_type": "code",
      "source": [
        "y_predict = classifier.predict(X_test)\n",
        "y_predict"
      ],
      "metadata": {
        "colab": {
          "base_uri": "https://localhost:8080/"
        },
        "id": "33hjhCq2eEPJ",
        "outputId": "043d89e8-1977-4bc3-97ab-af93540f841f"
      },
      "execution_count": null,
      "outputs": [
        {
          "output_type": "execute_result",
          "data": {
            "text/plain": [
              "array([1, 0, 0, 0, 0, 0, 0, 0, 0, 0, 1, 1, 1, 0, 1, 0, 1, 1, 0, 0, 1, 0,\n",
              "       1, 0, 1, 1, 0, 0, 1, 0, 1, 0, 0, 1, 0, 0, 1, 0, 1, 1, 1, 1, 1, 0,\n",
              "       0, 1, 0, 0, 1, 0, 1, 1, 0, 0, 0, 0, 0, 0, 0, 0, 0, 0, 1, 1, 1, 0,\n",
              "       1, 1, 1, 0, 1, 0, 1, 0, 0, 0, 0, 1, 1, 0, 0, 0, 0, 1, 0, 0, 0, 0,\n",
              "       0, 0, 0, 0, 0, 0, 0, 0, 0, 0, 1, 0, 0, 0, 0, 0, 0, 1, 1, 0, 0, 0,\n",
              "       0, 0, 0, 1, 0, 0, 0, 1, 1, 1, 0, 1, 0, 0, 0, 0, 1, 0, 1, 1, 1, 0,\n",
              "       0, 0, 1, 0, 0, 0, 0, 0, 0, 1, 1, 0, 0, 0, 1, 0, 0, 0, 0, 1, 1, 0,\n",
              "       0, 0, 0, 0, 0, 0, 0, 0, 1, 1, 0, 1, 1, 0, 0, 1, 1, 1, 1, 1, 1, 1,\n",
              "       0, 0, 0, 0, 1, 0, 0, 1, 1, 0, 0, 0, 0, 1, 0, 0, 0, 0, 0, 0, 0, 1,\n",
              "       0, 0])"
            ]
          },
          "metadata": {},
          "execution_count": 50
        }
      ]
    },
    {
      "cell_type": "code",
      "source": [
        "from sklearn.metrics import accuracy_score\n",
        "from sklearn.metrics import precision_score\n",
        "from sklearn.metrics import recall_score\n",
        "\n",
        "score1 = accuracy_score(y_test,y_predict)\n",
        "score2 = precision_score(y_test,y_predict)\n",
        "score3 = recall_score(y_test,y_predict)\n",
        "\n",
        "print(f\"The accuracy score for the model is {score1*100}%\")\n",
        "print(f\"The precision score for the model is {score2*100}%\")\n",
        "print(f\"The recall score for the model is {score3*100}%\")"
      ],
      "metadata": {
        "colab": {
          "base_uri": "https://localhost:8080/"
        },
        "id": "tcmj0Jj4eHPg",
        "outputId": "db95ef02-1cac-4ae8-c976-d3bb22da2c3a"
      },
      "execution_count": null,
      "outputs": [
        {
          "output_type": "stream",
          "name": "stdout",
          "text": [
            "The accuracy score for the model is 63.5%\n",
            "The precision score for the model is 69.56521739130434%\n",
            "The recall score for the model is 48.0%\n"
          ]
        }
      ]
    },
    {
      "cell_type": "markdown",
      "source": [
        "<h3>Hyperparameter Tuning</h3>"
      ],
      "metadata": {
        "id": "ghj6oixEeTUU"
      }
    },
    {
      "cell_type": "code",
      "source": [
        "best_score = 0.0\n",
        "n = 0\n",
        "for i in range (1,100):\n",
        "  classifier = KNeighborsClassifier(n_neighbors=i)\n",
        "  classifier.fit(X_train,y_train)\n",
        "  y_predict = classifier.predict(X_test)\n",
        "  score = accuracy_score(y_test,y_predict)\n",
        "  if score > best_score:\n",
        "    best_score = score\n",
        "    n = i\n",
        "\n",
        "print(\"Best accuracy Score is \"+str(best_score*100)+\" for neighbours \"+str(n))"
      ],
      "metadata": {
        "colab": {
          "base_uri": "https://localhost:8080/"
        },
        "id": "Cjk24wvdeP-G",
        "outputId": "a2e22ae2-e546-4ec9-f3dc-ae9f2e55109b"
      },
      "execution_count": null,
      "outputs": [
        {
          "output_type": "stream",
          "name": "stdout",
          "text": [
            "Best accuracy Score is 67.5 for neighbours 21\n"
          ]
        }
      ]
    },
    {
      "cell_type": "markdown",
      "source": [
        "<h3>Using the best model as per hyperparameter tuning</h3>"
      ],
      "metadata": {
        "id": "srR1xMzWbFCo"
      }
    },
    {
      "cell_type": "code",
      "source": [
        "from sklearn.neighbors import KNeighborsClassifier\n",
        "classifier = KNeighborsClassifier(n_neighbors=n)\n",
        "classifier.fit(X_train,y_train)"
      ],
      "metadata": {
        "colab": {
          "base_uri": "https://localhost:8080/",
          "height": 74
        },
        "id": "73b5QkvqbNcL",
        "outputId": "431a4697-6845-498e-d227-816568cf8f1d"
      },
      "execution_count": null,
      "outputs": [
        {
          "output_type": "execute_result",
          "data": {
            "text/plain": [
              "KNeighborsClassifier(n_neighbors=21)"
            ],
            "text/html": [
              "<style>#sk-container-id-11 {color: black;background-color: white;}#sk-container-id-11 pre{padding: 0;}#sk-container-id-11 div.sk-toggleable {background-color: white;}#sk-container-id-11 label.sk-toggleable__label {cursor: pointer;display: block;width: 100%;margin-bottom: 0;padding: 0.3em;box-sizing: border-box;text-align: center;}#sk-container-id-11 label.sk-toggleable__label-arrow:before {content: \"▸\";float: left;margin-right: 0.25em;color: #696969;}#sk-container-id-11 label.sk-toggleable__label-arrow:hover:before {color: black;}#sk-container-id-11 div.sk-estimator:hover label.sk-toggleable__label-arrow:before {color: black;}#sk-container-id-11 div.sk-toggleable__content {max-height: 0;max-width: 0;overflow: hidden;text-align: left;background-color: #f0f8ff;}#sk-container-id-11 div.sk-toggleable__content pre {margin: 0.2em;color: black;border-radius: 0.25em;background-color: #f0f8ff;}#sk-container-id-11 input.sk-toggleable__control:checked~div.sk-toggleable__content {max-height: 200px;max-width: 100%;overflow: auto;}#sk-container-id-11 input.sk-toggleable__control:checked~label.sk-toggleable__label-arrow:before {content: \"▾\";}#sk-container-id-11 div.sk-estimator input.sk-toggleable__control:checked~label.sk-toggleable__label {background-color: #d4ebff;}#sk-container-id-11 div.sk-label input.sk-toggleable__control:checked~label.sk-toggleable__label {background-color: #d4ebff;}#sk-container-id-11 input.sk-hidden--visually {border: 0;clip: rect(1px 1px 1px 1px);clip: rect(1px, 1px, 1px, 1px);height: 1px;margin: -1px;overflow: hidden;padding: 0;position: absolute;width: 1px;}#sk-container-id-11 div.sk-estimator {font-family: monospace;background-color: #f0f8ff;border: 1px dotted black;border-radius: 0.25em;box-sizing: border-box;margin-bottom: 0.5em;}#sk-container-id-11 div.sk-estimator:hover {background-color: #d4ebff;}#sk-container-id-11 div.sk-parallel-item::after {content: \"\";width: 100%;border-bottom: 1px solid gray;flex-grow: 1;}#sk-container-id-11 div.sk-label:hover label.sk-toggleable__label {background-color: #d4ebff;}#sk-container-id-11 div.sk-serial::before {content: \"\";position: absolute;border-left: 1px solid gray;box-sizing: border-box;top: 0;bottom: 0;left: 50%;z-index: 0;}#sk-container-id-11 div.sk-serial {display: flex;flex-direction: column;align-items: center;background-color: white;padding-right: 0.2em;padding-left: 0.2em;position: relative;}#sk-container-id-11 div.sk-item {position: relative;z-index: 1;}#sk-container-id-11 div.sk-parallel {display: flex;align-items: stretch;justify-content: center;background-color: white;position: relative;}#sk-container-id-11 div.sk-item::before, #sk-container-id-11 div.sk-parallel-item::before {content: \"\";position: absolute;border-left: 1px solid gray;box-sizing: border-box;top: 0;bottom: 0;left: 50%;z-index: -1;}#sk-container-id-11 div.sk-parallel-item {display: flex;flex-direction: column;z-index: 1;position: relative;background-color: white;}#sk-container-id-11 div.sk-parallel-item:first-child::after {align-self: flex-end;width: 50%;}#sk-container-id-11 div.sk-parallel-item:last-child::after {align-self: flex-start;width: 50%;}#sk-container-id-11 div.sk-parallel-item:only-child::after {width: 0;}#sk-container-id-11 div.sk-dashed-wrapped {border: 1px dashed gray;margin: 0 0.4em 0.5em 0.4em;box-sizing: border-box;padding-bottom: 0.4em;background-color: white;}#sk-container-id-11 div.sk-label label {font-family: monospace;font-weight: bold;display: inline-block;line-height: 1.2em;}#sk-container-id-11 div.sk-label-container {text-align: center;}#sk-container-id-11 div.sk-container {/* jupyter's `normalize.less` sets `[hidden] { display: none; }` but bootstrap.min.css set `[hidden] { display: none !important; }` so we also need the `!important` here to be able to override the default hidden behavior on the sphinx rendered scikit-learn.org. See: https://github.com/scikit-learn/scikit-learn/issues/21755 */display: inline-block !important;position: relative;}#sk-container-id-11 div.sk-text-repr-fallback {display: none;}</style><div id=\"sk-container-id-11\" class=\"sk-top-container\"><div class=\"sk-text-repr-fallback\"><pre>KNeighborsClassifier(n_neighbors=21)</pre><b>In a Jupyter environment, please rerun this cell to show the HTML representation or trust the notebook. <br />On GitHub, the HTML representation is unable to render, please try loading this page with nbviewer.org.</b></div><div class=\"sk-container\" hidden><div class=\"sk-item\"><div class=\"sk-estimator sk-toggleable\"><input class=\"sk-toggleable__control sk-hidden--visually\" id=\"sk-estimator-id-11\" type=\"checkbox\" checked><label for=\"sk-estimator-id-11\" class=\"sk-toggleable__label sk-toggleable__label-arrow\">KNeighborsClassifier</label><div class=\"sk-toggleable__content\"><pre>KNeighborsClassifier(n_neighbors=21)</pre></div></div></div></div></div>"
            ]
          },
          "metadata": {},
          "execution_count": 53
        }
      ]
    },
    {
      "cell_type": "code",
      "source": [
        "y_predict = classifier.predict(X_test)\n",
        "y_predict"
      ],
      "metadata": {
        "colab": {
          "base_uri": "https://localhost:8080/"
        },
        "id": "Tty_gaylb90Z",
        "outputId": "ef2f67b0-ec0e-4489-e0d0-3ffef94a03c9"
      },
      "execution_count": null,
      "outputs": [
        {
          "output_type": "execute_result",
          "data": {
            "text/plain": [
              "array([1, 0, 0, 0, 0, 0, 0, 1, 0, 1, 1, 0, 0, 0, 1, 0, 0, 1, 1, 0, 0, 0,\n",
              "       1, 0, 1, 1, 0, 0, 0, 0, 1, 0, 0, 1, 0, 0, 1, 0, 1, 0, 1, 1, 1, 0,\n",
              "       0, 0, 0, 0, 0, 0, 1, 1, 0, 0, 0, 0, 0, 0, 0, 0, 0, 0, 0, 0, 1, 0,\n",
              "       0, 1, 1, 0, 1, 0, 1, 0, 0, 0, 0, 0, 1, 1, 0, 0, 0, 0, 0, 1, 0, 0,\n",
              "       0, 1, 0, 0, 0, 0, 0, 0, 0, 0, 1, 0, 0, 0, 0, 0, 0, 0, 0, 0, 0, 0,\n",
              "       0, 1, 0, 1, 0, 0, 0, 0, 0, 1, 0, 1, 1, 0, 0, 0, 0, 1, 0, 1, 1, 0,\n",
              "       0, 0, 0, 0, 0, 0, 0, 0, 0, 1, 1, 0, 0, 0, 0, 0, 0, 0, 0, 1, 1, 0,\n",
              "       0, 0, 0, 0, 0, 0, 0, 0, 1, 0, 1, 0, 0, 0, 0, 1, 1, 1, 1, 1, 1, 0,\n",
              "       0, 0, 0, 0, 0, 0, 0, 1, 1, 0, 0, 0, 0, 1, 0, 0, 0, 0, 0, 1, 0, 0,\n",
              "       0, 0])"
            ]
          },
          "metadata": {},
          "execution_count": 228
        }
      ]
    },
    {
      "cell_type": "code",
      "source": [
        "from sklearn.metrics import accuracy_score\n",
        "from sklearn.metrics import precision_score\n",
        "from sklearn.metrics import recall_score\n",
        "\n",
        "score1 = accuracy_score(y_test,y_predict)\n",
        "score2 = precision_score(y_test,y_predict)\n",
        "score3 = recall_score(y_test,y_predict)\n",
        "\n",
        "print(f\"The accuracy score for the model is {score1*100}%\")\n",
        "print(f\"The precision score for the model is {score2*100}%\")\n",
        "print(f\"The recall score for the model is {score3*100}%\")"
      ],
      "metadata": {
        "colab": {
          "base_uri": "https://localhost:8080/"
        },
        "id": "c-uJNhAJb9on",
        "outputId": "78d2f9fa-27c8-4488-d76d-3078df622980"
      },
      "execution_count": null,
      "outputs": [
        {
          "output_type": "stream",
          "name": "stdout",
          "text": [
            "The accuracy score for the model is 66.5%\n",
            "The precision score for the model is 86.66666666666667%\n",
            "The recall score for the model is 39.0%\n"
          ]
        }
      ]
    },
    {
      "cell_type": "markdown",
      "source": [
        "<h3> Testing the model against random inputs."
      ],
      "metadata": {
        "id": "IUelUI1tcuNf"
      }
    },
    {
      "cell_type": "code",
      "source": [
        "def predict_sentiment(sample_review):\n",
        "  sample_review = re.sub(pattern='[^a-zA-Z]',repl=' ',string = sample_review)\n",
        "  sample_review = sample_review.lower()\n",
        "  sample_review_words = sample_review.split()\n",
        "  sample_review_words = [ word for word in sample_review_words if not word in set(stopwords.words('english'))]\n",
        "  final_review = [ps().stem(word) for word in sample_review_words]\n",
        "  final_review = ' '.join(final_review)\n",
        "\n",
        "  temp = cv.transform([final_review]).toarray()\n",
        "  return classifier.predict(temp)"
      ],
      "metadata": {
        "id": "_nXBVwy9cnLu"
      },
      "execution_count": null,
      "outputs": []
    },
    {
      "cell_type": "code",
      "source": [
        "sample_review = ['The food is really wonderful',\n",
        "                 'The food is bad and service is also not good',\n",
        "                 'Not tasty and the texture was just nasty',\n",
        "                 'Highly recommended',\n",
        "                 'The worst was the salmon sashimi']\n",
        "i=1\n",
        "for sample in sample_review:\n",
        "  if predict_sentiment(sample):\n",
        "    print(f'The review {i} is Positive')\n",
        "  else:\n",
        "    print(f'The review {i} is Negative')\n",
        "  i+=1"
      ],
      "metadata": {
        "colab": {
          "base_uri": "https://localhost:8080/"
        },
        "id": "zR2zyPS3coT7",
        "outputId": "bb916cda-77c1-48f1-a4d7-cd2e18da7aeb"
      },
      "execution_count": null,
      "outputs": [
        {
          "output_type": "stream",
          "name": "stdout",
          "text": [
            "The review 1 is Negative\n",
            "The review 2 is Positive\n",
            "The review 3 is Negative\n",
            "The review 4 is Positive\n",
            "The review 5 is Negative\n"
          ]
        }
      ]
    },
    {
      "cell_type": "markdown",
      "source": [
        "# **Support Vector Classification (SVC)**\n",
        "\n",
        "---\n",
        "\n"
      ],
      "metadata": {
        "id": "VNvcL4UA9Nsp"
      }
    },
    {
      "cell_type": "code",
      "source": [
        "from sklearn.svm import SVC\n",
        "classifier = SVC(kernel='sigmoid')\n",
        "classifier.fit(X_train,y_train)"
      ],
      "metadata": {
        "colab": {
          "base_uri": "https://localhost:8080/",
          "height": 74
        },
        "id": "cyReS5bpet6V",
        "outputId": "34df64d1-a2bc-4b7e-9926-e32a243f14b5"
      },
      "execution_count": null,
      "outputs": [
        {
          "output_type": "execute_result",
          "data": {
            "text/plain": [
              "SVC(kernel='sigmoid')"
            ],
            "text/html": [
              "<style>#sk-container-id-12 {color: black;background-color: white;}#sk-container-id-12 pre{padding: 0;}#sk-container-id-12 div.sk-toggleable {background-color: white;}#sk-container-id-12 label.sk-toggleable__label {cursor: pointer;display: block;width: 100%;margin-bottom: 0;padding: 0.3em;box-sizing: border-box;text-align: center;}#sk-container-id-12 label.sk-toggleable__label-arrow:before {content: \"▸\";float: left;margin-right: 0.25em;color: #696969;}#sk-container-id-12 label.sk-toggleable__label-arrow:hover:before {color: black;}#sk-container-id-12 div.sk-estimator:hover label.sk-toggleable__label-arrow:before {color: black;}#sk-container-id-12 div.sk-toggleable__content {max-height: 0;max-width: 0;overflow: hidden;text-align: left;background-color: #f0f8ff;}#sk-container-id-12 div.sk-toggleable__content pre {margin: 0.2em;color: black;border-radius: 0.25em;background-color: #f0f8ff;}#sk-container-id-12 input.sk-toggleable__control:checked~div.sk-toggleable__content {max-height: 200px;max-width: 100%;overflow: auto;}#sk-container-id-12 input.sk-toggleable__control:checked~label.sk-toggleable__label-arrow:before {content: \"▾\";}#sk-container-id-12 div.sk-estimator input.sk-toggleable__control:checked~label.sk-toggleable__label {background-color: #d4ebff;}#sk-container-id-12 div.sk-label input.sk-toggleable__control:checked~label.sk-toggleable__label {background-color: #d4ebff;}#sk-container-id-12 input.sk-hidden--visually {border: 0;clip: rect(1px 1px 1px 1px);clip: rect(1px, 1px, 1px, 1px);height: 1px;margin: -1px;overflow: hidden;padding: 0;position: absolute;width: 1px;}#sk-container-id-12 div.sk-estimator {font-family: monospace;background-color: #f0f8ff;border: 1px dotted black;border-radius: 0.25em;box-sizing: border-box;margin-bottom: 0.5em;}#sk-container-id-12 div.sk-estimator:hover {background-color: #d4ebff;}#sk-container-id-12 div.sk-parallel-item::after {content: \"\";width: 100%;border-bottom: 1px solid gray;flex-grow: 1;}#sk-container-id-12 div.sk-label:hover label.sk-toggleable__label {background-color: #d4ebff;}#sk-container-id-12 div.sk-serial::before {content: \"\";position: absolute;border-left: 1px solid gray;box-sizing: border-box;top: 0;bottom: 0;left: 50%;z-index: 0;}#sk-container-id-12 div.sk-serial {display: flex;flex-direction: column;align-items: center;background-color: white;padding-right: 0.2em;padding-left: 0.2em;position: relative;}#sk-container-id-12 div.sk-item {position: relative;z-index: 1;}#sk-container-id-12 div.sk-parallel {display: flex;align-items: stretch;justify-content: center;background-color: white;position: relative;}#sk-container-id-12 div.sk-item::before, #sk-container-id-12 div.sk-parallel-item::before {content: \"\";position: absolute;border-left: 1px solid gray;box-sizing: border-box;top: 0;bottom: 0;left: 50%;z-index: -1;}#sk-container-id-12 div.sk-parallel-item {display: flex;flex-direction: column;z-index: 1;position: relative;background-color: white;}#sk-container-id-12 div.sk-parallel-item:first-child::after {align-self: flex-end;width: 50%;}#sk-container-id-12 div.sk-parallel-item:last-child::after {align-self: flex-start;width: 50%;}#sk-container-id-12 div.sk-parallel-item:only-child::after {width: 0;}#sk-container-id-12 div.sk-dashed-wrapped {border: 1px dashed gray;margin: 0 0.4em 0.5em 0.4em;box-sizing: border-box;padding-bottom: 0.4em;background-color: white;}#sk-container-id-12 div.sk-label label {font-family: monospace;font-weight: bold;display: inline-block;line-height: 1.2em;}#sk-container-id-12 div.sk-label-container {text-align: center;}#sk-container-id-12 div.sk-container {/* jupyter's `normalize.less` sets `[hidden] { display: none; }` but bootstrap.min.css set `[hidden] { display: none !important; }` so we also need the `!important` here to be able to override the default hidden behavior on the sphinx rendered scikit-learn.org. See: https://github.com/scikit-learn/scikit-learn/issues/21755 */display: inline-block !important;position: relative;}#sk-container-id-12 div.sk-text-repr-fallback {display: none;}</style><div id=\"sk-container-id-12\" class=\"sk-top-container\"><div class=\"sk-text-repr-fallback\"><pre>SVC(kernel=&#x27;sigmoid&#x27;)</pre><b>In a Jupyter environment, please rerun this cell to show the HTML representation or trust the notebook. <br />On GitHub, the HTML representation is unable to render, please try loading this page with nbviewer.org.</b></div><div class=\"sk-container\" hidden><div class=\"sk-item\"><div class=\"sk-estimator sk-toggleable\"><input class=\"sk-toggleable__control sk-hidden--visually\" id=\"sk-estimator-id-12\" type=\"checkbox\" checked><label for=\"sk-estimator-id-12\" class=\"sk-toggleable__label sk-toggleable__label-arrow\">SVC</label><div class=\"sk-toggleable__content\"><pre>SVC(kernel=&#x27;sigmoid&#x27;)</pre></div></div></div></div></div>"
            ]
          },
          "metadata": {},
          "execution_count": 57
        }
      ]
    },
    {
      "cell_type": "code",
      "source": [
        "y_predict = classifier.predict(X_test)\n",
        "y_predict"
      ],
      "metadata": {
        "colab": {
          "base_uri": "https://localhost:8080/"
        },
        "id": "zjwwRMt3fGZB",
        "outputId": "e23bacfb-bc2d-421e-d528-af8d935d9c72"
      },
      "execution_count": null,
      "outputs": [
        {
          "output_type": "execute_result",
          "data": {
            "text/plain": [
              "array([1, 0, 0, 0, 1, 0, 0, 1, 0, 0, 1, 1, 1, 0, 1, 0, 1, 1, 0, 1, 0, 0,\n",
              "       1, 1, 1, 1, 0, 0, 1, 0, 1, 1, 0, 1, 0, 0, 1, 0, 1, 0, 1, 1, 1, 0,\n",
              "       0, 1, 0, 0, 1, 0, 1, 0, 0, 1, 0, 1, 0, 0, 0, 1, 0, 0, 0, 0, 1, 0,\n",
              "       0, 1, 0, 0, 1, 1, 1, 1, 1, 0, 0, 0, 0, 1, 0, 0, 0, 1, 0, 1, 0, 0,\n",
              "       0, 1, 1, 0, 0, 0, 1, 0, 1, 1, 1, 0, 0, 0, 0, 0, 1, 0, 1, 0, 0, 0,\n",
              "       1, 1, 1, 1, 0, 0, 1, 0, 0, 1, 1, 1, 1, 0, 0, 0, 0, 1, 1, 1, 1, 0,\n",
              "       0, 1, 1, 0, 1, 0, 0, 0, 0, 1, 1, 0, 1, 0, 0, 0, 0, 0, 0, 1, 0, 0,\n",
              "       1, 1, 0, 0, 0, 1, 1, 0, 1, 1, 1, 1, 1, 0, 0, 1, 1, 1, 1, 0, 1, 0,\n",
              "       0, 0, 0, 1, 1, 1, 1, 1, 1, 0, 0, 1, 0, 1, 0, 1, 0, 0, 0, 1, 0, 1,\n",
              "       0, 1])"
            ]
          },
          "metadata": {},
          "execution_count": 58
        }
      ]
    },
    {
      "cell_type": "code",
      "source": [
        "from sklearn.metrics import accuracy_score\n",
        "from sklearn.metrics import precision_score\n",
        "from sklearn.metrics import recall_score\n",
        "\n",
        "score1 = accuracy_score(y_test,y_predict)\n",
        "score2 = precision_score(y_test,y_predict)\n",
        "score3 = recall_score(y_test,y_predict)\n",
        "\n",
        "print(f\"The accuracy score for the model is {score1*100}%\")\n",
        "print(f\"The precision score for the model is {score2*100}%\")\n",
        "print(f\"The recall score for the model is {score3*100}%\")"
      ],
      "metadata": {
        "colab": {
          "base_uri": "https://localhost:8080/"
        },
        "id": "758k96AWfJ2h",
        "outputId": "54ecd817-aee3-4c5d-a132-f05810f9dffa"
      },
      "execution_count": null,
      "outputs": [
        {
          "output_type": "stream",
          "name": "stdout",
          "text": [
            "The accuracy score for the model is 77.5%\n",
            "The precision score for the model is 79.56989247311827%\n",
            "The recall score for the model is 74.0%\n"
          ]
        }
      ]
    },
    {
      "cell_type": "markdown",
      "source": [
        "<h3>Hyperparameter Tuning</h3>"
      ],
      "metadata": {
        "id": "lRY3OMowejKP"
      }
    },
    {
      "cell_type": "code",
      "source": [
        "best_score = 0.0\n",
        "g = 0\n",
        "for i in range (0,100):\n",
        "  classifier = SVC(kernel='linear',gamma=i)\n",
        "  classifier.fit(X_train,y_train)\n",
        "  y_predict = classifier.predict(X_test)\n",
        "  score = accuracy_score(y_test,y_predict)\n",
        "  if score > best_score:\n",
        "    best_score = score\n",
        "    g = i\n",
        "\n",
        "print(\"Best accuracy Score is \"+str(best_score*100)+\" for neighbours \"+str(g))"
      ],
      "metadata": {
        "colab": {
          "base_uri": "https://localhost:8080/"
        },
        "id": "bLE3V8fhgkZs",
        "outputId": "63ebc40b-6014-4d7c-ab27-342358f8e1a4"
      },
      "execution_count": null,
      "outputs": [
        {
          "output_type": "stream",
          "name": "stdout",
          "text": [
            "Best accuracy Score is 76.5 for neighbours 0\n"
          ]
        }
      ]
    },
    {
      "cell_type": "markdown",
      "source": [
        "*Note : The best model is before we do hyperparameter tuning so we will use the same model before the tuning.*"
      ],
      "metadata": {
        "id": "P4ocW1hcfTJK"
      }
    },
    {
      "cell_type": "markdown",
      "source": [
        "<h3>Testing the model against random inputs.</h3>"
      ],
      "metadata": {
        "id": "dA-XR9cHfu_E"
      }
    },
    {
      "cell_type": "code",
      "source": [
        "def predict_sentiment(sample_review):\n",
        "  sample_review = re.sub(pattern='[^a-zA-Z]',repl=' ',string = sample_review)\n",
        "  sample_review = sample_review.lower()\n",
        "  sample_review_words = sample_review.split()\n",
        "  sample_review_words = [ word for word in sample_review_words if not word in set(stopwords.words('english'))]\n",
        "  final_review = [ps().stem(word) for word in sample_review_words]\n",
        "  final_review = ' '.join(final_review)\n",
        "\n",
        "  temp = cv.transform([final_review]).toarray()\n",
        "  return classifier.predict(temp)"
      ],
      "metadata": {
        "id": "YXe8-fAffLu4"
      },
      "execution_count": null,
      "outputs": []
    },
    {
      "cell_type": "code",
      "source": [
        "sample_review = ['The food is really wonderful',\n",
        "                 'The food is bad and service is also not good',\n",
        "                 'Not tasty and the texture was just nasty',\n",
        "                 'Highly recommended',\n",
        "                 'The worst was the salmon sashimi']\n",
        "i=1\n",
        "for sample in sample_review:\n",
        "  if predict_sentiment(sample):\n",
        "    print(f'The review {i} is Positive')\n",
        "  else:\n",
        "    print(f'The review {i} is Negative')\n",
        "  i+=1"
      ],
      "metadata": {
        "colab": {
          "base_uri": "https://localhost:8080/"
        },
        "id": "80a2NO0Ufq7_",
        "outputId": "bc471788-854e-48f8-e869-126ba3b89e64"
      },
      "execution_count": null,
      "outputs": [
        {
          "output_type": "stream",
          "name": "stdout",
          "text": [
            "The review 1 is Positive\n",
            "The review 2 is Positive\n",
            "The review 3 is Negative\n",
            "The review 4 is Positive\n",
            "The review 5 is Negative\n"
          ]
        }
      ]
    },
    {
      "cell_type": "markdown",
      "source": [
        "# **Conclusion**\n",
        "\n",
        "![image.png](data:image/png;base64,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)"
      ],
      "metadata": {
        "id": "bSXAHZk0t5X_"
      }
    },
    {
      "cell_type": "markdown",
      "source": [
        "# **Analysis and Conclusion**\n",
        "In this study, an attempt has been made to classify sentiment analysis for restaurant reviews using machine learning techniques. Seven algorithms namely Multinomial Naive Bayes, Logistic Regression, Decision Tree Classifier, Random Forest Classifier, Extra Tree Classifier, K Neighbors Classifier, Support Vector Classification  \n",
        "\n",
        "# Evaluation metrics used here are accuracy, precision and recall.\n",
        "\n",
        "Using **Multinomial Naive Bayes**,\n",
        "\n",
        "- Accuracy of prediction is 76.5%\n",
        "\n",
        "- Precision of prediction is 76.41509433962264%\n",
        "\n",
        "- Recall of prediction is 78.64077669902912%\n",
        "\n",
        "Using **Logistic Regression**\n",
        "\n",
        "- The accuracy score for the model is 77.5%\n",
        "\n",
        "- The precision score for the model is 77.22772277227723%\n",
        "\n",
        "- The recall score for the model is 78.0%\n",
        "\n",
        "Using **Decision Tree Classifier**\n",
        "\n",
        "- The accuracy score for the model is 57.99999999999999%\n",
        "\n",
        "- The precision score for the model is 100.0%\n",
        "\n",
        "- The recall score for the model is 16.0%\n",
        "\n",
        "Using **Random Forest Classifier**\n",
        "\n",
        "- The accuracy score for the model is 77.0%\n",
        "\n",
        "- The precision score for the model is 80.68181818181817%\n",
        "\n",
        "- The recall score for the model is 71.0%\n",
        "\n",
        "Using **Extra Tree Classifier**\n",
        "\n",
        "- The accuracy score for the model is 77.5%\n",
        "\n",
        "- The precision score for the model is 78.94736842105263%\n",
        "\n",
        "- The recall score for the model is 75.0%\n",
        "\n",
        "Using **K Neighbors Classifier**\n",
        "\n",
        "- The accuracy score for the model is 63.5%\n",
        "\n",
        "- The precision score for the model is 69.56521739130434%\n",
        "\n",
        "- The recall score for the model is 48.0%\n",
        "\n",
        "Using **Support Vector Classification (SVC)**\n",
        "\n",
        "- The accuracy score for the model is 77.5%\n",
        "\n",
        "- The precision score for the model is 79.56989247311827%\n",
        "\n",
        "- The recall score for the model is 74.0%"
      ],
      "metadata": {
        "id": "Q3y5FxgkbB9J"
      }
    }
  ]
}